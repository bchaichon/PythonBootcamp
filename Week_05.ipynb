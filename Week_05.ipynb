{
 "cells": [
  {
   "cell_type": "code",
   "execution_count": 8,
   "metadata": {},
   "outputs": [
    {
     "name": "stdout",
     "output_type": "stream",
     "text": [
      "honk\n",
      "8763984811867\n"
     ]
    }
   ],
   "source": [
    "# OOP\n",
    "class Car():\n",
    "    sound = \"beep\"\n",
    "    color = \"red\"\n",
    "\n",
    "ford = Car()\n",
    "# variable ford\n",
    "ford.sound = \"honk\"\n",
    "print(ford.sound)\n",
    "\n",
    "subaru = Car()\n",
    "print(hash(subaru))\n"
   ]
  },
  {
   "cell_type": "code",
   "execution_count": 13,
   "metadata": {},
   "outputs": [
    {
     "name": "stdout",
     "output_type": "stream",
     "text": [
      "blue 2016 beep\n"
     ]
    }
   ],
   "source": [
    "class Car():\n",
    "    sound = \"beep\"\n",
    "    def __init__(self, color, year):\n",
    "        self.color = color\n",
    "        self.year = year\n",
    "        \n",
    "ford = Car(\"blue\", 2016)\n",
    "print(ford.color, ford.year, ford.sound)"
   ]
  },
  {
   "cell_type": "code",
   "execution_count": 24,
   "metadata": {},
   "outputs": [
    {
     "name": "stdout",
     "output_type": "stream",
     "text": [
      "bark\n",
      "Sammi\n",
      "6\n",
      "Puppy!\n",
      "This is a dog class\n"
     ]
    }
   ],
   "source": [
    "class Dog():\n",
    "    sound = \"bark\"\n",
    "    name = ''\n",
    "    age = 5\n",
    "    \n",
    "    def setName(self, new_name):\n",
    "        self.name = new_name\n",
    "        \n",
    "    def getName(self):\n",
    "        return self.name\n",
    "        \n",
    "    def makeSound(self):\n",
    "        print(self.sound)\n",
    "        \n",
    "    def happyBirthDay(self):\n",
    "        self.age += 1\n",
    "        \n",
    "    def getAge(self):\n",
    "        return self.age\n",
    "    \n",
    "    def printInfo(self):\n",
    "        if self.getAge() < 10:\n",
    "            print(\"Puppy!\")\n",
    "            \n",
    "    def __str__(self):\n",
    "        return \"This is a dog class\"\n",
    "        \n",
    "# Dog.printInfo()\n",
    "sam = Dog()\n",
    "sam.makeSound()\n",
    "sam.setName(\"Sammi\")\n",
    "print(sam.getName())\n",
    "sam.happyBirthDay()\n",
    "print(sam.age)\n",
    "sam.printInfo()\n",
    "print(sam)"
   ]
  },
  {
   "cell_type": "code",
   "execution_count": 31,
   "metadata": {},
   "outputs": [
    {
     "name": "stdout",
     "output_type": "stream",
     "text": [
      "bark\n",
      "Canine\n",
      "roar\n"
     ]
    }
   ],
   "source": [
    "class Animal:\n",
    "    def __init__(self, species):\n",
    "        self.species = species\n",
    "\n",
    "    def makeSound(self):\n",
    "        print(\"roar\")\n",
    "        \n",
    "\n",
    "class Dog(Animal):\n",
    "    # species = \"Canine\"\n",
    "    \n",
    "    def __init__(self, species, name):\n",
    "        self.name = name\n",
    "        super().__init__(species)\n",
    "        \n",
    "    def makeSound(self):\n",
    "        print(\"bark\")\n",
    "\n",
    "\n",
    "sam = Dog(\"Canine\", \"Sammi\")\n",
    "sam.makeSound()\n",
    "print(sam.species)\n",
    "\n",
    "lion = Animal(\"Lion\")\n",
    "lion.makeSound()"
   ]
  },
  {
   "cell_type": "code",
   "execution_count": 32,
   "metadata": {},
   "outputs": [
    {
     "name": "stdout",
     "output_type": "stream",
     "text": [
      "==================================================\n"
     ]
    }
   ],
   "source": [
    "print(\"=\"*50)"
   ]
  },
  {
   "cell_type": "code",
   "execution_count": 33,
   "metadata": {},
   "outputs": [
    {
     "name": "stdout",
     "output_type": "stream",
     "text": [
      "9.8 Ford\n"
     ]
    }
   ],
   "source": [
    "class Physics():\n",
    "    gravity = 9.8\n",
    "    \n",
    "class Automobile():\n",
    "    def __init__(self, make, model, year):\n",
    "        self.make, self.model, self.year = make, model, year\n",
    "        \n",
    "class Ford(Physics, Automobile):\n",
    "    def __init__(self, model, year):\n",
    "        Automobile.__init__(self, \"Ford\", model, year)\n",
    "        \n",
    "truck = Ford(\"F-150\", 2018)\n",
    "print(truck.gravity, truck.make)"
   ]
  },
  {
   "cell_type": "code",
   "execution_count": 34,
   "metadata": {},
   "outputs": [
    {
     "name": "stdout",
     "output_type": "stream",
     "text": [
      "==================================================\n"
     ]
    }
   ],
   "source": [
    "print(\"=\"*50)"
   ]
  },
  {
   "cell_type": "code",
   "execution_count": 44,
   "metadata": {},
   "outputs": [],
   "source": [
    "from random import randint\n",
    "from IPython.display import clear_output\n",
    "\n",
    "class Blackjack():\n",
    "    def __init__(self):\n",
    "        self.deck = []\n",
    "        self.suits = (\"Spades\", \"Hearts\", \"Diamonds\", \"Clubs\")\n",
    "        self.values = (2, 3, 4, 5, 6, 7, 8, 9, 10, \"J\", \"Q\", \"K\", \"A\")\n",
    "        \n",
    "    def makeDeck(self):\n",
    "        for suit in self.suits:\n",
    "            for value in self.values:\n",
    "                self.deck.append((value, suit))\n",
    "                \n",
    "    def pullCard(self):\n",
    "        return self.deck.pop(randint(0, len(self.deck) - 1))\n",
    "\n",
    "#game = Blackjack()\n",
    "#game.makeDeck()\n",
    "#print(bj.suits)\n",
    "#print(bj.deck)\n",
    "#print(game.pullCard(), len(game.deck))\n"
   ]
  },
  {
   "cell_type": "code",
   "execution_count": 45,
   "metadata": {},
   "outputs": [
    {
     "name": "stdout",
     "output_type": "stream",
     "text": [
      "What is your name?chon\n",
      "chon Dealer\n",
      "\n",
      "chon\n",
      "==============\n",
      "6 of Diamonds\n",
      "Total = 8\n",
      "2 of Hearts\n",
      "Total = 8\n",
      "\n",
      "Dealer\n",
      "==============\n",
      "- of -\n",
      "Total = 15\n",
      "Q of Spades\n",
      "Total = 15\n"
     ]
    }
   ],
   "source": [
    "class Player():\n",
    "    def __init__(self, name):\n",
    "        self.name = name\n",
    "        self.hand = []\n",
    "        \n",
    "    def addCard(self, card):\n",
    "        self.hand.append(card)\n",
    "        \n",
    "    def showHand(self, dealer_start=True):\n",
    "        print(\"\\n{}\".format(self.name))\n",
    "        print(\"==============\")\n",
    "        for i in range(len(self.hand)):\n",
    "            if self.name == \"Dealer\" and i == 0 and dealer_start == True:\n",
    "                print(\"- of -\")\n",
    "            else:\n",
    "                card = self.hand[i]\n",
    "                print(\"{} of {}\".format(card[0], card[1]))\n",
    "            print(\"Total = {}\".format(self.calcHand(dealer_start)))\n",
    "            \n",
    "    def calcHand(self, dealer_start = True):\n",
    "        total = 0\n",
    "        aces = 0\n",
    "        card_values = {1:1, 2:2, 3:3, 4:4, 5:5, 6:6, 7:7, 8:8, 9:9, 10:10, \"J\":10, \"Q\":10, \"K\":10, \"A\":11}\n",
    "        if self.name == \"Dealer and dealer_start\":\n",
    "            card = self.hand[1]\n",
    "            return card_values[card[0]]\n",
    "        for card in self.hand:\n",
    "            if card[0] == \"A\":\n",
    "                aces += 1\n",
    "            else:\n",
    "                total += card_values[card[0]]\n",
    "        for i in range(aces):\n",
    "            if total + 11 > 21:\n",
    "                total += 1\n",
    "            else:\n",
    "                total += 11\n",
    "        return total\n",
    "\n",
    "                \n",
    "game = Blackjack()\n",
    "game.makeDeck()\n",
    "name = input(\"What is your name?\")\n",
    "\n",
    "player = Player(name)\n",
    "dealer = Player(\"Dealer\")\n",
    "print(player.name, dealer.name)\n",
    "\n",
    "for i in range(2):\n",
    "    player.addCard(game.pullCard())\n",
    "    dealer.addCard(game.pullCard())\n",
    "    \n",
    "# print(\"Player Hand: {} \\nDealer Hand: {}\".format(player.hand, dealer.hand))\n",
    "player.showHand()\n",
    "dealer.showHand()"
   ]
  },
  {
   "cell_type": "code",
   "execution_count": 46,
   "metadata": {},
   "outputs": [
    {
     "name": "stdout",
     "output_type": "stream",
     "text": [
      "\n",
      "chon\n",
      "==============\n",
      "6 of Diamonds\n",
      "Total = 16\n",
      "2 of Hearts\n",
      "Total = 16\n",
      "8 of Hearts\n",
      "Total = 16\n",
      "\n",
      "Dealer\n",
      "==============\n",
      "- of -\n",
      "Total = 15\n",
      "Q of Spades\n",
      "Total = 15\n",
      "You win!\n",
      "Would you like to stay of hit?stay\n"
     ]
    }
   ],
   "source": [
    "player_bust = False\n",
    "while input(\"Would you like to stay of hit?\").lower() != \"stay\":\n",
    "    clear_output()\n",
    "    player.addCard(game.pullCard())\n",
    "    player.showHand()\n",
    "    dealer.showHand()\n",
    "    if player.calcHand() > 21:\n",
    "        player_bust = True\n",
    "        print(\"You lose!\")\n",
    "        break\n",
    "    \n",
    "    dealer_bust = False\n",
    "    if not player_bust:\n",
    "        while dealer.calcHand(False) < 17:\n",
    "            dealer.addCard(game.pullCard())\n",
    "            if dealer.calcHand(False) > 21:\n",
    "                dealer_bust = True\n",
    "                print(\"You win!\")\n",
    "                break\n"
   ]
  },
  {
   "cell_type": "code",
   "execution_count": 47,
   "metadata": {},
   "outputs": [
    {
     "name": "stdout",
     "output_type": "stream",
     "text": [
      "The dealer busted, you win!\n"
     ]
    }
   ],
   "source": [
    "if player_bust:\n",
    "    print(\"You busted, better luck next time!\")\n",
    "elif dealer_bust:\n",
    "    print(\"The dealer busted, you win!\")\n",
    "elif dealer.calcHand(False) > player.calcHand():\n",
    "    print(\"Dealer has higher cards, you lose!\")\n",
    "elif dealer.calcHand(False) < player.calcHand():\n",
    "    print(\"You beat the dealer! Congrats!\")\n",
    "else:\n",
    "    print(\"You pushed, no one wins!\")"
   ]
  },
  {
   "cell_type": "code",
   "execution_count": null,
   "metadata": {},
   "outputs": [],
   "source": []
  }
 ],
 "metadata": {
  "kernelspec": {
   "display_name": "Python 3",
   "language": "python",
   "name": "python3"
  },
  "language_info": {
   "codemirror_mode": {
    "name": "ipython",
    "version": 3
   },
   "file_extension": ".py",
   "mimetype": "text/x-python",
   "name": "python",
   "nbconvert_exporter": "python",
   "pygments_lexer": "ipython3",
   "version": "3.8.5"
  }
 },
 "nbformat": 4,
 "nbformat_minor": 4
}
