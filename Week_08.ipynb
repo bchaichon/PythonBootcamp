{
 "cells": [
  {
   "cell_type": "code",
   "execution_count": 5,
   "metadata": {},
   "outputs": [
    {
     "name": "stdout",
     "output_type": "stream",
     "text": [
      "Bubble Sort: 4.72887921333313\n",
      "insertion Sort: 7.104873657226562e-05\n",
      "Bubble > 4.728808164596558\n"
     ]
    }
   ],
   "source": [
    "def bubbleSort(aList):\n",
    "    for i in range(len(aList)):\n",
    "        switched = False\n",
    "        for j in range(len(aList)-1):\n",
    "            if aList[j] > aList[j+1]:\n",
    "                aList[j], aList[j+1] = aList[j+1], aList[j]\n",
    "                switched = True\n",
    "        if switched == False:\n",
    "            break\n",
    "    return aList\n",
    "\n",
    "def insertionSort(aList):\n",
    "    for i in range(1, len(aList)):\n",
    "        if aList[i] < aList[i-1]:\n",
    "            for j in range(i,0,-1):\n",
    "                if aList[j] < aList[j-1]:\n",
    "                    aList[j], aList[j+1] = aList[j+1], aList[j]\n",
    "        else:\n",
    "            break\n",
    "    return aList\n",
    "\n",
    "import time\n",
    "from random import randint\n",
    "nums = [randint(0, 100) for x in range(5000)]\n",
    "\n",
    "start_time = time.time()\n",
    "bubbleSort(nums)\n",
    "end_time1 = time.time() - start_time\n",
    "print('Bubble Sort: {}'.format(end_time1))\n",
    "\n",
    "\n",
    "start_time = time.time()\n",
    "insertionSort(nums)\n",
    "end_time2 = time.time() - start_time\n",
    "print('insertion Sort: {}'.format(end_time2))\n",
    "\n",
    "if end_time1 > end_time2:\n",
    "    print(\"Bubble > {}\".format(end_time1-end_time2))\n",
    "else:\n",
    "    print(\"Insertion\")\n"
   ]
  },
  {
   "cell_type": "code",
   "execution_count": 10,
   "metadata": {},
   "outputs": [
    {
     "name": "stdout",
     "output_type": "stream",
     "text": [
      "key: total_count \t\t\tvalue: 711809\n",
      "key: incomplete_results \t\t\tvalue: False\n",
      "key: items \t\t\tvalue: [{'id': 23096959, 'node_id': 'MDEwOlJlcG9zaXRvcnkyMzA5Njk1OQ==', 'name': 'go', 'full_name': 'golang/go', 'private': False, 'owner': {'login': 'golang', 'id': 4314092, 'node_id': 'MDEyOk9yZ2FuaXphdGlvbjQzMTQwOTI=', 'avatar_url': 'https://avatars3.githubusercontent.com/u/4314092?v=4', 'gravatar_id': '', 'url': 'https://api.github.com/users/golang', 'html_url': 'https://github.com/golang', 'followers_url': 'https://api.github.com/users/golang/followers', 'following_url': 'https://api.github.com/users/golang/following{/other_user}', 'gists_url': 'https://api.github.com/users/golang/gists{/gist_id}', 'starred_url': 'https://api.github.com/users/golang/starred{/owner}{/repo}', 'subscriptions_url': 'https://api.github.com/users/golang/subscriptions', 'organizations_url': 'https://api.github.com/users/golang/orgs', 'repos_url': 'https://api.github.com/users/golang/repos', 'events_url': 'https://api.github.com/users/golang/events{/privacy}', 'received_events_url': 'https://api.github.com/users/golang/received_events', 'type': 'Organization', 'site_admin': False}, 'html_url': 'https://github.com/golang/go', 'description': 'The Go programming language', 'fork': False, 'url': 'https://api.github.com/repos/golang/go', 'forks_url': 'https://api.github.com/repos/golang/go/forks', 'keys_url': 'https://api.github.com/repos/golang/go/keys{/key_id}', 'collaborators_url': 'https://api.github.com/repos/golang/go/collaborators{/collaborator}', 'teams_url': 'https://api.github.com/repos/golang/go/teams', 'hooks_url': 'https://api.github.com/repos/golang/go/hooks', 'issue_events_url': 'https://api.github.com/repos/golang/go/issues/events{/number}', 'events_url': 'https://api.github.com/repos/golang/go/events', 'assignees_url': 'https://api.github.com/repos/golang/go/assignees{/user}', 'branches_url': 'https://api.github.com/repos/golang/go/branches{/branch}', 'tags_url': 'https://api.github.com/repos/golang/go/tags', 'blobs_url': 'https://api.github.com/repos/golang/go/git/blobs{/sha}', 'git_tags_url': 'https://api.github.com/repos/golang/go/git/tags{/sha}', 'git_refs_url': 'https://api.github.com/repos/golang/go/git/refs{/sha}', 'trees_url': 'https://api.github.com/repos/golang/go/git/trees{/sha}', 'statuses_url': 'https://api.github.com/repos/golang/go/statuses/{sha}', 'languages_url': 'https://api.github.com/repos/golang/go/languages', 'stargazers_url': 'https://api.github.com/repos/golang/go/stargazers', 'contributors_url': 'https://api.github.com/repos/golang/go/contributors', 'subscribers_url': 'https://api.github.com/repos/golang/go/subscribers', 'subscription_url': 'https://api.github.com/repos/golang/go/subscription', 'commits_url': 'https://api.github.com/repos/golang/go/commits{/sha}', 'git_commits_url': 'https://api.github.com/repos/golang/go/git/commits{/sha}', 'comments_url': 'https://api.github.com/repos/golang/go/comments{/number}', 'issue_comment_url': 'https://api.github.com/repos/golang/go/issues/comments{/number}', 'contents_url': 'https://api.github.com/repos/golang/go/contents/{+path}', 'compare_url': 'https://api.github.com/repos/golang/go/compare/{base}...{head}', 'merges_url': 'https://api.github.com/repos/golang/go/merges', 'archive_url': 'https://api.github.com/repos/golang/go/{archive_format}{/ref}', 'downloads_url': 'https://api.github.com/repos/golang/go/downloads', 'issues_url': 'https://api.github.com/repos/golang/go/issues{/number}', 'pulls_url': 'https://api.github.com/repos/golang/go/pulls{/number}', 'milestones_url': 'https://api.github.com/repos/golang/go/milestones{/number}', 'notifications_url': 'https://api.github.com/repos/golang/go/notifications{?since,all,participating}', 'labels_url': 'https://api.github.com/repos/golang/go/labels{/name}', 'releases_url': 'https://api.github.com/repos/golang/go/releases{/id}', 'deployments_url': 'https://api.github.com/repos/golang/go/deployments', 'created_at': '2014-08-19T04:33:40Z', 'updated_at': '2020-12-05T16:46:24Z', 'pushed_at': '2020-12-05T16:21:33Z', 'git_url': 'git://github.com/golang/go.git', 'ssh_url': 'git@github.com:golang/go.git', 'clone_url': 'https://github.com/golang/go.git', 'svn_url': 'https://github.com/golang/go', 'homepage': 'https://golang.org', 'size': 233956, 'stargazers_count': 79511, 'watchers_count': 79511, 'language': 'Go', 'has_issues': True, 'has_projects': True, 'has_downloads': True, 'has_wiki': True, 'has_pages': False, 'forks_count': 11529, 'mirror_url': None, 'archived': False, 'disabled': False, 'open_issues_count': 6555, 'license': {'key': 'other', 'name': 'Other', 'spdx_id': 'NOASSERTION', 'url': None, 'node_id': 'MDc6TGljZW5zZTA='}, 'forks': 11529, 'open_issues': 6555, 'watchers': 79511, 'default_branch': 'master', 'score': 1.0}, {'id': 20580498, 'node_id': 'MDEwOlJlcG9zaXRvcnkyMDU4MDQ5OA==', 'name': 'kubernetes', 'full_name': 'kubernetes/kubernetes', 'private': False, 'owner': {'login': 'kubernetes', 'id': 13629408, 'node_id': 'MDEyOk9yZ2FuaXphdGlvbjEzNjI5NDA4', 'avatar_url': 'https://avatars2.githubusercontent.com/u/13629408?v=4', 'gravatar_id': '', 'url': 'https://api.github.com/users/kubernetes', 'html_url': 'https://github.com/kubernetes', 'followers_url': 'https://api.github.com/users/kubernetes/followers', 'following_url': 'https://api.github.com/users/kubernetes/following{/other_user}', 'gists_url': 'https://api.github.com/users/kubernetes/gists{/gist_id}', 'starred_url': 'https://api.github.com/users/kubernetes/starred{/owner}{/repo}', 'subscriptions_url': 'https://api.github.com/users/kubernetes/subscriptions', 'organizations_url': 'https://api.github.com/users/kubernetes/orgs', 'repos_url': 'https://api.github.com/users/kubernetes/repos', 'events_url': 'https://api.github.com/users/kubernetes/events{/privacy}', 'received_events_url': 'https://api.github.com/users/kubernetes/received_events', 'type': 'Organization', 'site_admin': False}, 'html_url': 'https://github.com/kubernetes/kubernetes', 'description': 'Production-Grade Container Scheduling and Management', 'fork': False, 'url': 'https://api.github.com/repos/kubernetes/kubernetes', 'forks_url': 'https://api.github.com/repos/kubernetes/kubernetes/forks', 'keys_url': 'https://api.github.com/repos/kubernetes/kubernetes/keys{/key_id}', 'collaborators_url': 'https://api.github.com/repos/kubernetes/kubernetes/collaborators{/collaborator}', 'teams_url': 'https://api.github.com/repos/kubernetes/kubernetes/teams', 'hooks_url': 'https://api.github.com/repos/kubernetes/kubernetes/hooks', 'issue_events_url': 'https://api.github.com/repos/kubernetes/kubernetes/issues/events{/number}', 'events_url': 'https://api.github.com/repos/kubernetes/kubernetes/events', 'assignees_url': 'https://api.github.com/repos/kubernetes/kubernetes/assignees{/user}', 'branches_url': 'https://api.github.com/repos/kubernetes/kubernetes/branches{/branch}', 'tags_url': 'https://api.github.com/repos/kubernetes/kubernetes/tags', 'blobs_url': 'https://api.github.com/repos/kubernetes/kubernetes/git/blobs{/sha}', 'git_tags_url': 'https://api.github.com/repos/kubernetes/kubernetes/git/tags{/sha}', 'git_refs_url': 'https://api.github.com/repos/kubernetes/kubernetes/git/refs{/sha}', 'trees_url': 'https://api.github.com/repos/kubernetes/kubernetes/git/trees{/sha}', 'statuses_url': 'https://api.github.com/repos/kubernetes/kubernetes/statuses/{sha}', 'languages_url': 'https://api.github.com/repos/kubernetes/kubernetes/languages', 'stargazers_url': 'https://api.github.com/repos/kubernetes/kubernetes/stargazers', 'contributors_url': 'https://api.github.com/repos/kubernetes/kubernetes/contributors', 'subscribers_url': 'https://api.github.com/repos/kubernetes/kubernetes/subscribers', 'subscription_url': 'https://api.github.com/repos/kubernetes/kubernetes/subscription', 'commits_url': 'https://api.github.com/repos/kubernetes/kubernetes/commits{/sha}', 'git_commits_url': 'https://api.github.com/repos/kubernetes/kubernetes/git/commits{/sha}', 'comments_url': 'https://api.github.com/repos/kubernetes/kubernetes/comments{/number}', 'issue_comment_url': 'https://api.github.com/repos/kubernetes/kubernetes/issues/comments{/number}', 'contents_url': 'https://api.github.com/repos/kubernetes/kubernetes/contents/{+path}', 'compare_url': 'https://api.github.com/repos/kubernetes/kubernetes/compare/{base}...{head}', 'merges_url': 'https://api.github.com/repos/kubernetes/kubernetes/merges', 'archive_url': 'https://api.github.com/repos/kubernetes/kubernetes/{archive_format}{/ref}', 'downloads_url': 'https://api.github.com/repos/kubernetes/kubernetes/downloads', 'issues_url': 'https://api.github.com/repos/kubernetes/kubernetes/issues{/number}', 'pulls_url': 'https://api.github.com/repos/kubernetes/kubernetes/pulls{/number}', 'milestones_url': 'https://api.github.com/repos/kubernetes/kubernetes/milestones{/number}', 'notifications_url': 'https://api.github.com/repos/kubernetes/kubernetes/notifications{?since,all,participating}', 'labels_url': 'https://api.github.com/repos/kubernetes/kubernetes/labels{/name}', 'releases_url': 'https://api.github.com/repos/kubernetes/kubernetes/releases{/id}', 'deployments_url': 'https://api.github.com/repos/kubernetes/kubernetes/deployments', 'created_at': '2014-06-06T22:56:04Z', 'updated_at': '2020-12-05T16:42:44Z', 'pushed_at': '2020-12-05T15:03:18Z', 'git_url': 'git://github.com/kubernetes/kubernetes.git', 'ssh_url': 'git@github.com:kubernetes/kubernetes.git', 'clone_url': 'https://github.com/kubernetes/kubernetes.git', 'svn_url': 'https://github.com/kubernetes/kubernetes', 'homepage': 'https://kubernetes.io', 'size': 944041, 'stargazers_count': 72385, 'watchers_count': 72385, 'language': 'Go', 'has_issues': True, 'has_projects': True, 'has_downloads': True, 'has_wiki': False, 'has_pages': False, 'forks_count': 26180, 'mirror_url': None, 'archived': False, 'disabled': False, 'open_issues_count': 2939, 'license': {'key': 'apache-2.0', 'name': 'Apache License 2.0', 'spdx_id': 'Apache-2.0', 'url': 'https://api.github.com/licenses/apache-2.0', 'node_id': 'MDc6TGljZW5zZTI='}, 'forks': 26180, 'open_issues': 2939, 'watchers': 72385, 'default_branch': 'master', 'score': 1.0}, {'id': 21540759, 'node_id': 'MDEwOlJlcG9zaXRvcnkyMTU0MDc1OQ==', 'name': 'awesome-go', 'full_name': 'avelino/awesome-go', 'private': False, 'owner': {'login': 'avelino', 'id': 31996, 'node_id': 'MDQ6VXNlcjMxOTk2', 'avatar_url': 'https://avatars2.githubusercontent.com/u/31996?v=4', 'gravatar_id': '', 'url': 'https://api.github.com/users/avelino', 'html_url': 'https://github.com/avelino', 'followers_url': 'https://api.github.com/users/avelino/followers', 'following_url': 'https://api.github.com/users/avelino/following{/other_user}', 'gists_url': 'https://api.github.com/users/avelino/gists{/gist_id}', 'starred_url': 'https://api.github.com/users/avelino/starred{/owner}{/repo}', 'subscriptions_url': 'https://api.github.com/users/avelino/subscriptions', 'organizations_url': 'https://api.github.com/users/avelino/orgs', 'repos_url': 'https://api.github.com/users/avelino/repos', 'events_url': 'https://api.github.com/users/avelino/events{/privacy}', 'received_events_url': 'https://api.github.com/users/avelino/received_events', 'type': 'User', 'site_admin': False}, 'html_url': 'https://github.com/avelino/awesome-go', 'description': 'A curated list of awesome Go frameworks, libraries and software', 'fork': False, 'url': 'https://api.github.com/repos/avelino/awesome-go', 'forks_url': 'https://api.github.com/repos/avelino/awesome-go/forks', 'keys_url': 'https://api.github.com/repos/avelino/awesome-go/keys{/key_id}', 'collaborators_url': 'https://api.github.com/repos/avelino/awesome-go/collaborators{/collaborator}', 'teams_url': 'https://api.github.com/repos/avelino/awesome-go/teams', 'hooks_url': 'https://api.github.com/repos/avelino/awesome-go/hooks', 'issue_events_url': 'https://api.github.com/repos/avelino/awesome-go/issues/events{/number}', 'events_url': 'https://api.github.com/repos/avelino/awesome-go/events', 'assignees_url': 'https://api.github.com/repos/avelino/awesome-go/assignees{/user}', 'branches_url': 'https://api.github.com/repos/avelino/awesome-go/branches{/branch}', 'tags_url': 'https://api.github.com/repos/avelino/awesome-go/tags', 'blobs_url': 'https://api.github.com/repos/avelino/awesome-go/git/blobs{/sha}', 'git_tags_url': 'https://api.github.com/repos/avelino/awesome-go/git/tags{/sha}', 'git_refs_url': 'https://api.github.com/repos/avelino/awesome-go/git/refs{/sha}', 'trees_url': 'https://api.github.com/repos/avelino/awesome-go/git/trees{/sha}', 'statuses_url': 'https://api.github.com/repos/avelino/awesome-go/statuses/{sha}', 'languages_url': 'https://api.github.com/repos/avelino/awesome-go/languages', 'stargazers_url': 'https://api.github.com/repos/avelino/awesome-go/stargazers', 'contributors_url': 'https://api.github.com/repos/avelino/awesome-go/contributors', 'subscribers_url': 'https://api.github.com/repos/avelino/awesome-go/subscribers', 'subscription_url': 'https://api.github.com/repos/avelino/awesome-go/subscription', 'commits_url': 'https://api.github.com/repos/avelino/awesome-go/commits{/sha}', 'git_commits_url': 'https://api.github.com/repos/avelino/awesome-go/git/commits{/sha}', 'comments_url': 'https://api.github.com/repos/avelino/awesome-go/comments{/number}', 'issue_comment_url': 'https://api.github.com/repos/avelino/awesome-go/issues/comments{/number}', 'contents_url': 'https://api.github.com/repos/avelino/awesome-go/contents/{+path}', 'compare_url': 'https://api.github.com/repos/avelino/awesome-go/compare/{base}...{head}', 'merges_url': 'https://api.github.com/repos/avelino/awesome-go/merges', 'archive_url': 'https://api.github.com/repos/avelino/awesome-go/{archive_format}{/ref}', 'downloads_url': 'https://api.github.com/repos/avelino/awesome-go/downloads', 'issues_url': 'https://api.github.com/repos/avelino/awesome-go/issues{/number}', 'pulls_url': 'https://api.github.com/repos/avelino/awesome-go/pulls{/number}', 'milestones_url': 'https://api.github.com/repos/avelino/awesome-go/milestones{/number}', 'notifications_url': 'https://api.github.com/repos/avelino/awesome-go/notifications{?since,all,participating}', 'labels_url': 'https://api.github.com/repos/avelino/awesome-go/labels{/name}', 'releases_url': 'https://api.github.com/repos/avelino/awesome-go/releases{/id}', 'deployments_url': 'https://api.github.com/repos/avelino/awesome-go/deployments', 'created_at': '2014-07-06T13:42:15Z', 'updated_at': '2020-12-05T15:45:54Z', 'pushed_at': '2020-12-05T10:19:55Z', 'git_url': 'git://github.com/avelino/awesome-go.git', 'ssh_url': 'git@github.com:avelino/awesome-go.git', 'clone_url': 'https://github.com/avelino/awesome-go.git', 'svn_url': 'https://github.com/avelino/awesome-go', 'homepage': 'https://awesome-go.com/', 'size': 8631, 'stargazers_count': 59580, 'watchers_count': 59580, 'language': 'Go', 'has_issues': True, 'has_projects': False, 'has_downloads': True, 'has_wiki': False, 'has_pages': True, 'forks_count': 7900, 'mirror_url': None, 'archived': False, 'disabled': False, 'open_issues_count': 25, 'license': {'key': 'mit', 'name': 'MIT License', 'spdx_id': 'MIT', 'url': 'https://api.github.com/licenses/mit', 'node_id': 'MDc6TGljZW5zZTEz'}, 'forks': 7900, 'open_issues': 25, 'watchers': 59580, 'default_branch': 'master', 'score': 1.0}, {'id': 7691631, 'node_id': 'MDEwOlJlcG9zaXRvcnk3NjkxNjMx', 'name': 'moby', 'full_name': 'moby/moby', 'private': False, 'owner': {'login': 'moby', 'id': 27259197, 'node_id': 'MDEyOk9yZ2FuaXphdGlvbjI3MjU5MTk3', 'avatar_url': 'https://avatars1.githubusercontent.com/u/27259197?v=4', 'gravatar_id': '', 'url': 'https://api.github.com/users/moby', 'html_url': 'https://github.com/moby', 'followers_url': 'https://api.github.com/users/moby/followers', 'following_url': 'https://api.github.com/users/moby/following{/other_user}', 'gists_url': 'https://api.github.com/users/moby/gists{/gist_id}', 'starred_url': 'https://api.github.com/users/moby/starred{/owner}{/repo}', 'subscriptions_url': 'https://api.github.com/users/moby/subscriptions', 'organizations_url': 'https://api.github.com/users/moby/orgs', 'repos_url': 'https://api.github.com/users/moby/repos', 'events_url': 'https://api.github.com/users/moby/events{/privacy}', 'received_events_url': 'https://api.github.com/users/moby/received_events', 'type': 'Organization', 'site_admin': False}, 'html_url': 'https://github.com/moby/moby', 'description': 'Moby Project - a collaborative project for the container ecosystem to assemble container-based systems', 'fork': False, 'url': 'https://api.github.com/repos/moby/moby', 'forks_url': 'https://api.github.com/repos/moby/moby/forks', 'keys_url': 'https://api.github.com/repos/moby/moby/keys{/key_id}', 'collaborators_url': 'https://api.github.com/repos/moby/moby/collaborators{/collaborator}', 'teams_url': 'https://api.github.com/repos/moby/moby/teams', 'hooks_url': 'https://api.github.com/repos/moby/moby/hooks', 'issue_events_url': 'https://api.github.com/repos/moby/moby/issues/events{/number}', 'events_url': 'https://api.github.com/repos/moby/moby/events', 'assignees_url': 'https://api.github.com/repos/moby/moby/assignees{/user}', 'branches_url': 'https://api.github.com/repos/moby/moby/branches{/branch}', 'tags_url': 'https://api.github.com/repos/moby/moby/tags', 'blobs_url': 'https://api.github.com/repos/moby/moby/git/blobs{/sha}', 'git_tags_url': 'https://api.github.com/repos/moby/moby/git/tags{/sha}', 'git_refs_url': 'https://api.github.com/repos/moby/moby/git/refs{/sha}', 'trees_url': 'https://api.github.com/repos/moby/moby/git/trees{/sha}', 'statuses_url': 'https://api.github.com/repos/moby/moby/statuses/{sha}', 'languages_url': 'https://api.github.com/repos/moby/moby/languages', 'stargazers_url': 'https://api.github.com/repos/moby/moby/stargazers', 'contributors_url': 'https://api.github.com/repos/moby/moby/contributors', 'subscribers_url': 'https://api.github.com/repos/moby/moby/subscribers', 'subscription_url': 'https://api.github.com/repos/moby/moby/subscription', 'commits_url': 'https://api.github.com/repos/moby/moby/commits{/sha}', 'git_commits_url': 'https://api.github.com/repos/moby/moby/git/commits{/sha}', 'comments_url': 'https://api.github.com/repos/moby/moby/comments{/number}', 'issue_comment_url': 'https://api.github.com/repos/moby/moby/issues/comments{/number}', 'contents_url': 'https://api.github.com/repos/moby/moby/contents/{+path}', 'compare_url': 'https://api.github.com/repos/moby/moby/compare/{base}...{head}', 'merges_url': 'https://api.github.com/repos/moby/moby/merges', 'archive_url': 'https://api.github.com/repos/moby/moby/{archive_format}{/ref}', 'downloads_url': 'https://api.github.com/repos/moby/moby/downloads', 'issues_url': 'https://api.github.com/repos/moby/moby/issues{/number}', 'pulls_url': 'https://api.github.com/repos/moby/moby/pulls{/number}', 'milestones_url': 'https://api.github.com/repos/moby/moby/milestones{/number}', 'notifications_url': 'https://api.github.com/repos/moby/moby/notifications{?since,all,participating}', 'labels_url': 'https://api.github.com/repos/moby/moby/labels{/name}', 'releases_url': 'https://api.github.com/repos/moby/moby/releases{/id}', 'deployments_url': 'https://api.github.com/repos/moby/moby/deployments', 'created_at': '2013-01-18T18:10:57Z', 'updated_at': '2020-12-05T15:47:15Z', 'pushed_at': '2020-12-05T03:36:44Z', 'git_url': 'git://github.com/moby/moby.git', 'ssh_url': 'git@github.com:moby/moby.git', 'clone_url': 'https://github.com/moby/moby.git', 'svn_url': 'https://github.com/moby/moby', 'homepage': 'https://mobyproject.org/', 'size': 156209, 'stargazers_count': 59066, 'watchers_count': 59066, 'language': 'Go', 'has_issues': True, 'has_projects': True, 'has_downloads': True, 'has_wiki': True, 'has_pages': False, 'forks_count': 17023, 'mirror_url': None, 'archived': False, 'disabled': False, 'open_issues_count': 3958, 'license': {'key': 'apache-2.0', 'name': 'Apache License 2.0', 'spdx_id': 'Apache-2.0', 'url': 'https://api.github.com/licenses/apache-2.0', 'node_id': 'MDc6TGljZW5zZTI='}, 'forks': 17023, 'open_issues': 3958, 'watchers': 59066, 'default_branch': 'master', 'score': 1.0}, {'id': 11180687, 'node_id': 'MDEwOlJlcG9zaXRvcnkxMTE4MDY4Nw==', 'name': 'hugo', 'full_name': 'gohugoio/hugo', 'private': False, 'owner': {'login': 'gohugoio', 'id': 29385237, 'node_id': 'MDEyOk9yZ2FuaXphdGlvbjI5Mzg1MjM3', 'avatar_url': 'https://avatars2.githubusercontent.com/u/29385237?v=4', 'gravatar_id': '', 'url': 'https://api.github.com/users/gohugoio', 'html_url': 'https://github.com/gohugoio', 'followers_url': 'https://api.github.com/users/gohugoio/followers', 'following_url': 'https://api.github.com/users/gohugoio/following{/other_user}', 'gists_url': 'https://api.github.com/users/gohugoio/gists{/gist_id}', 'starred_url': 'https://api.github.com/users/gohugoio/starred{/owner}{/repo}', 'subscriptions_url': 'https://api.github.com/users/gohugoio/subscriptions', 'organizations_url': 'https://api.github.com/users/gohugoio/orgs', 'repos_url': 'https://api.github.com/users/gohugoio/repos', 'events_url': 'https://api.github.com/users/gohugoio/events{/privacy}', 'received_events_url': 'https://api.github.com/users/gohugoio/received_events', 'type': 'Organization', 'site_admin': False}, 'html_url': 'https://github.com/gohugoio/hugo', 'description': 'The world’s fastest framework for building websites.', 'fork': False, 'url': 'https://api.github.com/repos/gohugoio/hugo', 'forks_url': 'https://api.github.com/repos/gohugoio/hugo/forks', 'keys_url': 'https://api.github.com/repos/gohugoio/hugo/keys{/key_id}', 'collaborators_url': 'https://api.github.com/repos/gohugoio/hugo/collaborators{/collaborator}', 'teams_url': 'https://api.github.com/repos/gohugoio/hugo/teams', 'hooks_url': 'https://api.github.com/repos/gohugoio/hugo/hooks', 'issue_events_url': 'https://api.github.com/repos/gohugoio/hugo/issues/events{/number}', 'events_url': 'https://api.github.com/repos/gohugoio/hugo/events', 'assignees_url': 'https://api.github.com/repos/gohugoio/hugo/assignees{/user}', 'branches_url': 'https://api.github.com/repos/gohugoio/hugo/branches{/branch}', 'tags_url': 'https://api.github.com/repos/gohugoio/hugo/tags', 'blobs_url': 'https://api.github.com/repos/gohugoio/hugo/git/blobs{/sha}', 'git_tags_url': 'https://api.github.com/repos/gohugoio/hugo/git/tags{/sha}', 'git_refs_url': 'https://api.github.com/repos/gohugoio/hugo/git/refs{/sha}', 'trees_url': 'https://api.github.com/repos/gohugoio/hugo/git/trees{/sha}', 'statuses_url': 'https://api.github.com/repos/gohugoio/hugo/statuses/{sha}', 'languages_url': 'https://api.github.com/repos/gohugoio/hugo/languages', 'stargazers_url': 'https://api.github.com/repos/gohugoio/hugo/stargazers', 'contributors_url': 'https://api.github.com/repos/gohugoio/hugo/contributors', 'subscribers_url': 'https://api.github.com/repos/gohugoio/hugo/subscribers', 'subscription_url': 'https://api.github.com/repos/gohugoio/hugo/subscription', 'commits_url': 'https://api.github.com/repos/gohugoio/hugo/commits{/sha}', 'git_commits_url': 'https://api.github.com/repos/gohugoio/hugo/git/commits{/sha}', 'comments_url': 'https://api.github.com/repos/gohugoio/hugo/comments{/number}', 'issue_comment_url': 'https://api.github.com/repos/gohugoio/hugo/issues/comments{/number}', 'contents_url': 'https://api.github.com/repos/gohugoio/hugo/contents/{+path}', 'compare_url': 'https://api.github.com/repos/gohugoio/hugo/compare/{base}...{head}', 'merges_url': 'https://api.github.com/repos/gohugoio/hugo/merges', 'archive_url': 'https://api.github.com/repos/gohugoio/hugo/{archive_format}{/ref}', 'downloads_url': 'https://api.github.com/repos/gohugoio/hugo/downloads', 'issues_url': 'https://api.github.com/repos/gohugoio/hugo/issues{/number}', 'pulls_url': 'https://api.github.com/repos/gohugoio/hugo/pulls{/number}', 'milestones_url': 'https://api.github.com/repos/gohugoio/hugo/milestones{/number}', 'notifications_url': 'https://api.github.com/repos/gohugoio/hugo/notifications{?since,all,participating}', 'labels_url': 'https://api.github.com/repos/gohugoio/hugo/labels{/name}', 'releases_url': 'https://api.github.com/repos/gohugoio/hugo/releases{/id}', 'deployments_url': 'https://api.github.com/repos/gohugoio/hugo/deployments', 'created_at': '2013-07-04T15:26:26Z', 'updated_at': '2020-12-05T16:15:43Z', 'pushed_at': '2020-12-05T03:52:20Z', 'git_url': 'git://github.com/gohugoio/hugo.git', 'ssh_url': 'git@github.com:gohugoio/hugo.git', 'clone_url': 'https://github.com/gohugoio/hugo.git', 'svn_url': 'https://github.com/gohugoio/hugo', 'homepage': 'https://gohugo.io', 'size': 93253, 'stargazers_count': 48593, 'watchers_count': 48593, 'language': 'Go', 'has_issues': True, 'has_projects': True, 'has_downloads': True, 'has_wiki': False, 'has_pages': False, 'forks_count': 5502, 'mirror_url': None, 'archived': False, 'disabled': False, 'open_issues_count': 585, 'license': {'key': 'apache-2.0', 'name': 'Apache License 2.0', 'spdx_id': 'Apache-2.0', 'url': 'https://api.github.com/licenses/apache-2.0', 'node_id': 'MDc6TGljZW5zZTI='}, 'forks': 5502, 'open_issues': 585, 'watchers': 48593, 'default_branch': 'master', 'score': 1.0}, {'id': 20904437, 'node_id': 'MDEwOlJlcG9zaXRvcnkyMDkwNDQzNw==', 'name': 'gin', 'full_name': 'gin-gonic/gin', 'private': False, 'owner': {'login': 'gin-gonic', 'id': 7894478, 'node_id': 'MDEyOk9yZ2FuaXphdGlvbjc4OTQ0Nzg=', 'avatar_url': 'https://avatars3.githubusercontent.com/u/7894478?v=4', 'gravatar_id': '', 'url': 'https://api.github.com/users/gin-gonic', 'html_url': 'https://github.com/gin-gonic', 'followers_url': 'https://api.github.com/users/gin-gonic/followers', 'following_url': 'https://api.github.com/users/gin-gonic/following{/other_user}', 'gists_url': 'https://api.github.com/users/gin-gonic/gists{/gist_id}', 'starred_url': 'https://api.github.com/users/gin-gonic/starred{/owner}{/repo}', 'subscriptions_url': 'https://api.github.com/users/gin-gonic/subscriptions', 'organizations_url': 'https://api.github.com/users/gin-gonic/orgs', 'repos_url': 'https://api.github.com/users/gin-gonic/repos', 'events_url': 'https://api.github.com/users/gin-gonic/events{/privacy}', 'received_events_url': 'https://api.github.com/users/gin-gonic/received_events', 'type': 'Organization', 'site_admin': False}, 'html_url': 'https://github.com/gin-gonic/gin', 'description': 'Gin is a HTTP web framework written in Go (Golang). It features a Martini-like API with much better performance -- up to 40 times faster. If you need smashing performance, get yourself some Gin.', 'fork': False, 'url': 'https://api.github.com/repos/gin-gonic/gin', 'forks_url': 'https://api.github.com/repos/gin-gonic/gin/forks', 'keys_url': 'https://api.github.com/repos/gin-gonic/gin/keys{/key_id}', 'collaborators_url': 'https://api.github.com/repos/gin-gonic/gin/collaborators{/collaborator}', 'teams_url': 'https://api.github.com/repos/gin-gonic/gin/teams', 'hooks_url': 'https://api.github.com/repos/gin-gonic/gin/hooks', 'issue_events_url': 'https://api.github.com/repos/gin-gonic/gin/issues/events{/number}', 'events_url': 'https://api.github.com/repos/gin-gonic/gin/events', 'assignees_url': 'https://api.github.com/repos/gin-gonic/gin/assignees{/user}', 'branches_url': 'https://api.github.com/repos/gin-gonic/gin/branches{/branch}', 'tags_url': 'https://api.github.com/repos/gin-gonic/gin/tags', 'blobs_url': 'https://api.github.com/repos/gin-gonic/gin/git/blobs{/sha}', 'git_tags_url': 'https://api.github.com/repos/gin-gonic/gin/git/tags{/sha}', 'git_refs_url': 'https://api.github.com/repos/gin-gonic/gin/git/refs{/sha}', 'trees_url': 'https://api.github.com/repos/gin-gonic/gin/git/trees{/sha}', 'statuses_url': 'https://api.github.com/repos/gin-gonic/gin/statuses/{sha}', 'languages_url': 'https://api.github.com/repos/gin-gonic/gin/languages', 'stargazers_url': 'https://api.github.com/repos/gin-gonic/gin/stargazers', 'contributors_url': 'https://api.github.com/repos/gin-gonic/gin/contributors', 'subscribers_url': 'https://api.github.com/repos/gin-gonic/gin/subscribers', 'subscription_url': 'https://api.github.com/repos/gin-gonic/gin/subscription', 'commits_url': 'https://api.github.com/repos/gin-gonic/gin/commits{/sha}', 'git_commits_url': 'https://api.github.com/repos/gin-gonic/gin/git/commits{/sha}', 'comments_url': 'https://api.github.com/repos/gin-gonic/gin/comments{/number}', 'issue_comment_url': 'https://api.github.com/repos/gin-gonic/gin/issues/comments{/number}', 'contents_url': 'https://api.github.com/repos/gin-gonic/gin/contents/{+path}', 'compare_url': 'https://api.github.com/repos/gin-gonic/gin/compare/{base}...{head}', 'merges_url': 'https://api.github.com/repos/gin-gonic/gin/merges', 'archive_url': 'https://api.github.com/repos/gin-gonic/gin/{archive_format}{/ref}', 'downloads_url': 'https://api.github.com/repos/gin-gonic/gin/downloads', 'issues_url': 'https://api.github.com/repos/gin-gonic/gin/issues{/number}', 'pulls_url': 'https://api.github.com/repos/gin-gonic/gin/pulls{/number}', 'milestones_url': 'https://api.github.com/repos/gin-gonic/gin/milestones{/number}', 'notifications_url': 'https://api.github.com/repos/gin-gonic/gin/notifications{?since,all,participating}', 'labels_url': 'https://api.github.com/repos/gin-gonic/gin/labels{/name}', 'releases_url': 'https://api.github.com/repos/gin-gonic/gin/releases{/id}', 'deployments_url': 'https://api.github.com/repos/gin-gonic/gin/deployments', 'created_at': '2014-06-16T23:57:25Z', 'updated_at': '2020-12-05T16:41:58Z', 'pushed_at': '2020-12-04T19:01:44Z', 'git_url': 'git://github.com/gin-gonic/gin.git', 'ssh_url': 'git@github.com:gin-gonic/gin.git', 'clone_url': 'https://github.com/gin-gonic/gin.git', 'svn_url': 'https://github.com/gin-gonic/gin', 'homepage': 'https://gin-gonic.com/', 'size': 2496, 'stargazers_count': 43846, 'watchers_count': 43846, 'language': 'Go', 'has_issues': True, 'has_projects': False, 'has_downloads': True, 'has_wiki': False, 'has_pages': False, 'forks_count': 5041, 'mirror_url': None, 'archived': False, 'disabled': False, 'open_issues_count': 349, 'license': {'key': 'mit', 'name': 'MIT License', 'spdx_id': 'MIT', 'url': 'https://api.github.com/licenses/mit', 'node_id': 'MDc6TGljZW5zZTEz'}, 'forks': 5041, 'open_issues': 349, 'watchers': 43846, 'default_branch': 'master', 'score': 1.0}, {'id': 48378947, 'node_id': 'MDEwOlJlcG9zaXRvcnk0ODM3ODk0Nw==', 'name': 'frp', 'full_name': 'fatedier/frp', 'private': False, 'owner': {'login': 'fatedier', 'id': 7346661, 'node_id': 'MDQ6VXNlcjczNDY2NjE=', 'avatar_url': 'https://avatars3.githubusercontent.com/u/7346661?v=4', 'gravatar_id': '', 'url': 'https://api.github.com/users/fatedier', 'html_url': 'https://github.com/fatedier', 'followers_url': 'https://api.github.com/users/fatedier/followers', 'following_url': 'https://api.github.com/users/fatedier/following{/other_user}', 'gists_url': 'https://api.github.com/users/fatedier/gists{/gist_id}', 'starred_url': 'https://api.github.com/users/fatedier/starred{/owner}{/repo}', 'subscriptions_url': 'https://api.github.com/users/fatedier/subscriptions', 'organizations_url': 'https://api.github.com/users/fatedier/orgs', 'repos_url': 'https://api.github.com/users/fatedier/repos', 'events_url': 'https://api.github.com/users/fatedier/events{/privacy}', 'received_events_url': 'https://api.github.com/users/fatedier/received_events', 'type': 'User', 'site_admin': False}, 'html_url': 'https://github.com/fatedier/frp', 'description': 'A fast reverse proxy to help you expose a local server behind a NAT or firewall to the internet.', 'fork': False, 'url': 'https://api.github.com/repos/fatedier/frp', 'forks_url': 'https://api.github.com/repos/fatedier/frp/forks', 'keys_url': 'https://api.github.com/repos/fatedier/frp/keys{/key_id}', 'collaborators_url': 'https://api.github.com/repos/fatedier/frp/collaborators{/collaborator}', 'teams_url': 'https://api.github.com/repos/fatedier/frp/teams', 'hooks_url': 'https://api.github.com/repos/fatedier/frp/hooks', 'issue_events_url': 'https://api.github.com/repos/fatedier/frp/issues/events{/number}', 'events_url': 'https://api.github.com/repos/fatedier/frp/events', 'assignees_url': 'https://api.github.com/repos/fatedier/frp/assignees{/user}', 'branches_url': 'https://api.github.com/repos/fatedier/frp/branches{/branch}', 'tags_url': 'https://api.github.com/repos/fatedier/frp/tags', 'blobs_url': 'https://api.github.com/repos/fatedier/frp/git/blobs{/sha}', 'git_tags_url': 'https://api.github.com/repos/fatedier/frp/git/tags{/sha}', 'git_refs_url': 'https://api.github.com/repos/fatedier/frp/git/refs{/sha}', 'trees_url': 'https://api.github.com/repos/fatedier/frp/git/trees{/sha}', 'statuses_url': 'https://api.github.com/repos/fatedier/frp/statuses/{sha}', 'languages_url': 'https://api.github.com/repos/fatedier/frp/languages', 'stargazers_url': 'https://api.github.com/repos/fatedier/frp/stargazers', 'contributors_url': 'https://api.github.com/repos/fatedier/frp/contributors', 'subscribers_url': 'https://api.github.com/repos/fatedier/frp/subscribers', 'subscription_url': 'https://api.github.com/repos/fatedier/frp/subscription', 'commits_url': 'https://api.github.com/repos/fatedier/frp/commits{/sha}', 'git_commits_url': 'https://api.github.com/repos/fatedier/frp/git/commits{/sha}', 'comments_url': 'https://api.github.com/repos/fatedier/frp/comments{/number}', 'issue_comment_url': 'https://api.github.com/repos/fatedier/frp/issues/comments{/number}', 'contents_url': 'https://api.github.com/repos/fatedier/frp/contents/{+path}', 'compare_url': 'https://api.github.com/repos/fatedier/frp/compare/{base}...{head}', 'merges_url': 'https://api.github.com/repos/fatedier/frp/merges', 'archive_url': 'https://api.github.com/repos/fatedier/frp/{archive_format}{/ref}', 'downloads_url': 'https://api.github.com/repos/fatedier/frp/downloads', 'issues_url': 'https://api.github.com/repos/fatedier/frp/issues{/number}', 'pulls_url': 'https://api.github.com/repos/fatedier/frp/pulls{/number}', 'milestones_url': 'https://api.github.com/repos/fatedier/frp/milestones{/number}', 'notifications_url': 'https://api.github.com/repos/fatedier/frp/notifications{?since,all,participating}', 'labels_url': 'https://api.github.com/repos/fatedier/frp/labels{/name}', 'releases_url': 'https://api.github.com/repos/fatedier/frp/releases{/id}', 'deployments_url': 'https://api.github.com/repos/fatedier/frp/deployments', 'created_at': '2015-12-21T15:24:59Z', 'updated_at': '2020-12-05T17:06:38Z', 'pushed_at': '2020-12-04T06:58:57Z', 'git_url': 'git://github.com/fatedier/frp.git', 'ssh_url': 'git@github.com:fatedier/frp.git', 'clone_url': 'https://github.com/fatedier/frp.git', 'svn_url': 'https://github.com/fatedier/frp', 'homepage': '', 'size': 21288, 'stargazers_count': 41156, 'watchers_count': 41156, 'language': 'Go', 'has_issues': True, 'has_projects': True, 'has_downloads': True, 'has_wiki': True, 'has_pages': False, 'forks_count': 7799, 'mirror_url': None, 'archived': False, 'disabled': False, 'open_issues_count': 78, 'license': {'key': 'apache-2.0', 'name': 'Apache License 2.0', 'spdx_id': 'Apache-2.0', 'url': 'https://api.github.com/licenses/apache-2.0', 'node_id': 'MDc6TGljZW5zZTI='}, 'forks': 7799, 'open_issues': 78, 'watchers': 41156, 'default_branch': 'dev', 'score': 1.0}, {'id': 5271882, 'node_id': 'MDEwOlJlcG9zaXRvcnk1MjcxODgy', 'name': 'build-web-application-with-golang', 'full_name': 'astaxie/build-web-application-with-golang', 'private': False, 'owner': {'login': 'astaxie', 'id': 233907, 'node_id': 'MDQ6VXNlcjIzMzkwNw==', 'avatar_url': 'https://avatars3.githubusercontent.com/u/233907?v=4', 'gravatar_id': '', 'url': 'https://api.github.com/users/astaxie', 'html_url': 'https://github.com/astaxie', 'followers_url': 'https://api.github.com/users/astaxie/followers', 'following_url': 'https://api.github.com/users/astaxie/following{/other_user}', 'gists_url': 'https://api.github.com/users/astaxie/gists{/gist_id}', 'starred_url': 'https://api.github.com/users/astaxie/starred{/owner}{/repo}', 'subscriptions_url': 'https://api.github.com/users/astaxie/subscriptions', 'organizations_url': 'https://api.github.com/users/astaxie/orgs', 'repos_url': 'https://api.github.com/users/astaxie/repos', 'events_url': 'https://api.github.com/users/astaxie/events{/privacy}', 'received_events_url': 'https://api.github.com/users/astaxie/received_events', 'type': 'User', 'site_admin': False}, 'html_url': 'https://github.com/astaxie/build-web-application-with-golang', 'description': 'A golang ebook intro how to build a web with golang', 'fork': False, 'url': 'https://api.github.com/repos/astaxie/build-web-application-with-golang', 'forks_url': 'https://api.github.com/repos/astaxie/build-web-application-with-golang/forks', 'keys_url': 'https://api.github.com/repos/astaxie/build-web-application-with-golang/keys{/key_id}', 'collaborators_url': 'https://api.github.com/repos/astaxie/build-web-application-with-golang/collaborators{/collaborator}', 'teams_url': 'https://api.github.com/repos/astaxie/build-web-application-with-golang/teams', 'hooks_url': 'https://api.github.com/repos/astaxie/build-web-application-with-golang/hooks', 'issue_events_url': 'https://api.github.com/repos/astaxie/build-web-application-with-golang/issues/events{/number}', 'events_url': 'https://api.github.com/repos/astaxie/build-web-application-with-golang/events', 'assignees_url': 'https://api.github.com/repos/astaxie/build-web-application-with-golang/assignees{/user}', 'branches_url': 'https://api.github.com/repos/astaxie/build-web-application-with-golang/branches{/branch}', 'tags_url': 'https://api.github.com/repos/astaxie/build-web-application-with-golang/tags', 'blobs_url': 'https://api.github.com/repos/astaxie/build-web-application-with-golang/git/blobs{/sha}', 'git_tags_url': 'https://api.github.com/repos/astaxie/build-web-application-with-golang/git/tags{/sha}', 'git_refs_url': 'https://api.github.com/repos/astaxie/build-web-application-with-golang/git/refs{/sha}', 'trees_url': 'https://api.github.com/repos/astaxie/build-web-application-with-golang/git/trees{/sha}', 'statuses_url': 'https://api.github.com/repos/astaxie/build-web-application-with-golang/statuses/{sha}', 'languages_url': 'https://api.github.com/repos/astaxie/build-web-application-with-golang/languages', 'stargazers_url': 'https://api.github.com/repos/astaxie/build-web-application-with-golang/stargazers', 'contributors_url': 'https://api.github.com/repos/astaxie/build-web-application-with-golang/contributors', 'subscribers_url': 'https://api.github.com/repos/astaxie/build-web-application-with-golang/subscribers', 'subscription_url': 'https://api.github.com/repos/astaxie/build-web-application-with-golang/subscription', 'commits_url': 'https://api.github.com/repos/astaxie/build-web-application-with-golang/commits{/sha}', 'git_commits_url': 'https://api.github.com/repos/astaxie/build-web-application-with-golang/git/commits{/sha}', 'comments_url': 'https://api.github.com/repos/astaxie/build-web-application-with-golang/comments{/number}', 'issue_comment_url': 'https://api.github.com/repos/astaxie/build-web-application-with-golang/issues/comments{/number}', 'contents_url': 'https://api.github.com/repos/astaxie/build-web-application-with-golang/contents/{+path}', 'compare_url': 'https://api.github.com/repos/astaxie/build-web-application-with-golang/compare/{base}...{head}', 'merges_url': 'https://api.github.com/repos/astaxie/build-web-application-with-golang/merges', 'archive_url': 'https://api.github.com/repos/astaxie/build-web-application-with-golang/{archive_format}{/ref}', 'downloads_url': 'https://api.github.com/repos/astaxie/build-web-application-with-golang/downloads', 'issues_url': 'https://api.github.com/repos/astaxie/build-web-application-with-golang/issues{/number}', 'pulls_url': 'https://api.github.com/repos/astaxie/build-web-application-with-golang/pulls{/number}', 'milestones_url': 'https://api.github.com/repos/astaxie/build-web-application-with-golang/milestones{/number}', 'notifications_url': 'https://api.github.com/repos/astaxie/build-web-application-with-golang/notifications{?since,all,participating}', 'labels_url': 'https://api.github.com/repos/astaxie/build-web-application-with-golang/labels{/name}', 'releases_url': 'https://api.github.com/repos/astaxie/build-web-application-with-golang/releases{/id}', 'deployments_url': 'https://api.github.com/repos/astaxie/build-web-application-with-golang/deployments', 'created_at': '2012-08-02T11:49:35Z', 'updated_at': '2020-12-05T15:31:20Z', 'pushed_at': '2020-09-23T13:10:50Z', 'git_url': 'git://github.com/astaxie/build-web-application-with-golang.git', 'ssh_url': 'git@github.com:astaxie/build-web-application-with-golang.git', 'clone_url': 'https://github.com/astaxie/build-web-application-with-golang.git', 'svn_url': 'https://github.com/astaxie/build-web-application-with-golang', 'homepage': '', 'size': 38152, 'stargazers_count': 36324, 'watchers_count': 36324, 'language': 'Go', 'has_issues': True, 'has_projects': True, 'has_downloads': True, 'has_wiki': True, 'has_pages': False, 'forks_count': 9802, 'mirror_url': None, 'archived': False, 'disabled': False, 'open_issues_count': 123, 'license': {'key': 'bsd-3-clause', 'name': 'BSD 3-Clause \"New\" or \"Revised\" License', 'spdx_id': 'BSD-3-Clause', 'url': 'https://api.github.com/licenses/bsd-3-clause', 'node_id': 'MDc6TGljZW5zZTU='}, 'forks': 9802, 'open_issues': 123, 'watchers': 36324, 'default_branch': 'master', 'score': 1.0}, {'id': 16752620, 'node_id': 'MDEwOlJlcG9zaXRvcnkxNjc1MjYyMA==', 'name': 'gogs', 'full_name': 'gogs/gogs', 'private': False, 'owner': {'login': 'gogs', 'id': 6656686, 'node_id': 'MDEyOk9yZ2FuaXphdGlvbjY2NTY2ODY=', 'avatar_url': 'https://avatars0.githubusercontent.com/u/6656686?v=4', 'gravatar_id': '', 'url': 'https://api.github.com/users/gogs', 'html_url': 'https://github.com/gogs', 'followers_url': 'https://api.github.com/users/gogs/followers', 'following_url': 'https://api.github.com/users/gogs/following{/other_user}', 'gists_url': 'https://api.github.com/users/gogs/gists{/gist_id}', 'starred_url': 'https://api.github.com/users/gogs/starred{/owner}{/repo}', 'subscriptions_url': 'https://api.github.com/users/gogs/subscriptions', 'organizations_url': 'https://api.github.com/users/gogs/orgs', 'repos_url': 'https://api.github.com/users/gogs/repos', 'events_url': 'https://api.github.com/users/gogs/events{/privacy}', 'received_events_url': 'https://api.github.com/users/gogs/received_events', 'type': 'Organization', 'site_admin': False}, 'html_url': 'https://github.com/gogs/gogs', 'description': 'Gogs is a painless self-hosted Git service', 'fork': False, 'url': 'https://api.github.com/repos/gogs/gogs', 'forks_url': 'https://api.github.com/repos/gogs/gogs/forks', 'keys_url': 'https://api.github.com/repos/gogs/gogs/keys{/key_id}', 'collaborators_url': 'https://api.github.com/repos/gogs/gogs/collaborators{/collaborator}', 'teams_url': 'https://api.github.com/repos/gogs/gogs/teams', 'hooks_url': 'https://api.github.com/repos/gogs/gogs/hooks', 'issue_events_url': 'https://api.github.com/repos/gogs/gogs/issues/events{/number}', 'events_url': 'https://api.github.com/repos/gogs/gogs/events', 'assignees_url': 'https://api.github.com/repos/gogs/gogs/assignees{/user}', 'branches_url': 'https://api.github.com/repos/gogs/gogs/branches{/branch}', 'tags_url': 'https://api.github.com/repos/gogs/gogs/tags', 'blobs_url': 'https://api.github.com/repos/gogs/gogs/git/blobs{/sha}', 'git_tags_url': 'https://api.github.com/repos/gogs/gogs/git/tags{/sha}', 'git_refs_url': 'https://api.github.com/repos/gogs/gogs/git/refs{/sha}', 'trees_url': 'https://api.github.com/repos/gogs/gogs/git/trees{/sha}', 'statuses_url': 'https://api.github.com/repos/gogs/gogs/statuses/{sha}', 'languages_url': 'https://api.github.com/repos/gogs/gogs/languages', 'stargazers_url': 'https://api.github.com/repos/gogs/gogs/stargazers', 'contributors_url': 'https://api.github.com/repos/gogs/gogs/contributors', 'subscribers_url': 'https://api.github.com/repos/gogs/gogs/subscribers', 'subscription_url': 'https://api.github.com/repos/gogs/gogs/subscription', 'commits_url': 'https://api.github.com/repos/gogs/gogs/commits{/sha}', 'git_commits_url': 'https://api.github.com/repos/gogs/gogs/git/commits{/sha}', 'comments_url': 'https://api.github.com/repos/gogs/gogs/comments{/number}', 'issue_comment_url': 'https://api.github.com/repos/gogs/gogs/issues/comments{/number}', 'contents_url': 'https://api.github.com/repos/gogs/gogs/contents/{+path}', 'compare_url': 'https://api.github.com/repos/gogs/gogs/compare/{base}...{head}', 'merges_url': 'https://api.github.com/repos/gogs/gogs/merges', 'archive_url': 'https://api.github.com/repos/gogs/gogs/{archive_format}{/ref}', 'downloads_url': 'https://api.github.com/repos/gogs/gogs/downloads', 'issues_url': 'https://api.github.com/repos/gogs/gogs/issues{/number}', 'pulls_url': 'https://api.github.com/repos/gogs/gogs/pulls{/number}', 'milestones_url': 'https://api.github.com/repos/gogs/gogs/milestones{/number}', 'notifications_url': 'https://api.github.com/repos/gogs/gogs/notifications{?since,all,participating}', 'labels_url': 'https://api.github.com/repos/gogs/gogs/labels{/name}', 'releases_url': 'https://api.github.com/repos/gogs/gogs/releases{/id}', 'deployments_url': 'https://api.github.com/repos/gogs/gogs/deployments', 'created_at': '2014-02-12T01:57:08Z', 'updated_at': '2020-12-05T17:06:29Z', 'pushed_at': '2020-12-05T17:07:30Z', 'git_url': 'git://github.com/gogs/gogs.git', 'ssh_url': 'git@github.com:gogs/gogs.git', 'clone_url': 'https://github.com/gogs/gogs.git', 'svn_url': 'https://github.com/gogs/gogs', 'homepage': 'https://gogs.io', 'size': 189109, 'stargazers_count': 35968, 'watchers_count': 35968, 'language': 'Go', 'has_issues': True, 'has_projects': False, 'has_downloads': True, 'has_wiki': True, 'has_pages': False, 'forks_count': 4187, 'mirror_url': None, 'archived': False, 'disabled': False, 'open_issues_count': 700, 'license': {'key': 'mit', 'name': 'MIT License', 'spdx_id': 'MIT', 'url': 'https://api.github.com/licenses/mit', 'node_id': 'MDc6TGljZW5zZTEz'}, 'forks': 4187, 'open_issues': 700, 'watchers': 35968, 'default_branch': 'main', 'score': 1.0}, {'id': 41912791, 'node_id': 'MDEwOlJlcG9zaXRvcnk0MTkxMjc5MQ==', 'name': 'v2ray-core', 'full_name': 'v2ray/v2ray-core', 'private': False, 'owner': {'login': 'v2ray', 'id': 14110142, 'node_id': 'MDEyOk9yZ2FuaXphdGlvbjE0MTEwMTQy', 'avatar_url': 'https://avatars2.githubusercontent.com/u/14110142?v=4', 'gravatar_id': '', 'url': 'https://api.github.com/users/v2ray', 'html_url': 'https://github.com/v2ray', 'followers_url': 'https://api.github.com/users/v2ray/followers', 'following_url': 'https://api.github.com/users/v2ray/following{/other_user}', 'gists_url': 'https://api.github.com/users/v2ray/gists{/gist_id}', 'starred_url': 'https://api.github.com/users/v2ray/starred{/owner}{/repo}', 'subscriptions_url': 'https://api.github.com/users/v2ray/subscriptions', 'organizations_url': 'https://api.github.com/users/v2ray/orgs', 'repos_url': 'https://api.github.com/users/v2ray/repos', 'events_url': 'https://api.github.com/users/v2ray/events{/privacy}', 'received_events_url': 'https://api.github.com/users/v2ray/received_events', 'type': 'Organization', 'site_admin': False}, 'html_url': 'https://github.com/v2ray/v2ray-core', 'description': 'A platform for building proxies to bypass network restrictions.', 'fork': False, 'url': 'https://api.github.com/repos/v2ray/v2ray-core', 'forks_url': 'https://api.github.com/repos/v2ray/v2ray-core/forks', 'keys_url': 'https://api.github.com/repos/v2ray/v2ray-core/keys{/key_id}', 'collaborators_url': 'https://api.github.com/repos/v2ray/v2ray-core/collaborators{/collaborator}', 'teams_url': 'https://api.github.com/repos/v2ray/v2ray-core/teams', 'hooks_url': 'https://api.github.com/repos/v2ray/v2ray-core/hooks', 'issue_events_url': 'https://api.github.com/repos/v2ray/v2ray-core/issues/events{/number}', 'events_url': 'https://api.github.com/repos/v2ray/v2ray-core/events', 'assignees_url': 'https://api.github.com/repos/v2ray/v2ray-core/assignees{/user}', 'branches_url': 'https://api.github.com/repos/v2ray/v2ray-core/branches{/branch}', 'tags_url': 'https://api.github.com/repos/v2ray/v2ray-core/tags', 'blobs_url': 'https://api.github.com/repos/v2ray/v2ray-core/git/blobs{/sha}', 'git_tags_url': 'https://api.github.com/repos/v2ray/v2ray-core/git/tags{/sha}', 'git_refs_url': 'https://api.github.com/repos/v2ray/v2ray-core/git/refs{/sha}', 'trees_url': 'https://api.github.com/repos/v2ray/v2ray-core/git/trees{/sha}', 'statuses_url': 'https://api.github.com/repos/v2ray/v2ray-core/statuses/{sha}', 'languages_url': 'https://api.github.com/repos/v2ray/v2ray-core/languages', 'stargazers_url': 'https://api.github.com/repos/v2ray/v2ray-core/stargazers', 'contributors_url': 'https://api.github.com/repos/v2ray/v2ray-core/contributors', 'subscribers_url': 'https://api.github.com/repos/v2ray/v2ray-core/subscribers', 'subscription_url': 'https://api.github.com/repos/v2ray/v2ray-core/subscription', 'commits_url': 'https://api.github.com/repos/v2ray/v2ray-core/commits{/sha}', 'git_commits_url': 'https://api.github.com/repos/v2ray/v2ray-core/git/commits{/sha}', 'comments_url': 'https://api.github.com/repos/v2ray/v2ray-core/comments{/number}', 'issue_comment_url': 'https://api.github.com/repos/v2ray/v2ray-core/issues/comments{/number}', 'contents_url': 'https://api.github.com/repos/v2ray/v2ray-core/contents/{+path}', 'compare_url': 'https://api.github.com/repos/v2ray/v2ray-core/compare/{base}...{head}', 'merges_url': 'https://api.github.com/repos/v2ray/v2ray-core/merges', 'archive_url': 'https://api.github.com/repos/v2ray/v2ray-core/{archive_format}{/ref}', 'downloads_url': 'https://api.github.com/repos/v2ray/v2ray-core/downloads', 'issues_url': 'https://api.github.com/repos/v2ray/v2ray-core/issues{/number}', 'pulls_url': 'https://api.github.com/repos/v2ray/v2ray-core/pulls{/number}', 'milestones_url': 'https://api.github.com/repos/v2ray/v2ray-core/milestones{/number}', 'notifications_url': 'https://api.github.com/repos/v2ray/v2ray-core/notifications{?since,all,participating}', 'labels_url': 'https://api.github.com/repos/v2ray/v2ray-core/labels{/name}', 'releases_url': 'https://api.github.com/repos/v2ray/v2ray-core/releases{/id}', 'deployments_url': 'https://api.github.com/repos/v2ray/v2ray-core/deployments', 'created_at': '2015-09-04T11:42:53Z', 'updated_at': '2020-12-05T16:24:59Z', 'pushed_at': '2020-12-04T05:41:51Z', 'git_url': 'git://github.com/v2ray/v2ray-core.git', 'ssh_url': 'git@github.com:v2ray/v2ray-core.git', 'clone_url': 'https://github.com/v2ray/v2ray-core.git', 'svn_url': 'https://github.com/v2ray/v2ray-core', 'homepage': 'https://www.v2ray.com/', 'size': 55168, 'stargazers_count': 35922, 'watchers_count': 35922, 'language': 'Go', 'has_issues': True, 'has_projects': False, 'has_downloads': True, 'has_wiki': False, 'has_pages': False, 'forks_count': 7995, 'mirror_url': None, 'archived': False, 'disabled': False, 'open_issues_count': 55, 'license': {'key': 'mit', 'name': 'MIT License', 'spdx_id': 'MIT', 'url': 'https://api.github.com/licenses/mit', 'node_id': 'MDc6TGljZW5zZTEz'}, 'forks': 7995, 'open_issues': 55, 'watchers': 35922, 'default_branch': 'master', 'score': 1.0}, {'id': 6838921, 'node_id': 'MDEwOlJlcG9zaXRvcnk2ODM4OTIx', 'name': 'prometheus', 'full_name': 'prometheus/prometheus', 'private': False, 'owner': {'login': 'prometheus', 'id': 3380462, 'node_id': 'MDEyOk9yZ2FuaXphdGlvbjMzODA0NjI=', 'avatar_url': 'https://avatars3.githubusercontent.com/u/3380462?v=4', 'gravatar_id': '', 'url': 'https://api.github.com/users/prometheus', 'html_url': 'https://github.com/prometheus', 'followers_url': 'https://api.github.com/users/prometheus/followers', 'following_url': 'https://api.github.com/users/prometheus/following{/other_user}', 'gists_url': 'https://api.github.com/users/prometheus/gists{/gist_id}', 'starred_url': 'https://api.github.com/users/prometheus/starred{/owner}{/repo}', 'subscriptions_url': 'https://api.github.com/users/prometheus/subscriptions', 'organizations_url': 'https://api.github.com/users/prometheus/orgs', 'repos_url': 'https://api.github.com/users/prometheus/repos', 'events_url': 'https://api.github.com/users/prometheus/events{/privacy}', 'received_events_url': 'https://api.github.com/users/prometheus/received_events', 'type': 'Organization', 'site_admin': False}, 'html_url': 'https://github.com/prometheus/prometheus', 'description': 'The Prometheus monitoring system and time series database.', 'fork': False, 'url': 'https://api.github.com/repos/prometheus/prometheus', 'forks_url': 'https://api.github.com/repos/prometheus/prometheus/forks', 'keys_url': 'https://api.github.com/repos/prometheus/prometheus/keys{/key_id}', 'collaborators_url': 'https://api.github.com/repos/prometheus/prometheus/collaborators{/collaborator}', 'teams_url': 'https://api.github.com/repos/prometheus/prometheus/teams', 'hooks_url': 'https://api.github.com/repos/prometheus/prometheus/hooks', 'issue_events_url': 'https://api.github.com/repos/prometheus/prometheus/issues/events{/number}', 'events_url': 'https://api.github.com/repos/prometheus/prometheus/events', 'assignees_url': 'https://api.github.com/repos/prometheus/prometheus/assignees{/user}', 'branches_url': 'https://api.github.com/repos/prometheus/prometheus/branches{/branch}', 'tags_url': 'https://api.github.com/repos/prometheus/prometheus/tags', 'blobs_url': 'https://api.github.com/repos/prometheus/prometheus/git/blobs{/sha}', 'git_tags_url': 'https://api.github.com/repos/prometheus/prometheus/git/tags{/sha}', 'git_refs_url': 'https://api.github.com/repos/prometheus/prometheus/git/refs{/sha}', 'trees_url': 'https://api.github.com/repos/prometheus/prometheus/git/trees{/sha}', 'statuses_url': 'https://api.github.com/repos/prometheus/prometheus/statuses/{sha}', 'languages_url': 'https://api.github.com/repos/prometheus/prometheus/languages', 'stargazers_url': 'https://api.github.com/repos/prometheus/prometheus/stargazers', 'contributors_url': 'https://api.github.com/repos/prometheus/prometheus/contributors', 'subscribers_url': 'https://api.github.com/repos/prometheus/prometheus/subscribers', 'subscription_url': 'https://api.github.com/repos/prometheus/prometheus/subscription', 'commits_url': 'https://api.github.com/repos/prometheus/prometheus/commits{/sha}', 'git_commits_url': 'https://api.github.com/repos/prometheus/prometheus/git/commits{/sha}', 'comments_url': 'https://api.github.com/repos/prometheus/prometheus/comments{/number}', 'issue_comment_url': 'https://api.github.com/repos/prometheus/prometheus/issues/comments{/number}', 'contents_url': 'https://api.github.com/repos/prometheus/prometheus/contents/{+path}', 'compare_url': 'https://api.github.com/repos/prometheus/prometheus/compare/{base}...{head}', 'merges_url': 'https://api.github.com/repos/prometheus/prometheus/merges', 'archive_url': 'https://api.github.com/repos/prometheus/prometheus/{archive_format}{/ref}', 'downloads_url': 'https://api.github.com/repos/prometheus/prometheus/downloads', 'issues_url': 'https://api.github.com/repos/prometheus/prometheus/issues{/number}', 'pulls_url': 'https://api.github.com/repos/prometheus/prometheus/pulls{/number}', 'milestones_url': 'https://api.github.com/repos/prometheus/prometheus/milestones{/number}', 'notifications_url': 'https://api.github.com/repos/prometheus/prometheus/notifications{?since,all,participating}', 'labels_url': 'https://api.github.com/repos/prometheus/prometheus/labels{/name}', 'releases_url': 'https://api.github.com/repos/prometheus/prometheus/releases{/id}', 'deployments_url': 'https://api.github.com/repos/prometheus/prometheus/deployments', 'created_at': '2012-11-24T11:14:12Z', 'updated_at': '2020-12-05T16:49:56Z', 'pushed_at': '2020-12-04T16:38:24Z', 'git_url': 'git://github.com/prometheus/prometheus.git', 'ssh_url': 'git@github.com:prometheus/prometheus.git', 'clone_url': 'https://github.com/prometheus/prometheus.git', 'svn_url': 'https://github.com/prometheus/prometheus', 'homepage': 'https://prometheus.io/', 'size': 116145, 'stargazers_count': 34160, 'watchers_count': 34160, 'language': 'Go', 'has_issues': True, 'has_projects': True, 'has_downloads': True, 'has_wiki': True, 'has_pages': False, 'forks_count': 5392, 'mirror_url': None, 'archived': False, 'disabled': False, 'open_issues_count': 385, 'license': {'key': 'apache-2.0', 'name': 'Apache License 2.0', 'spdx_id': 'Apache-2.0', 'url': 'https://api.github.com/licenses/apache-2.0', 'node_id': 'MDc6TGljZW5zZTI='}, 'forks': 5392, 'open_issues': 385, 'watchers': 34160, 'default_branch': 'master', 'score': 1.0}, {'id': 14712850, 'node_id': 'MDEwOlJlcG9zaXRvcnkxNDcxMjg1MA==', 'name': 'syncthing', 'full_name': 'syncthing/syncthing', 'private': False, 'owner': {'login': 'syncthing', 'id': 7628018, 'node_id': 'MDEyOk9yZ2FuaXphdGlvbjc2MjgwMTg=', 'avatar_url': 'https://avatars0.githubusercontent.com/u/7628018?v=4', 'gravatar_id': '', 'url': 'https://api.github.com/users/syncthing', 'html_url': 'https://github.com/syncthing', 'followers_url': 'https://api.github.com/users/syncthing/followers', 'following_url': 'https://api.github.com/users/syncthing/following{/other_user}', 'gists_url': 'https://api.github.com/users/syncthing/gists{/gist_id}', 'starred_url': 'https://api.github.com/users/syncthing/starred{/owner}{/repo}', 'subscriptions_url': 'https://api.github.com/users/syncthing/subscriptions', 'organizations_url': 'https://api.github.com/users/syncthing/orgs', 'repos_url': 'https://api.github.com/users/syncthing/repos', 'events_url': 'https://api.github.com/users/syncthing/events{/privacy}', 'received_events_url': 'https://api.github.com/users/syncthing/received_events', 'type': 'Organization', 'site_admin': False}, 'html_url': 'https://github.com/syncthing/syncthing', 'description': 'Open Source Continuous File Synchronization', 'fork': False, 'url': 'https://api.github.com/repos/syncthing/syncthing', 'forks_url': 'https://api.github.com/repos/syncthing/syncthing/forks', 'keys_url': 'https://api.github.com/repos/syncthing/syncthing/keys{/key_id}', 'collaborators_url': 'https://api.github.com/repos/syncthing/syncthing/collaborators{/collaborator}', 'teams_url': 'https://api.github.com/repos/syncthing/syncthing/teams', 'hooks_url': 'https://api.github.com/repos/syncthing/syncthing/hooks', 'issue_events_url': 'https://api.github.com/repos/syncthing/syncthing/issues/events{/number}', 'events_url': 'https://api.github.com/repos/syncthing/syncthing/events', 'assignees_url': 'https://api.github.com/repos/syncthing/syncthing/assignees{/user}', 'branches_url': 'https://api.github.com/repos/syncthing/syncthing/branches{/branch}', 'tags_url': 'https://api.github.com/repos/syncthing/syncthing/tags', 'blobs_url': 'https://api.github.com/repos/syncthing/syncthing/git/blobs{/sha}', 'git_tags_url': 'https://api.github.com/repos/syncthing/syncthing/git/tags{/sha}', 'git_refs_url': 'https://api.github.com/repos/syncthing/syncthing/git/refs{/sha}', 'trees_url': 'https://api.github.com/repos/syncthing/syncthing/git/trees{/sha}', 'statuses_url': 'https://api.github.com/repos/syncthing/syncthing/statuses/{sha}', 'languages_url': 'https://api.github.com/repos/syncthing/syncthing/languages', 'stargazers_url': 'https://api.github.com/repos/syncthing/syncthing/stargazers', 'contributors_url': 'https://api.github.com/repos/syncthing/syncthing/contributors', 'subscribers_url': 'https://api.github.com/repos/syncthing/syncthing/subscribers', 'subscription_url': 'https://api.github.com/repos/syncthing/syncthing/subscription', 'commits_url': 'https://api.github.com/repos/syncthing/syncthing/commits{/sha}', 'git_commits_url': 'https://api.github.com/repos/syncthing/syncthing/git/commits{/sha}', 'comments_url': 'https://api.github.com/repos/syncthing/syncthing/comments{/number}', 'issue_comment_url': 'https://api.github.com/repos/syncthing/syncthing/issues/comments{/number}', 'contents_url': 'https://api.github.com/repos/syncthing/syncthing/contents/{+path}', 'compare_url': 'https://api.github.com/repos/syncthing/syncthing/compare/{base}...{head}', 'merges_url': 'https://api.github.com/repos/syncthing/syncthing/merges', 'archive_url': 'https://api.github.com/repos/syncthing/syncthing/{archive_format}{/ref}', 'downloads_url': 'https://api.github.com/repos/syncthing/syncthing/downloads', 'issues_url': 'https://api.github.com/repos/syncthing/syncthing/issues{/number}', 'pulls_url': 'https://api.github.com/repos/syncthing/syncthing/pulls{/number}', 'milestones_url': 'https://api.github.com/repos/syncthing/syncthing/milestones{/number}', 'notifications_url': 'https://api.github.com/repos/syncthing/syncthing/notifications{?since,all,participating}', 'labels_url': 'https://api.github.com/repos/syncthing/syncthing/labels{/name}', 'releases_url': 'https://api.github.com/repos/syncthing/syncthing/releases{/id}', 'deployments_url': 'https://api.github.com/repos/syncthing/syncthing/deployments', 'created_at': '2013-11-26T09:48:21Z', 'updated_at': '2020-12-05T16:31:02Z', 'pushed_at': '2020-12-04T13:35:49Z', 'git_url': 'git://github.com/syncthing/syncthing.git', 'ssh_url': 'git@github.com:syncthing/syncthing.git', 'clone_url': 'https://github.com/syncthing/syncthing.git', 'svn_url': 'https://github.com/syncthing/syncthing', 'homepage': 'https://forum.syncthing.net/', 'size': 112113, 'stargazers_count': 33993, 'watchers_count': 33993, 'language': 'Go', 'has_issues': True, 'has_projects': True, 'has_downloads': True, 'has_wiki': True, 'has_pages': False, 'forks_count': 2860, 'mirror_url': None, 'archived': False, 'disabled': False, 'open_issues_count': 261, 'license': {'key': 'mpl-2.0', 'name': 'Mozilla Public License 2.0', 'spdx_id': 'MPL-2.0', 'url': 'https://api.github.com/licenses/mpl-2.0', 'node_id': 'MDc6TGljZW5zZTE0'}, 'forks': 2860, 'open_issues': 261, 'watchers': 33993, 'default_branch': 'main', 'score': 1.0}, {'id': 11225014, 'node_id': 'MDEwOlJlcG9zaXRvcnkxMTIyNTAxNA==', 'name': 'etcd', 'full_name': 'etcd-io/etcd', 'private': False, 'owner': {'login': 'etcd-io', 'id': 41972792, 'node_id': 'MDEyOk9yZ2FuaXphdGlvbjQxOTcyNzky', 'avatar_url': 'https://avatars3.githubusercontent.com/u/41972792?v=4', 'gravatar_id': '', 'url': 'https://api.github.com/users/etcd-io', 'html_url': 'https://github.com/etcd-io', 'followers_url': 'https://api.github.com/users/etcd-io/followers', 'following_url': 'https://api.github.com/users/etcd-io/following{/other_user}', 'gists_url': 'https://api.github.com/users/etcd-io/gists{/gist_id}', 'starred_url': 'https://api.github.com/users/etcd-io/starred{/owner}{/repo}', 'subscriptions_url': 'https://api.github.com/users/etcd-io/subscriptions', 'organizations_url': 'https://api.github.com/users/etcd-io/orgs', 'repos_url': 'https://api.github.com/users/etcd-io/repos', 'events_url': 'https://api.github.com/users/etcd-io/events{/privacy}', 'received_events_url': 'https://api.github.com/users/etcd-io/received_events', 'type': 'Organization', 'site_admin': False}, 'html_url': 'https://github.com/etcd-io/etcd', 'description': 'Distributed reliable key-value store for the most critical data of a distributed system', 'fork': False, 'url': 'https://api.github.com/repos/etcd-io/etcd', 'forks_url': 'https://api.github.com/repos/etcd-io/etcd/forks', 'keys_url': 'https://api.github.com/repos/etcd-io/etcd/keys{/key_id}', 'collaborators_url': 'https://api.github.com/repos/etcd-io/etcd/collaborators{/collaborator}', 'teams_url': 'https://api.github.com/repos/etcd-io/etcd/teams', 'hooks_url': 'https://api.github.com/repos/etcd-io/etcd/hooks', 'issue_events_url': 'https://api.github.com/repos/etcd-io/etcd/issues/events{/number}', 'events_url': 'https://api.github.com/repos/etcd-io/etcd/events', 'assignees_url': 'https://api.github.com/repos/etcd-io/etcd/assignees{/user}', 'branches_url': 'https://api.github.com/repos/etcd-io/etcd/branches{/branch}', 'tags_url': 'https://api.github.com/repos/etcd-io/etcd/tags', 'blobs_url': 'https://api.github.com/repos/etcd-io/etcd/git/blobs{/sha}', 'git_tags_url': 'https://api.github.com/repos/etcd-io/etcd/git/tags{/sha}', 'git_refs_url': 'https://api.github.com/repos/etcd-io/etcd/git/refs{/sha}', 'trees_url': 'https://api.github.com/repos/etcd-io/etcd/git/trees{/sha}', 'statuses_url': 'https://api.github.com/repos/etcd-io/etcd/statuses/{sha}', 'languages_url': 'https://api.github.com/repos/etcd-io/etcd/languages', 'stargazers_url': 'https://api.github.com/repos/etcd-io/etcd/stargazers', 'contributors_url': 'https://api.github.com/repos/etcd-io/etcd/contributors', 'subscribers_url': 'https://api.github.com/repos/etcd-io/etcd/subscribers', 'subscription_url': 'https://api.github.com/repos/etcd-io/etcd/subscription', 'commits_url': 'https://api.github.com/repos/etcd-io/etcd/commits{/sha}', 'git_commits_url': 'https://api.github.com/repos/etcd-io/etcd/git/commits{/sha}', 'comments_url': 'https://api.github.com/repos/etcd-io/etcd/comments{/number}', 'issue_comment_url': 'https://api.github.com/repos/etcd-io/etcd/issues/comments{/number}', 'contents_url': 'https://api.github.com/repos/etcd-io/etcd/contents/{+path}', 'compare_url': 'https://api.github.com/repos/etcd-io/etcd/compare/{base}...{head}', 'merges_url': 'https://api.github.com/repos/etcd-io/etcd/merges', 'archive_url': 'https://api.github.com/repos/etcd-io/etcd/{archive_format}{/ref}', 'downloads_url': 'https://api.github.com/repos/etcd-io/etcd/downloads', 'issues_url': 'https://api.github.com/repos/etcd-io/etcd/issues{/number}', 'pulls_url': 'https://api.github.com/repos/etcd-io/etcd/pulls{/number}', 'milestones_url': 'https://api.github.com/repos/etcd-io/etcd/milestones{/number}', 'notifications_url': 'https://api.github.com/repos/etcd-io/etcd/notifications{?since,all,participating}', 'labels_url': 'https://api.github.com/repos/etcd-io/etcd/labels{/name}', 'releases_url': 'https://api.github.com/repos/etcd-io/etcd/releases{/id}', 'deployments_url': 'https://api.github.com/repos/etcd-io/etcd/deployments', 'created_at': '2013-07-06T21:57:21Z', 'updated_at': '2020-12-05T17:00:09Z', 'pushed_at': '2020-12-05T02:09:59Z', 'git_url': 'git://github.com/etcd-io/etcd.git', 'ssh_url': 'git@github.com:etcd-io/etcd.git', 'clone_url': 'https://github.com/etcd-io/etcd.git', 'svn_url': 'https://github.com/etcd-io/etcd', 'homepage': 'https://etcd.io', 'size': 61629, 'stargazers_count': 33822, 'watchers_count': 33822, 'language': 'Go', 'has_issues': True, 'has_projects': False, 'has_downloads': True, 'has_wiki': False, 'has_pages': False, 'forks_count': 7164, 'mirror_url': None, 'archived': False, 'disabled': False, 'open_issues_count': 252, 'license': {'key': 'apache-2.0', 'name': 'Apache License 2.0', 'spdx_id': 'Apache-2.0', 'url': 'https://api.github.com/licenses/apache-2.0', 'node_id': 'MDc6TGljZW5zZTI='}, 'forks': 7164, 'open_issues': 252, 'watchers': 33822, 'default_branch': 'master', 'score': 1.0}, {'id': 13807606, 'node_id': 'MDEwOlJlcG9zaXRvcnkxMzgwNzYwNg==', 'name': 'fzf', 'full_name': 'junegunn/fzf', 'private': False, 'owner': {'login': 'junegunn', 'id': 700826, 'node_id': 'MDQ6VXNlcjcwMDgyNg==', 'avatar_url': 'https://avatars2.githubusercontent.com/u/700826?v=4', 'gravatar_id': '', 'url': 'https://api.github.com/users/junegunn', 'html_url': 'https://github.com/junegunn', 'followers_url': 'https://api.github.com/users/junegunn/followers', 'following_url': 'https://api.github.com/users/junegunn/following{/other_user}', 'gists_url': 'https://api.github.com/users/junegunn/gists{/gist_id}', 'starred_url': 'https://api.github.com/users/junegunn/starred{/owner}{/repo}', 'subscriptions_url': 'https://api.github.com/users/junegunn/subscriptions', 'organizations_url': 'https://api.github.com/users/junegunn/orgs', 'repos_url': 'https://api.github.com/users/junegunn/repos', 'events_url': 'https://api.github.com/users/junegunn/events{/privacy}', 'received_events_url': 'https://api.github.com/users/junegunn/received_events', 'type': 'User', 'site_admin': False}, 'html_url': 'https://github.com/junegunn/fzf', 'description': ':cherry_blossom: A command-line fuzzy finder', 'fork': False, 'url': 'https://api.github.com/repos/junegunn/fzf', 'forks_url': 'https://api.github.com/repos/junegunn/fzf/forks', 'keys_url': 'https://api.github.com/repos/junegunn/fzf/keys{/key_id}', 'collaborators_url': 'https://api.github.com/repos/junegunn/fzf/collaborators{/collaborator}', 'teams_url': 'https://api.github.com/repos/junegunn/fzf/teams', 'hooks_url': 'https://api.github.com/repos/junegunn/fzf/hooks', 'issue_events_url': 'https://api.github.com/repos/junegunn/fzf/issues/events{/number}', 'events_url': 'https://api.github.com/repos/junegunn/fzf/events', 'assignees_url': 'https://api.github.com/repos/junegunn/fzf/assignees{/user}', 'branches_url': 'https://api.github.com/repos/junegunn/fzf/branches{/branch}', 'tags_url': 'https://api.github.com/repos/junegunn/fzf/tags', 'blobs_url': 'https://api.github.com/repos/junegunn/fzf/git/blobs{/sha}', 'git_tags_url': 'https://api.github.com/repos/junegunn/fzf/git/tags{/sha}', 'git_refs_url': 'https://api.github.com/repos/junegunn/fzf/git/refs{/sha}', 'trees_url': 'https://api.github.com/repos/junegunn/fzf/git/trees{/sha}', 'statuses_url': 'https://api.github.com/repos/junegunn/fzf/statuses/{sha}', 'languages_url': 'https://api.github.com/repos/junegunn/fzf/languages', 'stargazers_url': 'https://api.github.com/repos/junegunn/fzf/stargazers', 'contributors_url': 'https://api.github.com/repos/junegunn/fzf/contributors', 'subscribers_url': 'https://api.github.com/repos/junegunn/fzf/subscribers', 'subscription_url': 'https://api.github.com/repos/junegunn/fzf/subscription', 'commits_url': 'https://api.github.com/repos/junegunn/fzf/commits{/sha}', 'git_commits_url': 'https://api.github.com/repos/junegunn/fzf/git/commits{/sha}', 'comments_url': 'https://api.github.com/repos/junegunn/fzf/comments{/number}', 'issue_comment_url': 'https://api.github.com/repos/junegunn/fzf/issues/comments{/number}', 'contents_url': 'https://api.github.com/repos/junegunn/fzf/contents/{+path}', 'compare_url': 'https://api.github.com/repos/junegunn/fzf/compare/{base}...{head}', 'merges_url': 'https://api.github.com/repos/junegunn/fzf/merges', 'archive_url': 'https://api.github.com/repos/junegunn/fzf/{archive_format}{/ref}', 'downloads_url': 'https://api.github.com/repos/junegunn/fzf/downloads', 'issues_url': 'https://api.github.com/repos/junegunn/fzf/issues{/number}', 'pulls_url': 'https://api.github.com/repos/junegunn/fzf/pulls{/number}', 'milestones_url': 'https://api.github.com/repos/junegunn/fzf/milestones{/number}', 'notifications_url': 'https://api.github.com/repos/junegunn/fzf/notifications{?since,all,participating}', 'labels_url': 'https://api.github.com/repos/junegunn/fzf/labels{/name}', 'releases_url': 'https://api.github.com/repos/junegunn/fzf/releases{/id}', 'deployments_url': 'https://api.github.com/repos/junegunn/fzf/deployments', 'created_at': '2013-10-23T16:04:23Z', 'updated_at': '2020-12-05T17:07:23Z', 'pushed_at': '2020-12-05T14:28:00Z', 'git_url': 'git://github.com/junegunn/fzf.git', 'ssh_url': 'git@github.com:junegunn/fzf.git', 'clone_url': 'https://github.com/junegunn/fzf.git', 'svn_url': 'https://github.com/junegunn/fzf', 'homepage': '', 'size': 3835, 'stargazers_count': 33438, 'watchers_count': 33438, 'language': 'Go', 'has_issues': True, 'has_projects': False, 'has_downloads': True, 'has_wiki': True, 'has_pages': False, 'forks_count': 1405, 'mirror_url': None, 'archived': False, 'disabled': False, 'open_issues_count': 173, 'license': {'key': 'mit', 'name': 'MIT License', 'spdx_id': 'MIT', 'url': 'https://api.github.com/licenses/mit', 'node_id': 'MDc6TGljZW5zZTEz'}, 'forks': 1405, 'open_issues': 173, 'watchers': 33438, 'default_branch': 'master', 'score': 1.0}, {'id': 42408804, 'node_id': 'MDEwOlJlcG9zaXRvcnk0MjQwODgwNA==', 'name': 'traefik', 'full_name': 'traefik/traefik', 'private': False, 'owner': {'login': 'traefik', 'id': 14280338, 'node_id': 'MDEyOk9yZ2FuaXphdGlvbjE0MjgwMzM4', 'avatar_url': 'https://avatars2.githubusercontent.com/u/14280338?v=4', 'gravatar_id': '', 'url': 'https://api.github.com/users/traefik', 'html_url': 'https://github.com/traefik', 'followers_url': 'https://api.github.com/users/traefik/followers', 'following_url': 'https://api.github.com/users/traefik/following{/other_user}', 'gists_url': 'https://api.github.com/users/traefik/gists{/gist_id}', 'starred_url': 'https://api.github.com/users/traefik/starred{/owner}{/repo}', 'subscriptions_url': 'https://api.github.com/users/traefik/subscriptions', 'organizations_url': 'https://api.github.com/users/traefik/orgs', 'repos_url': 'https://api.github.com/users/traefik/repos', 'events_url': 'https://api.github.com/users/traefik/events{/privacy}', 'received_events_url': 'https://api.github.com/users/traefik/received_events', 'type': 'Organization', 'site_admin': False}, 'html_url': 'https://github.com/traefik/traefik', 'description': 'The Cloud Native Application Proxy', 'fork': False, 'url': 'https://api.github.com/repos/traefik/traefik', 'forks_url': 'https://api.github.com/repos/traefik/traefik/forks', 'keys_url': 'https://api.github.com/repos/traefik/traefik/keys{/key_id}', 'collaborators_url': 'https://api.github.com/repos/traefik/traefik/collaborators{/collaborator}', 'teams_url': 'https://api.github.com/repos/traefik/traefik/teams', 'hooks_url': 'https://api.github.com/repos/traefik/traefik/hooks', 'issue_events_url': 'https://api.github.com/repos/traefik/traefik/issues/events{/number}', 'events_url': 'https://api.github.com/repos/traefik/traefik/events', 'assignees_url': 'https://api.github.com/repos/traefik/traefik/assignees{/user}', 'branches_url': 'https://api.github.com/repos/traefik/traefik/branches{/branch}', 'tags_url': 'https://api.github.com/repos/traefik/traefik/tags', 'blobs_url': 'https://api.github.com/repos/traefik/traefik/git/blobs{/sha}', 'git_tags_url': 'https://api.github.com/repos/traefik/traefik/git/tags{/sha}', 'git_refs_url': 'https://api.github.com/repos/traefik/traefik/git/refs{/sha}', 'trees_url': 'https://api.github.com/repos/traefik/traefik/git/trees{/sha}', 'statuses_url': 'https://api.github.com/repos/traefik/traefik/statuses/{sha}', 'languages_url': 'https://api.github.com/repos/traefik/traefik/languages', 'stargazers_url': 'https://api.github.com/repos/traefik/traefik/stargazers', 'contributors_url': 'https://api.github.com/repos/traefik/traefik/contributors', 'subscribers_url': 'https://api.github.com/repos/traefik/traefik/subscribers', 'subscription_url': 'https://api.github.com/repos/traefik/traefik/subscription', 'commits_url': 'https://api.github.com/repos/traefik/traefik/commits{/sha}', 'git_commits_url': 'https://api.github.com/repos/traefik/traefik/git/commits{/sha}', 'comments_url': 'https://api.github.com/repos/traefik/traefik/comments{/number}', 'issue_comment_url': 'https://api.github.com/repos/traefik/traefik/issues/comments{/number}', 'contents_url': 'https://api.github.com/repos/traefik/traefik/contents/{+path}', 'compare_url': 'https://api.github.com/repos/traefik/traefik/compare/{base}...{head}', 'merges_url': 'https://api.github.com/repos/traefik/traefik/merges', 'archive_url': 'https://api.github.com/repos/traefik/traefik/{archive_format}{/ref}', 'downloads_url': 'https://api.github.com/repos/traefik/traefik/downloads', 'issues_url': 'https://api.github.com/repos/traefik/traefik/issues{/number}', 'pulls_url': 'https://api.github.com/repos/traefik/traefik/pulls{/number}', 'milestones_url': 'https://api.github.com/repos/traefik/traefik/milestones{/number}', 'notifications_url': 'https://api.github.com/repos/traefik/traefik/notifications{?since,all,participating}', 'labels_url': 'https://api.github.com/repos/traefik/traefik/labels{/name}', 'releases_url': 'https://api.github.com/repos/traefik/traefik/releases{/id}', 'deployments_url': 'https://api.github.com/repos/traefik/traefik/deployments', 'created_at': '2015-09-13T19:04:02Z', 'updated_at': '2020-12-05T12:40:06Z', 'pushed_at': '2020-12-05T16:34:48Z', 'git_url': 'git://github.com/traefik/traefik.git', 'ssh_url': 'git@github.com:traefik/traefik.git', 'clone_url': 'https://github.com/traefik/traefik.git', 'svn_url': 'https://github.com/traefik/traefik', 'homepage': 'https://traefik.io', 'size': 54847, 'stargazers_count': 31787, 'watchers_count': 31787, 'language': 'Go', 'has_issues': True, 'has_projects': True, 'has_downloads': True, 'has_wiki': True, 'has_pages': True, 'forks_count': 3504, 'mirror_url': None, 'archived': False, 'disabled': False, 'open_issues_count': 589, 'license': {'key': 'mit', 'name': 'MIT License', 'spdx_id': 'MIT', 'url': 'https://api.github.com/licenses/mit', 'node_id': 'MDc6TGljZW5zZTEz'}, 'forks': 3504, 'open_issues': 589, 'watchers': 31787, 'default_branch': 'master', 'score': 1.0}, {'id': 29207621, 'node_id': 'MDEwOlJlcG9zaXRvcnkyOTIwNzYyMQ==', 'name': 'caddy', 'full_name': 'caddyserver/caddy', 'private': False, 'owner': {'login': 'caddyserver', 'id': 12955528, 'node_id': 'MDEyOk9yZ2FuaXphdGlvbjEyOTU1NTI4', 'avatar_url': 'https://avatars2.githubusercontent.com/u/12955528?v=4', 'gravatar_id': '', 'url': 'https://api.github.com/users/caddyserver', 'html_url': 'https://github.com/caddyserver', 'followers_url': 'https://api.github.com/users/caddyserver/followers', 'following_url': 'https://api.github.com/users/caddyserver/following{/other_user}', 'gists_url': 'https://api.github.com/users/caddyserver/gists{/gist_id}', 'starred_url': 'https://api.github.com/users/caddyserver/starred{/owner}{/repo}', 'subscriptions_url': 'https://api.github.com/users/caddyserver/subscriptions', 'organizations_url': 'https://api.github.com/users/caddyserver/orgs', 'repos_url': 'https://api.github.com/users/caddyserver/repos', 'events_url': 'https://api.github.com/users/caddyserver/events{/privacy}', 'received_events_url': 'https://api.github.com/users/caddyserver/received_events', 'type': 'Organization', 'site_admin': False}, 'html_url': 'https://github.com/caddyserver/caddy', 'description': 'Fast, multi-platform web server with automatic HTTPS', 'fork': False, 'url': 'https://api.github.com/repos/caddyserver/caddy', 'forks_url': 'https://api.github.com/repos/caddyserver/caddy/forks', 'keys_url': 'https://api.github.com/repos/caddyserver/caddy/keys{/key_id}', 'collaborators_url': 'https://api.github.com/repos/caddyserver/caddy/collaborators{/collaborator}', 'teams_url': 'https://api.github.com/repos/caddyserver/caddy/teams', 'hooks_url': 'https://api.github.com/repos/caddyserver/caddy/hooks', 'issue_events_url': 'https://api.github.com/repos/caddyserver/caddy/issues/events{/number}', 'events_url': 'https://api.github.com/repos/caddyserver/caddy/events', 'assignees_url': 'https://api.github.com/repos/caddyserver/caddy/assignees{/user}', 'branches_url': 'https://api.github.com/repos/caddyserver/caddy/branches{/branch}', 'tags_url': 'https://api.github.com/repos/caddyserver/caddy/tags', 'blobs_url': 'https://api.github.com/repos/caddyserver/caddy/git/blobs{/sha}', 'git_tags_url': 'https://api.github.com/repos/caddyserver/caddy/git/tags{/sha}', 'git_refs_url': 'https://api.github.com/repos/caddyserver/caddy/git/refs{/sha}', 'trees_url': 'https://api.github.com/repos/caddyserver/caddy/git/trees{/sha}', 'statuses_url': 'https://api.github.com/repos/caddyserver/caddy/statuses/{sha}', 'languages_url': 'https://api.github.com/repos/caddyserver/caddy/languages', 'stargazers_url': 'https://api.github.com/repos/caddyserver/caddy/stargazers', 'contributors_url': 'https://api.github.com/repos/caddyserver/caddy/contributors', 'subscribers_url': 'https://api.github.com/repos/caddyserver/caddy/subscribers', 'subscription_url': 'https://api.github.com/repos/caddyserver/caddy/subscription', 'commits_url': 'https://api.github.com/repos/caddyserver/caddy/commits{/sha}', 'git_commits_url': 'https://api.github.com/repos/caddyserver/caddy/git/commits{/sha}', 'comments_url': 'https://api.github.com/repos/caddyserver/caddy/comments{/number}', 'issue_comment_url': 'https://api.github.com/repos/caddyserver/caddy/issues/comments{/number}', 'contents_url': 'https://api.github.com/repos/caddyserver/caddy/contents/{+path}', 'compare_url': 'https://api.github.com/repos/caddyserver/caddy/compare/{base}...{head}', 'merges_url': 'https://api.github.com/repos/caddyserver/caddy/merges', 'archive_url': 'https://api.github.com/repos/caddyserver/caddy/{archive_format}{/ref}', 'downloads_url': 'https://api.github.com/repos/caddyserver/caddy/downloads', 'issues_url': 'https://api.github.com/repos/caddyserver/caddy/issues{/number}', 'pulls_url': 'https://api.github.com/repos/caddyserver/caddy/pulls{/number}', 'milestones_url': 'https://api.github.com/repos/caddyserver/caddy/milestones{/number}', 'notifications_url': 'https://api.github.com/repos/caddyserver/caddy/notifications{?since,all,participating}', 'labels_url': 'https://api.github.com/repos/caddyserver/caddy/labels{/name}', 'releases_url': 'https://api.github.com/repos/caddyserver/caddy/releases{/id}', 'deployments_url': 'https://api.github.com/repos/caddyserver/caddy/deployments', 'created_at': '2015-01-13T19:45:03Z', 'updated_at': '2020-12-05T16:18:25Z', 'pushed_at': '2020-12-05T00:12:14Z', 'git_url': 'git://github.com/caddyserver/caddy.git', 'ssh_url': 'git@github.com:caddyserver/caddy.git', 'clone_url': 'https://github.com/caddyserver/caddy.git', 'svn_url': 'https://github.com/caddyserver/caddy', 'homepage': 'https://caddyserver.com', 'size': 13797, 'stargazers_count': 31107, 'watchers_count': 31107, 'language': 'Go', 'has_issues': True, 'has_projects': False, 'has_downloads': True, 'has_wiki': True, 'has_pages': False, 'forks_count': 2561, 'mirror_url': None, 'archived': False, 'disabled': False, 'open_issues_count': 68, 'license': {'key': 'apache-2.0', 'name': 'Apache License 2.0', 'spdx_id': 'Apache-2.0', 'url': 'https://api.github.com/licenses/apache-2.0', 'node_id': 'MDc6TGljZW5zZTI='}, 'forks': 2561, 'open_issues': 68, 'watchers': 31107, 'default_branch': 'master', 'score': 1.0}, {'id': 15452919, 'node_id': 'MDEwOlJlcG9zaXRvcnkxNTQ1MjkxOQ==', 'name': 'go-ethereum', 'full_name': 'ethereum/go-ethereum', 'private': False, 'owner': {'login': 'ethereum', 'id': 6250754, 'node_id': 'MDEyOk9yZ2FuaXphdGlvbjYyNTA3NTQ=', 'avatar_url': 'https://avatars3.githubusercontent.com/u/6250754?v=4', 'gravatar_id': '', 'url': 'https://api.github.com/users/ethereum', 'html_url': 'https://github.com/ethereum', 'followers_url': 'https://api.github.com/users/ethereum/followers', 'following_url': 'https://api.github.com/users/ethereum/following{/other_user}', 'gists_url': 'https://api.github.com/users/ethereum/gists{/gist_id}', 'starred_url': 'https://api.github.com/users/ethereum/starred{/owner}{/repo}', 'subscriptions_url': 'https://api.github.com/users/ethereum/subscriptions', 'organizations_url': 'https://api.github.com/users/ethereum/orgs', 'repos_url': 'https://api.github.com/users/ethereum/repos', 'events_url': 'https://api.github.com/users/ethereum/events{/privacy}', 'received_events_url': 'https://api.github.com/users/ethereum/received_events', 'type': 'Organization', 'site_admin': False}, 'html_url': 'https://github.com/ethereum/go-ethereum', 'description': 'Official Go implementation of the Ethereum protocol', 'fork': False, 'url': 'https://api.github.com/repos/ethereum/go-ethereum', 'forks_url': 'https://api.github.com/repos/ethereum/go-ethereum/forks', 'keys_url': 'https://api.github.com/repos/ethereum/go-ethereum/keys{/key_id}', 'collaborators_url': 'https://api.github.com/repos/ethereum/go-ethereum/collaborators{/collaborator}', 'teams_url': 'https://api.github.com/repos/ethereum/go-ethereum/teams', 'hooks_url': 'https://api.github.com/repos/ethereum/go-ethereum/hooks', 'issue_events_url': 'https://api.github.com/repos/ethereum/go-ethereum/issues/events{/number}', 'events_url': 'https://api.github.com/repos/ethereum/go-ethereum/events', 'assignees_url': 'https://api.github.com/repos/ethereum/go-ethereum/assignees{/user}', 'branches_url': 'https://api.github.com/repos/ethereum/go-ethereum/branches{/branch}', 'tags_url': 'https://api.github.com/repos/ethereum/go-ethereum/tags', 'blobs_url': 'https://api.github.com/repos/ethereum/go-ethereum/git/blobs{/sha}', 'git_tags_url': 'https://api.github.com/repos/ethereum/go-ethereum/git/tags{/sha}', 'git_refs_url': 'https://api.github.com/repos/ethereum/go-ethereum/git/refs{/sha}', 'trees_url': 'https://api.github.com/repos/ethereum/go-ethereum/git/trees{/sha}', 'statuses_url': 'https://api.github.com/repos/ethereum/go-ethereum/statuses/{sha}', 'languages_url': 'https://api.github.com/repos/ethereum/go-ethereum/languages', 'stargazers_url': 'https://api.github.com/repos/ethereum/go-ethereum/stargazers', 'contributors_url': 'https://api.github.com/repos/ethereum/go-ethereum/contributors', 'subscribers_url': 'https://api.github.com/repos/ethereum/go-ethereum/subscribers', 'subscription_url': 'https://api.github.com/repos/ethereum/go-ethereum/subscription', 'commits_url': 'https://api.github.com/repos/ethereum/go-ethereum/commits{/sha}', 'git_commits_url': 'https://api.github.com/repos/ethereum/go-ethereum/git/commits{/sha}', 'comments_url': 'https://api.github.com/repos/ethereum/go-ethereum/comments{/number}', 'issue_comment_url': 'https://api.github.com/repos/ethereum/go-ethereum/issues/comments{/number}', 'contents_url': 'https://api.github.com/repos/ethereum/go-ethereum/contents/{+path}', 'compare_url': 'https://api.github.com/repos/ethereum/go-ethereum/compare/{base}...{head}', 'merges_url': 'https://api.github.com/repos/ethereum/go-ethereum/merges', 'archive_url': 'https://api.github.com/repos/ethereum/go-ethereum/{archive_format}{/ref}', 'downloads_url': 'https://api.github.com/repos/ethereum/go-ethereum/downloads', 'issues_url': 'https://api.github.com/repos/ethereum/go-ethereum/issues{/number}', 'pulls_url': 'https://api.github.com/repos/ethereum/go-ethereum/pulls{/number}', 'milestones_url': 'https://api.github.com/repos/ethereum/go-ethereum/milestones{/number}', 'notifications_url': 'https://api.github.com/repos/ethereum/go-ethereum/notifications{?since,all,participating}', 'labels_url': 'https://api.github.com/repos/ethereum/go-ethereum/labels{/name}', 'releases_url': 'https://api.github.com/repos/ethereum/go-ethereum/releases{/id}', 'deployments_url': 'https://api.github.com/repos/ethereum/go-ethereum/deployments', 'created_at': '2013-12-26T13:05:46Z', 'updated_at': '2020-12-05T15:58:55Z', 'pushed_at': '2020-12-04T18:00:44Z', 'git_url': 'git://github.com/ethereum/go-ethereum.git', 'ssh_url': 'git@github.com:ethereum/go-ethereum.git', 'clone_url': 'https://github.com/ethereum/go-ethereum.git', 'svn_url': 'https://github.com/ethereum/go-ethereum', 'homepage': 'https://geth.ethereum.org', 'size': 153542, 'stargazers_count': 27334, 'watchers_count': 27334, 'language': 'Go', 'has_issues': True, 'has_projects': True, 'has_downloads': True, 'has_wiki': True, 'has_pages': True, 'forks_count': 10067, 'mirror_url': None, 'archived': False, 'disabled': False, 'open_issues_count': 268, 'license': {'key': 'lgpl-3.0', 'name': 'GNU Lesser General Public License v3.0', 'spdx_id': 'LGPL-3.0', 'url': 'https://api.github.com/licenses/lgpl-3.0', 'node_id': 'MDc6TGljZW5zZTEy'}, 'forks': 10067, 'open_issues': 268, 'watchers': 27334, 'default_branch': 'master', 'score': 1.0}, {'id': 138547797, 'node_id': 'MDEwOlJlcG9zaXRvcnkxMzg1NDc3OTc=', 'name': 'mkcert', 'full_name': 'FiloSottile/mkcert', 'private': False, 'owner': {'login': 'FiloSottile', 'id': 1225294, 'node_id': 'MDQ6VXNlcjEyMjUyOTQ=', 'avatar_url': 'https://avatars1.githubusercontent.com/u/1225294?v=4', 'gravatar_id': '', 'url': 'https://api.github.com/users/FiloSottile', 'html_url': 'https://github.com/FiloSottile', 'followers_url': 'https://api.github.com/users/FiloSottile/followers', 'following_url': 'https://api.github.com/users/FiloSottile/following{/other_user}', 'gists_url': 'https://api.github.com/users/FiloSottile/gists{/gist_id}', 'starred_url': 'https://api.github.com/users/FiloSottile/starred{/owner}{/repo}', 'subscriptions_url': 'https://api.github.com/users/FiloSottile/subscriptions', 'organizations_url': 'https://api.github.com/users/FiloSottile/orgs', 'repos_url': 'https://api.github.com/users/FiloSottile/repos', 'events_url': 'https://api.github.com/users/FiloSottile/events{/privacy}', 'received_events_url': 'https://api.github.com/users/FiloSottile/received_events', 'type': 'User', 'site_admin': False}, 'html_url': 'https://github.com/FiloSottile/mkcert', 'description': \"A simple zero-config tool to make locally trusted development certificates with any names you'd like.\", 'fork': False, 'url': 'https://api.github.com/repos/FiloSottile/mkcert', 'forks_url': 'https://api.github.com/repos/FiloSottile/mkcert/forks', 'keys_url': 'https://api.github.com/repos/FiloSottile/mkcert/keys{/key_id}', 'collaborators_url': 'https://api.github.com/repos/FiloSottile/mkcert/collaborators{/collaborator}', 'teams_url': 'https://api.github.com/repos/FiloSottile/mkcert/teams', 'hooks_url': 'https://api.github.com/repos/FiloSottile/mkcert/hooks', 'issue_events_url': 'https://api.github.com/repos/FiloSottile/mkcert/issues/events{/number}', 'events_url': 'https://api.github.com/repos/FiloSottile/mkcert/events', 'assignees_url': 'https://api.github.com/repos/FiloSottile/mkcert/assignees{/user}', 'branches_url': 'https://api.github.com/repos/FiloSottile/mkcert/branches{/branch}', 'tags_url': 'https://api.github.com/repos/FiloSottile/mkcert/tags', 'blobs_url': 'https://api.github.com/repos/FiloSottile/mkcert/git/blobs{/sha}', 'git_tags_url': 'https://api.github.com/repos/FiloSottile/mkcert/git/tags{/sha}', 'git_refs_url': 'https://api.github.com/repos/FiloSottile/mkcert/git/refs{/sha}', 'trees_url': 'https://api.github.com/repos/FiloSottile/mkcert/git/trees{/sha}', 'statuses_url': 'https://api.github.com/repos/FiloSottile/mkcert/statuses/{sha}', 'languages_url': 'https://api.github.com/repos/FiloSottile/mkcert/languages', 'stargazers_url': 'https://api.github.com/repos/FiloSottile/mkcert/stargazers', 'contributors_url': 'https://api.github.com/repos/FiloSottile/mkcert/contributors', 'subscribers_url': 'https://api.github.com/repos/FiloSottile/mkcert/subscribers', 'subscription_url': 'https://api.github.com/repos/FiloSottile/mkcert/subscription', 'commits_url': 'https://api.github.com/repos/FiloSottile/mkcert/commits{/sha}', 'git_commits_url': 'https://api.github.com/repos/FiloSottile/mkcert/git/commits{/sha}', 'comments_url': 'https://api.github.com/repos/FiloSottile/mkcert/comments{/number}', 'issue_comment_url': 'https://api.github.com/repos/FiloSottile/mkcert/issues/comments{/number}', 'contents_url': 'https://api.github.com/repos/FiloSottile/mkcert/contents/{+path}', 'compare_url': 'https://api.github.com/repos/FiloSottile/mkcert/compare/{base}...{head}', 'merges_url': 'https://api.github.com/repos/FiloSottile/mkcert/merges', 'archive_url': 'https://api.github.com/repos/FiloSottile/mkcert/{archive_format}{/ref}', 'downloads_url': 'https://api.github.com/repos/FiloSottile/mkcert/downloads', 'issues_url': 'https://api.github.com/repos/FiloSottile/mkcert/issues{/number}', 'pulls_url': 'https://api.github.com/repos/FiloSottile/mkcert/pulls{/number}', 'milestones_url': 'https://api.github.com/repos/FiloSottile/mkcert/milestones{/number}', 'notifications_url': 'https://api.github.com/repos/FiloSottile/mkcert/notifications{?since,all,participating}', 'labels_url': 'https://api.github.com/repos/FiloSottile/mkcert/labels{/name}', 'releases_url': 'https://api.github.com/repos/FiloSottile/mkcert/releases{/id}', 'deployments_url': 'https://api.github.com/repos/FiloSottile/mkcert/deployments', 'created_at': '2018-06-25T05:33:03Z', 'updated_at': '2020-12-05T16:03:32Z', 'pushed_at': '2020-11-28T10:36:26Z', 'git_url': 'git://github.com/FiloSottile/mkcert.git', 'ssh_url': 'git@github.com:FiloSottile/mkcert.git', 'clone_url': 'https://github.com/FiloSottile/mkcert.git', 'svn_url': 'https://github.com/FiloSottile/mkcert', 'homepage': 'https://mkcert.dev', 'size': 1836, 'stargazers_count': 26748, 'watchers_count': 26748, 'language': 'Go', 'has_issues': True, 'has_projects': False, 'has_downloads': True, 'has_wiki': False, 'has_pages': False, 'forks_count': 1185, 'mirror_url': None, 'archived': False, 'disabled': False, 'open_issues_count': 42, 'license': {'key': 'bsd-3-clause', 'name': 'BSD 3-Clause \"New\" or \"Revised\" License', 'spdx_id': 'BSD-3-Clause', 'url': 'https://api.github.com/licenses/bsd-3-clause', 'node_id': 'MDc6TGljZW5zZTU='}, 'forks': 1185, 'open_issues': 42, 'watchers': 26748, 'default_branch': 'master', 'score': 1.0}, {'id': 41986369, 'node_id': 'MDEwOlJlcG9zaXRvcnk0MTk4NjM2OQ==', 'name': 'tidb', 'full_name': 'pingcap/tidb', 'private': False, 'owner': {'login': 'pingcap', 'id': 11855343, 'node_id': 'MDEyOk9yZ2FuaXphdGlvbjExODU1MzQz', 'avatar_url': 'https://avatars3.githubusercontent.com/u/11855343?v=4', 'gravatar_id': '', 'url': 'https://api.github.com/users/pingcap', 'html_url': 'https://github.com/pingcap', 'followers_url': 'https://api.github.com/users/pingcap/followers', 'following_url': 'https://api.github.com/users/pingcap/following{/other_user}', 'gists_url': 'https://api.github.com/users/pingcap/gists{/gist_id}', 'starred_url': 'https://api.github.com/users/pingcap/starred{/owner}{/repo}', 'subscriptions_url': 'https://api.github.com/users/pingcap/subscriptions', 'organizations_url': 'https://api.github.com/users/pingcap/orgs', 'repos_url': 'https://api.github.com/users/pingcap/repos', 'events_url': 'https://api.github.com/users/pingcap/events{/privacy}', 'received_events_url': 'https://api.github.com/users/pingcap/received_events', 'type': 'Organization', 'site_admin': False}, 'html_url': 'https://github.com/pingcap/tidb', 'description': 'TiDB is an open source distributed HTAP database compatible with the MySQL protocol ', 'fork': False, 'url': 'https://api.github.com/repos/pingcap/tidb', 'forks_url': 'https://api.github.com/repos/pingcap/tidb/forks', 'keys_url': 'https://api.github.com/repos/pingcap/tidb/keys{/key_id}', 'collaborators_url': 'https://api.github.com/repos/pingcap/tidb/collaborators{/collaborator}', 'teams_url': 'https://api.github.com/repos/pingcap/tidb/teams', 'hooks_url': 'https://api.github.com/repos/pingcap/tidb/hooks', 'issue_events_url': 'https://api.github.com/repos/pingcap/tidb/issues/events{/number}', 'events_url': 'https://api.github.com/repos/pingcap/tidb/events', 'assignees_url': 'https://api.github.com/repos/pingcap/tidb/assignees{/user}', 'branches_url': 'https://api.github.com/repos/pingcap/tidb/branches{/branch}', 'tags_url': 'https://api.github.com/repos/pingcap/tidb/tags', 'blobs_url': 'https://api.github.com/repos/pingcap/tidb/git/blobs{/sha}', 'git_tags_url': 'https://api.github.com/repos/pingcap/tidb/git/tags{/sha}', 'git_refs_url': 'https://api.github.com/repos/pingcap/tidb/git/refs{/sha}', 'trees_url': 'https://api.github.com/repos/pingcap/tidb/git/trees{/sha}', 'statuses_url': 'https://api.github.com/repos/pingcap/tidb/statuses/{sha}', 'languages_url': 'https://api.github.com/repos/pingcap/tidb/languages', 'stargazers_url': 'https://api.github.com/repos/pingcap/tidb/stargazers', 'contributors_url': 'https://api.github.com/repos/pingcap/tidb/contributors', 'subscribers_url': 'https://api.github.com/repos/pingcap/tidb/subscribers', 'subscription_url': 'https://api.github.com/repos/pingcap/tidb/subscription', 'commits_url': 'https://api.github.com/repos/pingcap/tidb/commits{/sha}', 'git_commits_url': 'https://api.github.com/repos/pingcap/tidb/git/commits{/sha}', 'comments_url': 'https://api.github.com/repos/pingcap/tidb/comments{/number}', 'issue_comment_url': 'https://api.github.com/repos/pingcap/tidb/issues/comments{/number}', 'contents_url': 'https://api.github.com/repos/pingcap/tidb/contents/{+path}', 'compare_url': 'https://api.github.com/repos/pingcap/tidb/compare/{base}...{head}', 'merges_url': 'https://api.github.com/repos/pingcap/tidb/merges', 'archive_url': 'https://api.github.com/repos/pingcap/tidb/{archive_format}{/ref}', 'downloads_url': 'https://api.github.com/repos/pingcap/tidb/downloads', 'issues_url': 'https://api.github.com/repos/pingcap/tidb/issues{/number}', 'pulls_url': 'https://api.github.com/repos/pingcap/tidb/pulls{/number}', 'milestones_url': 'https://api.github.com/repos/pingcap/tidb/milestones{/number}', 'notifications_url': 'https://api.github.com/repos/pingcap/tidb/notifications{?since,all,participating}', 'labels_url': 'https://api.github.com/repos/pingcap/tidb/labels{/name}', 'releases_url': 'https://api.github.com/repos/pingcap/tidb/releases{/id}', 'deployments_url': 'https://api.github.com/repos/pingcap/tidb/deployments', 'created_at': '2015-09-06T04:01:52Z', 'updated_at': '2020-12-05T14:58:51Z', 'pushed_at': '2020-12-05T08:34:50Z', 'git_url': 'git://github.com/pingcap/tidb.git', 'ssh_url': 'git@github.com:pingcap/tidb.git', 'clone_url': 'https://github.com/pingcap/tidb.git', 'svn_url': 'https://github.com/pingcap/tidb', 'homepage': 'https://pingcap.com', 'size': 199433, 'stargazers_count': 26081, 'watchers_count': 26081, 'language': 'Go', 'has_issues': True, 'has_projects': True, 'has_downloads': True, 'has_wiki': True, 'has_pages': False, 'forks_count': 4062, 'mirror_url': None, 'archived': False, 'disabled': False, 'open_issues_count': 1809, 'license': {'key': 'apache-2.0', 'name': 'Apache License 2.0', 'spdx_id': 'Apache-2.0', 'url': 'https://api.github.com/licenses/apache-2.0', 'node_id': 'MDc6TGljZW5zZTI='}, 'forks': 4062, 'open_issues': 1809, 'watchers': 26081, 'default_branch': 'master', 'score': 1.0}, {'id': 74175805, 'node_id': 'MDEwOlJlcG9zaXRvcnk3NDE3NTgwNQ==', 'name': 'istio', 'full_name': 'istio/istio', 'private': False, 'owner': {'login': 'istio', 'id': 23534644, 'node_id': 'MDEyOk9yZ2FuaXphdGlvbjIzNTM0NjQ0', 'avatar_url': 'https://avatars1.githubusercontent.com/u/23534644?v=4', 'gravatar_id': '', 'url': 'https://api.github.com/users/istio', 'html_url': 'https://github.com/istio', 'followers_url': 'https://api.github.com/users/istio/followers', 'following_url': 'https://api.github.com/users/istio/following{/other_user}', 'gists_url': 'https://api.github.com/users/istio/gists{/gist_id}', 'starred_url': 'https://api.github.com/users/istio/starred{/owner}{/repo}', 'subscriptions_url': 'https://api.github.com/users/istio/subscriptions', 'organizations_url': 'https://api.github.com/users/istio/orgs', 'repos_url': 'https://api.github.com/users/istio/repos', 'events_url': 'https://api.github.com/users/istio/events{/privacy}', 'received_events_url': 'https://api.github.com/users/istio/received_events', 'type': 'Organization', 'site_admin': False}, 'html_url': 'https://github.com/istio/istio', 'description': 'Connect, secure, control, and observe services.', 'fork': False, 'url': 'https://api.github.com/repos/istio/istio', 'forks_url': 'https://api.github.com/repos/istio/istio/forks', 'keys_url': 'https://api.github.com/repos/istio/istio/keys{/key_id}', 'collaborators_url': 'https://api.github.com/repos/istio/istio/collaborators{/collaborator}', 'teams_url': 'https://api.github.com/repos/istio/istio/teams', 'hooks_url': 'https://api.github.com/repos/istio/istio/hooks', 'issue_events_url': 'https://api.github.com/repos/istio/istio/issues/events{/number}', 'events_url': 'https://api.github.com/repos/istio/istio/events', 'assignees_url': 'https://api.github.com/repos/istio/istio/assignees{/user}', 'branches_url': 'https://api.github.com/repos/istio/istio/branches{/branch}', 'tags_url': 'https://api.github.com/repos/istio/istio/tags', 'blobs_url': 'https://api.github.com/repos/istio/istio/git/blobs{/sha}', 'git_tags_url': 'https://api.github.com/repos/istio/istio/git/tags{/sha}', 'git_refs_url': 'https://api.github.com/repos/istio/istio/git/refs{/sha}', 'trees_url': 'https://api.github.com/repos/istio/istio/git/trees{/sha}', 'statuses_url': 'https://api.github.com/repos/istio/istio/statuses/{sha}', 'languages_url': 'https://api.github.com/repos/istio/istio/languages', 'stargazers_url': 'https://api.github.com/repos/istio/istio/stargazers', 'contributors_url': 'https://api.github.com/repos/istio/istio/contributors', 'subscribers_url': 'https://api.github.com/repos/istio/istio/subscribers', 'subscription_url': 'https://api.github.com/repos/istio/istio/subscription', 'commits_url': 'https://api.github.com/repos/istio/istio/commits{/sha}', 'git_commits_url': 'https://api.github.com/repos/istio/istio/git/commits{/sha}', 'comments_url': 'https://api.github.com/repos/istio/istio/comments{/number}', 'issue_comment_url': 'https://api.github.com/repos/istio/istio/issues/comments{/number}', 'contents_url': 'https://api.github.com/repos/istio/istio/contents/{+path}', 'compare_url': 'https://api.github.com/repos/istio/istio/compare/{base}...{head}', 'merges_url': 'https://api.github.com/repos/istio/istio/merges', 'archive_url': 'https://api.github.com/repos/istio/istio/{archive_format}{/ref}', 'downloads_url': 'https://api.github.com/repos/istio/istio/downloads', 'issues_url': 'https://api.github.com/repos/istio/istio/issues{/number}', 'pulls_url': 'https://api.github.com/repos/istio/istio/pulls{/number}', 'milestones_url': 'https://api.github.com/repos/istio/istio/milestones{/number}', 'notifications_url': 'https://api.github.com/repos/istio/istio/notifications{?since,all,participating}', 'labels_url': 'https://api.github.com/repos/istio/istio/labels{/name}', 'releases_url': 'https://api.github.com/repos/istio/istio/releases{/id}', 'deployments_url': 'https://api.github.com/repos/istio/istio/deployments', 'created_at': '2016-11-18T23:57:21Z', 'updated_at': '2020-12-05T13:48:52Z', 'pushed_at': '2020-12-05T16:49:00Z', 'git_url': 'git://github.com/istio/istio.git', 'ssh_url': 'git@github.com:istio/istio.git', 'clone_url': 'https://github.com/istio/istio.git', 'svn_url': 'https://github.com/istio/istio', 'homepage': 'https://istio.io', 'size': 182843, 'stargazers_count': 25481, 'watchers_count': 25481, 'language': 'Go', 'has_issues': True, 'has_projects': False, 'has_downloads': True, 'has_wiki': True, 'has_pages': False, 'forks_count': 4901, 'mirror_url': None, 'archived': False, 'disabled': False, 'open_issues_count': 1019, 'license': {'key': 'apache-2.0', 'name': 'Apache License 2.0', 'spdx_id': 'Apache-2.0', 'url': 'https://api.github.com/licenses/apache-2.0', 'node_id': 'MDc6TGljZW5zZTI='}, 'forks': 4901, 'open_issues': 1019, 'watchers': 25481, 'default_branch': 'master', 'score': 1.0}, {'id': 3577919, 'node_id': 'MDEwOlJlcG9zaXRvcnkzNTc3OTE5', 'name': 'beego', 'full_name': 'astaxie/beego', 'private': False, 'owner': {'login': 'astaxie', 'id': 233907, 'node_id': 'MDQ6VXNlcjIzMzkwNw==', 'avatar_url': 'https://avatars3.githubusercontent.com/u/233907?v=4', 'gravatar_id': '', 'url': 'https://api.github.com/users/astaxie', 'html_url': 'https://github.com/astaxie', 'followers_url': 'https://api.github.com/users/astaxie/followers', 'following_url': 'https://api.github.com/users/astaxie/following{/other_user}', 'gists_url': 'https://api.github.com/users/astaxie/gists{/gist_id}', 'starred_url': 'https://api.github.com/users/astaxie/starred{/owner}{/repo}', 'subscriptions_url': 'https://api.github.com/users/astaxie/subscriptions', 'organizations_url': 'https://api.github.com/users/astaxie/orgs', 'repos_url': 'https://api.github.com/users/astaxie/repos', 'events_url': 'https://api.github.com/users/astaxie/events{/privacy}', 'received_events_url': 'https://api.github.com/users/astaxie/received_events', 'type': 'User', 'site_admin': False}, 'html_url': 'https://github.com/astaxie/beego', 'description': 'beego is an open-source, high-performance web framework for the Go programming language.', 'fork': False, 'url': 'https://api.github.com/repos/astaxie/beego', 'forks_url': 'https://api.github.com/repos/astaxie/beego/forks', 'keys_url': 'https://api.github.com/repos/astaxie/beego/keys{/key_id}', 'collaborators_url': 'https://api.github.com/repos/astaxie/beego/collaborators{/collaborator}', 'teams_url': 'https://api.github.com/repos/astaxie/beego/teams', 'hooks_url': 'https://api.github.com/repos/astaxie/beego/hooks', 'issue_events_url': 'https://api.github.com/repos/astaxie/beego/issues/events{/number}', 'events_url': 'https://api.github.com/repos/astaxie/beego/events', 'assignees_url': 'https://api.github.com/repos/astaxie/beego/assignees{/user}', 'branches_url': 'https://api.github.com/repos/astaxie/beego/branches{/branch}', 'tags_url': 'https://api.github.com/repos/astaxie/beego/tags', 'blobs_url': 'https://api.github.com/repos/astaxie/beego/git/blobs{/sha}', 'git_tags_url': 'https://api.github.com/repos/astaxie/beego/git/tags{/sha}', 'git_refs_url': 'https://api.github.com/repos/astaxie/beego/git/refs{/sha}', 'trees_url': 'https://api.github.com/repos/astaxie/beego/git/trees{/sha}', 'statuses_url': 'https://api.github.com/repos/astaxie/beego/statuses/{sha}', 'languages_url': 'https://api.github.com/repos/astaxie/beego/languages', 'stargazers_url': 'https://api.github.com/repos/astaxie/beego/stargazers', 'contributors_url': 'https://api.github.com/repos/astaxie/beego/contributors', 'subscribers_url': 'https://api.github.com/repos/astaxie/beego/subscribers', 'subscription_url': 'https://api.github.com/repos/astaxie/beego/subscription', 'commits_url': 'https://api.github.com/repos/astaxie/beego/commits{/sha}', 'git_commits_url': 'https://api.github.com/repos/astaxie/beego/git/commits{/sha}', 'comments_url': 'https://api.github.com/repos/astaxie/beego/comments{/number}', 'issue_comment_url': 'https://api.github.com/repos/astaxie/beego/issues/comments{/number}', 'contents_url': 'https://api.github.com/repos/astaxie/beego/contents/{+path}', 'compare_url': 'https://api.github.com/repos/astaxie/beego/compare/{base}...{head}', 'merges_url': 'https://api.github.com/repos/astaxie/beego/merges', 'archive_url': 'https://api.github.com/repos/astaxie/beego/{archive_format}{/ref}', 'downloads_url': 'https://api.github.com/repos/astaxie/beego/downloads', 'issues_url': 'https://api.github.com/repos/astaxie/beego/issues{/number}', 'pulls_url': 'https://api.github.com/repos/astaxie/beego/pulls{/number}', 'milestones_url': 'https://api.github.com/repos/astaxie/beego/milestones{/number}', 'notifications_url': 'https://api.github.com/repos/astaxie/beego/notifications{?since,all,participating}', 'labels_url': 'https://api.github.com/repos/astaxie/beego/labels{/name}', 'releases_url': 'https://api.github.com/repos/astaxie/beego/releases{/id}', 'deployments_url': 'https://api.github.com/repos/astaxie/beego/deployments', 'created_at': '2012-02-29T02:32:08Z', 'updated_at': '2020-12-05T12:44:05Z', 'pushed_at': '2020-12-05T06:39:08Z', 'git_url': 'git://github.com/astaxie/beego.git', 'ssh_url': 'git@github.com:astaxie/beego.git', 'clone_url': 'https://github.com/astaxie/beego.git', 'svn_url': 'https://github.com/astaxie/beego', 'homepage': 'beego.me', 'size': 9542, 'stargazers_count': 25445, 'watchers_count': 25445, 'language': 'Go', 'has_issues': True, 'has_projects': True, 'has_downloads': True, 'has_wiki': True, 'has_pages': False, 'forks_count': 5029, 'mirror_url': None, 'archived': False, 'disabled': False, 'open_issues_count': 443, 'license': {'key': 'other', 'name': 'Other', 'spdx_id': 'NOASSERTION', 'url': None, 'node_id': 'MDc6TGljZW5zZTA='}, 'forks': 5029, 'open_issues': 443, 'watchers': 25445, 'default_branch': 'develop', 'score': 1.0}, {'id': 29261473, 'node_id': 'MDEwOlJlcG9zaXRvcnkyOTI2MTQ3Mw==', 'name': 'minio', 'full_name': 'minio/minio', 'private': False, 'owner': {'login': 'minio', 'id': 695951, 'node_id': 'MDEyOk9yZ2FuaXphdGlvbjY5NTk1MQ==', 'avatar_url': 'https://avatars3.githubusercontent.com/u/695951?v=4', 'gravatar_id': '', 'url': 'https://api.github.com/users/minio', 'html_url': 'https://github.com/minio', 'followers_url': 'https://api.github.com/users/minio/followers', 'following_url': 'https://api.github.com/users/minio/following{/other_user}', 'gists_url': 'https://api.github.com/users/minio/gists{/gist_id}', 'starred_url': 'https://api.github.com/users/minio/starred{/owner}{/repo}', 'subscriptions_url': 'https://api.github.com/users/minio/subscriptions', 'organizations_url': 'https://api.github.com/users/minio/orgs', 'repos_url': 'https://api.github.com/users/minio/repos', 'events_url': 'https://api.github.com/users/minio/events{/privacy}', 'received_events_url': 'https://api.github.com/users/minio/received_events', 'type': 'Organization', 'site_admin': False}, 'html_url': 'https://github.com/minio/minio', 'description': 'High Performance, Kubernetes Native Object Storage', 'fork': False, 'url': 'https://api.github.com/repos/minio/minio', 'forks_url': 'https://api.github.com/repos/minio/minio/forks', 'keys_url': 'https://api.github.com/repos/minio/minio/keys{/key_id}', 'collaborators_url': 'https://api.github.com/repos/minio/minio/collaborators{/collaborator}', 'teams_url': 'https://api.github.com/repos/minio/minio/teams', 'hooks_url': 'https://api.github.com/repos/minio/minio/hooks', 'issue_events_url': 'https://api.github.com/repos/minio/minio/issues/events{/number}', 'events_url': 'https://api.github.com/repos/minio/minio/events', 'assignees_url': 'https://api.github.com/repos/minio/minio/assignees{/user}', 'branches_url': 'https://api.github.com/repos/minio/minio/branches{/branch}', 'tags_url': 'https://api.github.com/repos/minio/minio/tags', 'blobs_url': 'https://api.github.com/repos/minio/minio/git/blobs{/sha}', 'git_tags_url': 'https://api.github.com/repos/minio/minio/git/tags{/sha}', 'git_refs_url': 'https://api.github.com/repos/minio/minio/git/refs{/sha}', 'trees_url': 'https://api.github.com/repos/minio/minio/git/trees{/sha}', 'statuses_url': 'https://api.github.com/repos/minio/minio/statuses/{sha}', 'languages_url': 'https://api.github.com/repos/minio/minio/languages', 'stargazers_url': 'https://api.github.com/repos/minio/minio/stargazers', 'contributors_url': 'https://api.github.com/repos/minio/minio/contributors', 'subscribers_url': 'https://api.github.com/repos/minio/minio/subscribers', 'subscription_url': 'https://api.github.com/repos/minio/minio/subscription', 'commits_url': 'https://api.github.com/repos/minio/minio/commits{/sha}', 'git_commits_url': 'https://api.github.com/repos/minio/minio/git/commits{/sha}', 'comments_url': 'https://api.github.com/repos/minio/minio/comments{/number}', 'issue_comment_url': 'https://api.github.com/repos/minio/minio/issues/comments{/number}', 'contents_url': 'https://api.github.com/repos/minio/minio/contents/{+path}', 'compare_url': 'https://api.github.com/repos/minio/minio/compare/{base}...{head}', 'merges_url': 'https://api.github.com/repos/minio/minio/merges', 'archive_url': 'https://api.github.com/repos/minio/minio/{archive_format}{/ref}', 'downloads_url': 'https://api.github.com/repos/minio/minio/downloads', 'issues_url': 'https://api.github.com/repos/minio/minio/issues{/number}', 'pulls_url': 'https://api.github.com/repos/minio/minio/pulls{/number}', 'milestones_url': 'https://api.github.com/repos/minio/minio/milestones{/number}', 'notifications_url': 'https://api.github.com/repos/minio/minio/notifications{?since,all,participating}', 'labels_url': 'https://api.github.com/repos/minio/minio/labels{/name}', 'releases_url': 'https://api.github.com/repos/minio/minio/releases{/id}', 'deployments_url': 'https://api.github.com/repos/minio/minio/deployments', 'created_at': '2015-01-14T19:23:58Z', 'updated_at': '2020-12-05T12:26:56Z', 'pushed_at': '2020-12-05T08:51:02Z', 'git_url': 'git://github.com/minio/minio.git', 'ssh_url': 'git@github.com:minio/minio.git', 'clone_url': 'https://github.com/minio/minio.git', 'svn_url': 'https://github.com/minio/minio', 'homepage': 'https://min.io/download', 'size': 88145, 'stargazers_count': 24908, 'watchers_count': 24908, 'language': 'Go', 'has_issues': True, 'has_projects': False, 'has_downloads': True, 'has_wiki': False, 'has_pages': False, 'forks_count': 2679, 'mirror_url': None, 'archived': False, 'disabled': False, 'open_issues_count': 40, 'license': {'key': 'apache-2.0', 'name': 'Apache License 2.0', 'spdx_id': 'Apache-2.0', 'url': 'https://api.github.com/licenses/apache-2.0', 'node_id': 'MDc6TGljZW5zZTI='}, 'forks': 2679, 'open_issues': 40, 'watchers': 24908, 'default_branch': 'master', 'score': 1.0}, {'id': 17728164, 'node_id': 'MDEwOlJlcG9zaXRvcnkxNzcyODE2NA==', 'name': 'terraform', 'full_name': 'hashicorp/terraform', 'private': False, 'owner': {'login': 'hashicorp', 'id': 761456, 'node_id': 'MDEyOk9yZ2FuaXphdGlvbjc2MTQ1Ng==', 'avatar_url': 'https://avatars2.githubusercontent.com/u/761456?v=4', 'gravatar_id': '', 'url': 'https://api.github.com/users/hashicorp', 'html_url': 'https://github.com/hashicorp', 'followers_url': 'https://api.github.com/users/hashicorp/followers', 'following_url': 'https://api.github.com/users/hashicorp/following{/other_user}', 'gists_url': 'https://api.github.com/users/hashicorp/gists{/gist_id}', 'starred_url': 'https://api.github.com/users/hashicorp/starred{/owner}{/repo}', 'subscriptions_url': 'https://api.github.com/users/hashicorp/subscriptions', 'organizations_url': 'https://api.github.com/users/hashicorp/orgs', 'repos_url': 'https://api.github.com/users/hashicorp/repos', 'events_url': 'https://api.github.com/users/hashicorp/events{/privacy}', 'received_events_url': 'https://api.github.com/users/hashicorp/received_events', 'type': 'Organization', 'site_admin': False}, 'html_url': 'https://github.com/hashicorp/terraform', 'description': 'Terraform enables you to safely and predictably create, change, and improve infrastructure. It is an open source tool that codifies APIs into declarative configuration files that can be shared amongst team members, treated as code, edited, reviewed, and versioned.', 'fork': False, 'url': 'https://api.github.com/repos/hashicorp/terraform', 'forks_url': 'https://api.github.com/repos/hashicorp/terraform/forks', 'keys_url': 'https://api.github.com/repos/hashicorp/terraform/keys{/key_id}', 'collaborators_url': 'https://api.github.com/repos/hashicorp/terraform/collaborators{/collaborator}', 'teams_url': 'https://api.github.com/repos/hashicorp/terraform/teams', 'hooks_url': 'https://api.github.com/repos/hashicorp/terraform/hooks', 'issue_events_url': 'https://api.github.com/repos/hashicorp/terraform/issues/events{/number}', 'events_url': 'https://api.github.com/repos/hashicorp/terraform/events', 'assignees_url': 'https://api.github.com/repos/hashicorp/terraform/assignees{/user}', 'branches_url': 'https://api.github.com/repos/hashicorp/terraform/branches{/branch}', 'tags_url': 'https://api.github.com/repos/hashicorp/terraform/tags', 'blobs_url': 'https://api.github.com/repos/hashicorp/terraform/git/blobs{/sha}', 'git_tags_url': 'https://api.github.com/repos/hashicorp/terraform/git/tags{/sha}', 'git_refs_url': 'https://api.github.com/repos/hashicorp/terraform/git/refs{/sha}', 'trees_url': 'https://api.github.com/repos/hashicorp/terraform/git/trees{/sha}', 'statuses_url': 'https://api.github.com/repos/hashicorp/terraform/statuses/{sha}', 'languages_url': 'https://api.github.com/repos/hashicorp/terraform/languages', 'stargazers_url': 'https://api.github.com/repos/hashicorp/terraform/stargazers', 'contributors_url': 'https://api.github.com/repos/hashicorp/terraform/contributors', 'subscribers_url': 'https://api.github.com/repos/hashicorp/terraform/subscribers', 'subscription_url': 'https://api.github.com/repos/hashicorp/terraform/subscription', 'commits_url': 'https://api.github.com/repos/hashicorp/terraform/commits{/sha}', 'git_commits_url': 'https://api.github.com/repos/hashicorp/terraform/git/commits{/sha}', 'comments_url': 'https://api.github.com/repos/hashicorp/terraform/comments{/number}', 'issue_comment_url': 'https://api.github.com/repos/hashicorp/terraform/issues/comments{/number}', 'contents_url': 'https://api.github.com/repos/hashicorp/terraform/contents/{+path}', 'compare_url': 'https://api.github.com/repos/hashicorp/terraform/compare/{base}...{head}', 'merges_url': 'https://api.github.com/repos/hashicorp/terraform/merges', 'archive_url': 'https://api.github.com/repos/hashicorp/terraform/{archive_format}{/ref}', 'downloads_url': 'https://api.github.com/repos/hashicorp/terraform/downloads', 'issues_url': 'https://api.github.com/repos/hashicorp/terraform/issues{/number}', 'pulls_url': 'https://api.github.com/repos/hashicorp/terraform/pulls{/number}', 'milestones_url': 'https://api.github.com/repos/hashicorp/terraform/milestones{/number}', 'notifications_url': 'https://api.github.com/repos/hashicorp/terraform/notifications{?since,all,participating}', 'labels_url': 'https://api.github.com/repos/hashicorp/terraform/labels{/name}', 'releases_url': 'https://api.github.com/repos/hashicorp/terraform/releases{/id}', 'deployments_url': 'https://api.github.com/repos/hashicorp/terraform/deployments', 'created_at': '2014-03-13T22:25:48Z', 'updated_at': '2020-12-05T16:41:50Z', 'pushed_at': '2020-12-05T00:22:57Z', 'git_url': 'git://github.com/hashicorp/terraform.git', 'ssh_url': 'git@github.com:hashicorp/terraform.git', 'clone_url': 'https://github.com/hashicorp/terraform.git', 'svn_url': 'https://github.com/hashicorp/terraform', 'homepage': 'https://www.terraform.io/', 'size': 180718, 'stargazers_count': 24737, 'watchers_count': 24737, 'language': 'Go', 'has_issues': True, 'has_projects': False, 'has_downloads': True, 'has_wiki': False, 'has_pages': False, 'forks_count': 6252, 'mirror_url': None, 'archived': False, 'disabled': False, 'open_issues_count': 1309, 'license': {'key': 'mpl-2.0', 'name': 'Mozilla Public License 2.0', 'spdx_id': 'MPL-2.0', 'url': 'https://api.github.com/licenses/mpl-2.0', 'node_id': 'MDc6TGljZW5zZTE0'}, 'forks': 6252, 'open_issues': 1309, 'watchers': 24737, 'default_branch': 'master', 'score': 1.0}, {'id': 17803236, 'node_id': 'MDEwOlJlcG9zaXRvcnkxNzgwMzIzNg==', 'name': 'rclone', 'full_name': 'rclone/rclone', 'private': False, 'owner': {'login': 'rclone', 'id': 24937341, 'node_id': 'MDEyOk9yZ2FuaXphdGlvbjI0OTM3MzQx', 'avatar_url': 'https://avatars0.githubusercontent.com/u/24937341?v=4', 'gravatar_id': '', 'url': 'https://api.github.com/users/rclone', 'html_url': 'https://github.com/rclone', 'followers_url': 'https://api.github.com/users/rclone/followers', 'following_url': 'https://api.github.com/users/rclone/following{/other_user}', 'gists_url': 'https://api.github.com/users/rclone/gists{/gist_id}', 'starred_url': 'https://api.github.com/users/rclone/starred{/owner}{/repo}', 'subscriptions_url': 'https://api.github.com/users/rclone/subscriptions', 'organizations_url': 'https://api.github.com/users/rclone/orgs', 'repos_url': 'https://api.github.com/users/rclone/repos', 'events_url': 'https://api.github.com/users/rclone/events{/privacy}', 'received_events_url': 'https://api.github.com/users/rclone/received_events', 'type': 'Organization', 'site_admin': False}, 'html_url': 'https://github.com/rclone/rclone', 'description': '\"rsync for cloud storage\" - Google Drive, Amazon Drive, S3, Dropbox, Backblaze B2, One Drive, Swift, Hubic, Cloudfiles, Google Cloud Storage, Yandex Files', 'fork': False, 'url': 'https://api.github.com/repos/rclone/rclone', 'forks_url': 'https://api.github.com/repos/rclone/rclone/forks', 'keys_url': 'https://api.github.com/repos/rclone/rclone/keys{/key_id}', 'collaborators_url': 'https://api.github.com/repos/rclone/rclone/collaborators{/collaborator}', 'teams_url': 'https://api.github.com/repos/rclone/rclone/teams', 'hooks_url': 'https://api.github.com/repos/rclone/rclone/hooks', 'issue_events_url': 'https://api.github.com/repos/rclone/rclone/issues/events{/number}', 'events_url': 'https://api.github.com/repos/rclone/rclone/events', 'assignees_url': 'https://api.github.com/repos/rclone/rclone/assignees{/user}', 'branches_url': 'https://api.github.com/repos/rclone/rclone/branches{/branch}', 'tags_url': 'https://api.github.com/repos/rclone/rclone/tags', 'blobs_url': 'https://api.github.com/repos/rclone/rclone/git/blobs{/sha}', 'git_tags_url': 'https://api.github.com/repos/rclone/rclone/git/tags{/sha}', 'git_refs_url': 'https://api.github.com/repos/rclone/rclone/git/refs{/sha}', 'trees_url': 'https://api.github.com/repos/rclone/rclone/git/trees{/sha}', 'statuses_url': 'https://api.github.com/repos/rclone/rclone/statuses/{sha}', 'languages_url': 'https://api.github.com/repos/rclone/rclone/languages', 'stargazers_url': 'https://api.github.com/repos/rclone/rclone/stargazers', 'contributors_url': 'https://api.github.com/repos/rclone/rclone/contributors', 'subscribers_url': 'https://api.github.com/repos/rclone/rclone/subscribers', 'subscription_url': 'https://api.github.com/repos/rclone/rclone/subscription', 'commits_url': 'https://api.github.com/repos/rclone/rclone/commits{/sha}', 'git_commits_url': 'https://api.github.com/repos/rclone/rclone/git/commits{/sha}', 'comments_url': 'https://api.github.com/repos/rclone/rclone/comments{/number}', 'issue_comment_url': 'https://api.github.com/repos/rclone/rclone/issues/comments{/number}', 'contents_url': 'https://api.github.com/repos/rclone/rclone/contents/{+path}', 'compare_url': 'https://api.github.com/repos/rclone/rclone/compare/{base}...{head}', 'merges_url': 'https://api.github.com/repos/rclone/rclone/merges', 'archive_url': 'https://api.github.com/repos/rclone/rclone/{archive_format}{/ref}', 'downloads_url': 'https://api.github.com/repos/rclone/rclone/downloads', 'issues_url': 'https://api.github.com/repos/rclone/rclone/issues{/number}', 'pulls_url': 'https://api.github.com/repos/rclone/rclone/pulls{/number}', 'milestones_url': 'https://api.github.com/repos/rclone/rclone/milestones{/number}', 'notifications_url': 'https://api.github.com/repos/rclone/rclone/notifications{?since,all,participating}', 'labels_url': 'https://api.github.com/repos/rclone/rclone/labels{/name}', 'releases_url': 'https://api.github.com/repos/rclone/rclone/releases{/id}', 'deployments_url': 'https://api.github.com/repos/rclone/rclone/deployments', 'created_at': '2014-03-16T16:19:57Z', 'updated_at': '2020-12-05T15:19:07Z', 'pushed_at': '2020-12-05T10:11:00Z', 'git_url': 'git://github.com/rclone/rclone.git', 'ssh_url': 'git@github.com:rclone/rclone.git', 'clone_url': 'https://github.com/rclone/rclone.git', 'svn_url': 'https://github.com/rclone/rclone', 'homepage': 'https://rclone.org', 'size': 156321, 'stargazers_count': 24579, 'watchers_count': 24579, 'language': 'Go', 'has_issues': True, 'has_projects': True, 'has_downloads': True, 'has_wiki': True, 'has_pages': False, 'forks_count': 2124, 'mirror_url': None, 'archived': False, 'disabled': False, 'open_issues_count': 737, 'license': {'key': 'mit', 'name': 'MIT License', 'spdx_id': 'MIT', 'url': 'https://api.github.com/licenses/mit', 'node_id': 'MDc6TGljZW5zZTEz'}, 'forks': 2124, 'open_issues': 737, 'watchers': 24579, 'default_branch': 'master', 'score': 1.0}, {'id': 8989842, 'node_id': 'MDEwOlJlcG9zaXRvcnk4OTg5ODQy', 'name': 'the-way-to-go_ZH_CN', 'full_name': 'unknwon/the-way-to-go_ZH_CN', 'private': False, 'owner': {'login': 'unknwon', 'id': 2946214, 'node_id': 'MDQ6VXNlcjI5NDYyMTQ=', 'avatar_url': 'https://avatars3.githubusercontent.com/u/2946214?v=4', 'gravatar_id': '', 'url': 'https://api.github.com/users/unknwon', 'html_url': 'https://github.com/unknwon', 'followers_url': 'https://api.github.com/users/unknwon/followers', 'following_url': 'https://api.github.com/users/unknwon/following{/other_user}', 'gists_url': 'https://api.github.com/users/unknwon/gists{/gist_id}', 'starred_url': 'https://api.github.com/users/unknwon/starred{/owner}{/repo}', 'subscriptions_url': 'https://api.github.com/users/unknwon/subscriptions', 'organizations_url': 'https://api.github.com/users/unknwon/orgs', 'repos_url': 'https://api.github.com/users/unknwon/repos', 'events_url': 'https://api.github.com/users/unknwon/events{/privacy}', 'received_events_url': 'https://api.github.com/users/unknwon/received_events', 'type': 'User', 'site_admin': False}, 'html_url': 'https://github.com/unknwon/the-way-to-go_ZH_CN', 'description': '《The Way to Go》中文译本，中文正式名《Go 入门指南》', 'fork': False, 'url': 'https://api.github.com/repos/unknwon/the-way-to-go_ZH_CN', 'forks_url': 'https://api.github.com/repos/unknwon/the-way-to-go_ZH_CN/forks', 'keys_url': 'https://api.github.com/repos/unknwon/the-way-to-go_ZH_CN/keys{/key_id}', 'collaborators_url': 'https://api.github.com/repos/unknwon/the-way-to-go_ZH_CN/collaborators{/collaborator}', 'teams_url': 'https://api.github.com/repos/unknwon/the-way-to-go_ZH_CN/teams', 'hooks_url': 'https://api.github.com/repos/unknwon/the-way-to-go_ZH_CN/hooks', 'issue_events_url': 'https://api.github.com/repos/unknwon/the-way-to-go_ZH_CN/issues/events{/number}', 'events_url': 'https://api.github.com/repos/unknwon/the-way-to-go_ZH_CN/events', 'assignees_url': 'https://api.github.com/repos/unknwon/the-way-to-go_ZH_CN/assignees{/user}', 'branches_url': 'https://api.github.com/repos/unknwon/the-way-to-go_ZH_CN/branches{/branch}', 'tags_url': 'https://api.github.com/repos/unknwon/the-way-to-go_ZH_CN/tags', 'blobs_url': 'https://api.github.com/repos/unknwon/the-way-to-go_ZH_CN/git/blobs{/sha}', 'git_tags_url': 'https://api.github.com/repos/unknwon/the-way-to-go_ZH_CN/git/tags{/sha}', 'git_refs_url': 'https://api.github.com/repos/unknwon/the-way-to-go_ZH_CN/git/refs{/sha}', 'trees_url': 'https://api.github.com/repos/unknwon/the-way-to-go_ZH_CN/git/trees{/sha}', 'statuses_url': 'https://api.github.com/repos/unknwon/the-way-to-go_ZH_CN/statuses/{sha}', 'languages_url': 'https://api.github.com/repos/unknwon/the-way-to-go_ZH_CN/languages', 'stargazers_url': 'https://api.github.com/repos/unknwon/the-way-to-go_ZH_CN/stargazers', 'contributors_url': 'https://api.github.com/repos/unknwon/the-way-to-go_ZH_CN/contributors', 'subscribers_url': 'https://api.github.com/repos/unknwon/the-way-to-go_ZH_CN/subscribers', 'subscription_url': 'https://api.github.com/repos/unknwon/the-way-to-go_ZH_CN/subscription', 'commits_url': 'https://api.github.com/repos/unknwon/the-way-to-go_ZH_CN/commits{/sha}', 'git_commits_url': 'https://api.github.com/repos/unknwon/the-way-to-go_ZH_CN/git/commits{/sha}', 'comments_url': 'https://api.github.com/repos/unknwon/the-way-to-go_ZH_CN/comments{/number}', 'issue_comment_url': 'https://api.github.com/repos/unknwon/the-way-to-go_ZH_CN/issues/comments{/number}', 'contents_url': 'https://api.github.com/repos/unknwon/the-way-to-go_ZH_CN/contents/{+path}', 'compare_url': 'https://api.github.com/repos/unknwon/the-way-to-go_ZH_CN/compare/{base}...{head}', 'merges_url': 'https://api.github.com/repos/unknwon/the-way-to-go_ZH_CN/merges', 'archive_url': 'https://api.github.com/repos/unknwon/the-way-to-go_ZH_CN/{archive_format}{/ref}', 'downloads_url': 'https://api.github.com/repos/unknwon/the-way-to-go_ZH_CN/downloads', 'issues_url': 'https://api.github.com/repos/unknwon/the-way-to-go_ZH_CN/issues{/number}', 'pulls_url': 'https://api.github.com/repos/unknwon/the-way-to-go_ZH_CN/pulls{/number}', 'milestones_url': 'https://api.github.com/repos/unknwon/the-way-to-go_ZH_CN/milestones{/number}', 'notifications_url': 'https://api.github.com/repos/unknwon/the-way-to-go_ZH_CN/notifications{?since,all,participating}', 'labels_url': 'https://api.github.com/repos/unknwon/the-way-to-go_ZH_CN/labels{/name}', 'releases_url': 'https://api.github.com/repos/unknwon/the-way-to-go_ZH_CN/releases{/id}', 'deployments_url': 'https://api.github.com/repos/unknwon/the-way-to-go_ZH_CN/deployments', 'created_at': '2013-03-24T17:18:38Z', 'updated_at': '2020-12-05T15:39:50Z', 'pushed_at': '2020-11-23T17:46:50Z', 'git_url': 'git://github.com/unknwon/the-way-to-go_ZH_CN.git', 'ssh_url': 'git@github.com:unknwon/the-way-to-go_ZH_CN.git', 'clone_url': 'https://github.com/unknwon/the-way-to-go_ZH_CN.git', 'svn_url': 'https://github.com/unknwon/the-way-to-go_ZH_CN', 'homepage': '', 'size': 12339, 'stargazers_count': 23970, 'watchers_count': 23970, 'language': 'Go', 'has_issues': False, 'has_projects': False, 'has_downloads': True, 'has_wiki': False, 'has_pages': False, 'forks_count': 6598, 'mirror_url': None, 'archived': False, 'disabled': False, 'open_issues_count': 26, 'license': None, 'forks': 6598, 'open_issues': 26, 'watchers': 23970, 'default_branch': 'master', 'score': 1.0}, {'id': 133251103, 'node_id': 'MDEwOlJlcG9zaXRvcnkxMzMyNTExMDM=', 'name': 'dive', 'full_name': 'wagoodman/dive', 'private': False, 'owner': {'login': 'wagoodman', 'id': 590471, 'node_id': 'MDQ6VXNlcjU5MDQ3MQ==', 'avatar_url': 'https://avatars3.githubusercontent.com/u/590471?v=4', 'gravatar_id': '', 'url': 'https://api.github.com/users/wagoodman', 'html_url': 'https://github.com/wagoodman', 'followers_url': 'https://api.github.com/users/wagoodman/followers', 'following_url': 'https://api.github.com/users/wagoodman/following{/other_user}', 'gists_url': 'https://api.github.com/users/wagoodman/gists{/gist_id}', 'starred_url': 'https://api.github.com/users/wagoodman/starred{/owner}{/repo}', 'subscriptions_url': 'https://api.github.com/users/wagoodman/subscriptions', 'organizations_url': 'https://api.github.com/users/wagoodman/orgs', 'repos_url': 'https://api.github.com/users/wagoodman/repos', 'events_url': 'https://api.github.com/users/wagoodman/events{/privacy}', 'received_events_url': 'https://api.github.com/users/wagoodman/received_events', 'type': 'User', 'site_admin': False}, 'html_url': 'https://github.com/wagoodman/dive', 'description': 'A tool for exploring each layer in a docker image', 'fork': False, 'url': 'https://api.github.com/repos/wagoodman/dive', 'forks_url': 'https://api.github.com/repos/wagoodman/dive/forks', 'keys_url': 'https://api.github.com/repos/wagoodman/dive/keys{/key_id}', 'collaborators_url': 'https://api.github.com/repos/wagoodman/dive/collaborators{/collaborator}', 'teams_url': 'https://api.github.com/repos/wagoodman/dive/teams', 'hooks_url': 'https://api.github.com/repos/wagoodman/dive/hooks', 'issue_events_url': 'https://api.github.com/repos/wagoodman/dive/issues/events{/number}', 'events_url': 'https://api.github.com/repos/wagoodman/dive/events', 'assignees_url': 'https://api.github.com/repos/wagoodman/dive/assignees{/user}', 'branches_url': 'https://api.github.com/repos/wagoodman/dive/branches{/branch}', 'tags_url': 'https://api.github.com/repos/wagoodman/dive/tags', 'blobs_url': 'https://api.github.com/repos/wagoodman/dive/git/blobs{/sha}', 'git_tags_url': 'https://api.github.com/repos/wagoodman/dive/git/tags{/sha}', 'git_refs_url': 'https://api.github.com/repos/wagoodman/dive/git/refs{/sha}', 'trees_url': 'https://api.github.com/repos/wagoodman/dive/git/trees{/sha}', 'statuses_url': 'https://api.github.com/repos/wagoodman/dive/statuses/{sha}', 'languages_url': 'https://api.github.com/repos/wagoodman/dive/languages', 'stargazers_url': 'https://api.github.com/repos/wagoodman/dive/stargazers', 'contributors_url': 'https://api.github.com/repos/wagoodman/dive/contributors', 'subscribers_url': 'https://api.github.com/repos/wagoodman/dive/subscribers', 'subscription_url': 'https://api.github.com/repos/wagoodman/dive/subscription', 'commits_url': 'https://api.github.com/repos/wagoodman/dive/commits{/sha}', 'git_commits_url': 'https://api.github.com/repos/wagoodman/dive/git/commits{/sha}', 'comments_url': 'https://api.github.com/repos/wagoodman/dive/comments{/number}', 'issue_comment_url': 'https://api.github.com/repos/wagoodman/dive/issues/comments{/number}', 'contents_url': 'https://api.github.com/repos/wagoodman/dive/contents/{+path}', 'compare_url': 'https://api.github.com/repos/wagoodman/dive/compare/{base}...{head}', 'merges_url': 'https://api.github.com/repos/wagoodman/dive/merges', 'archive_url': 'https://api.github.com/repos/wagoodman/dive/{archive_format}{/ref}', 'downloads_url': 'https://api.github.com/repos/wagoodman/dive/downloads', 'issues_url': 'https://api.github.com/repos/wagoodman/dive/issues{/number}', 'pulls_url': 'https://api.github.com/repos/wagoodman/dive/pulls{/number}', 'milestones_url': 'https://api.github.com/repos/wagoodman/dive/milestones{/number}', 'notifications_url': 'https://api.github.com/repos/wagoodman/dive/notifications{?since,all,participating}', 'labels_url': 'https://api.github.com/repos/wagoodman/dive/labels{/name}', 'releases_url': 'https://api.github.com/repos/wagoodman/dive/releases{/id}', 'deployments_url': 'https://api.github.com/repos/wagoodman/dive/deployments', 'created_at': '2018-05-13T15:44:01Z', 'updated_at': '2020-12-05T16:59:45Z', 'pushed_at': '2020-12-01T22:08:01Z', 'git_url': 'git://github.com/wagoodman/dive.git', 'ssh_url': 'git@github.com:wagoodman/dive.git', 'clone_url': 'https://github.com/wagoodman/dive.git', 'svn_url': 'https://github.com/wagoodman/dive', 'homepage': '', 'size': 3536, 'stargazers_count': 23595, 'watchers_count': 23595, 'language': 'Go', 'has_issues': True, 'has_projects': True, 'has_downloads': True, 'has_wiki': False, 'has_pages': False, 'forks_count': 870, 'mirror_url': None, 'archived': False, 'disabled': False, 'open_issues_count': 71, 'license': {'key': 'mit', 'name': 'MIT License', 'spdx_id': 'MIT', 'url': 'https://api.github.com/licenses/mit', 'node_id': 'MDc6TGljZW5zZTEz'}, 'forks': 870, 'open_issues': 71, 'watchers': 23595, 'default_branch': 'master', 'score': 1.0}, {'id': 72495579, 'node_id': 'MDEwOlJlcG9zaXRvcnk3MjQ5NTU3OQ==', 'name': 'gitea', 'full_name': 'go-gitea/gitea', 'private': False, 'owner': {'login': 'go-gitea', 'id': 12724356, 'node_id': 'MDEyOk9yZ2FuaXphdGlvbjEyNzI0MzU2', 'avatar_url': 'https://avatars1.githubusercontent.com/u/12724356?v=4', 'gravatar_id': '', 'url': 'https://api.github.com/users/go-gitea', 'html_url': 'https://github.com/go-gitea', 'followers_url': 'https://api.github.com/users/go-gitea/followers', 'following_url': 'https://api.github.com/users/go-gitea/following{/other_user}', 'gists_url': 'https://api.github.com/users/go-gitea/gists{/gist_id}', 'starred_url': 'https://api.github.com/users/go-gitea/starred{/owner}{/repo}', 'subscriptions_url': 'https://api.github.com/users/go-gitea/subscriptions', 'organizations_url': 'https://api.github.com/users/go-gitea/orgs', 'repos_url': 'https://api.github.com/users/go-gitea/repos', 'events_url': 'https://api.github.com/users/go-gitea/events{/privacy}', 'received_events_url': 'https://api.github.com/users/go-gitea/received_events', 'type': 'Organization', 'site_admin': False}, 'html_url': 'https://github.com/go-gitea/gitea', 'description': 'Git with a cup of tea, painless self-hosted git service', 'fork': False, 'url': 'https://api.github.com/repos/go-gitea/gitea', 'forks_url': 'https://api.github.com/repos/go-gitea/gitea/forks', 'keys_url': 'https://api.github.com/repos/go-gitea/gitea/keys{/key_id}', 'collaborators_url': 'https://api.github.com/repos/go-gitea/gitea/collaborators{/collaborator}', 'teams_url': 'https://api.github.com/repos/go-gitea/gitea/teams', 'hooks_url': 'https://api.github.com/repos/go-gitea/gitea/hooks', 'issue_events_url': 'https://api.github.com/repos/go-gitea/gitea/issues/events{/number}', 'events_url': 'https://api.github.com/repos/go-gitea/gitea/events', 'assignees_url': 'https://api.github.com/repos/go-gitea/gitea/assignees{/user}', 'branches_url': 'https://api.github.com/repos/go-gitea/gitea/branches{/branch}', 'tags_url': 'https://api.github.com/repos/go-gitea/gitea/tags', 'blobs_url': 'https://api.github.com/repos/go-gitea/gitea/git/blobs{/sha}', 'git_tags_url': 'https://api.github.com/repos/go-gitea/gitea/git/tags{/sha}', 'git_refs_url': 'https://api.github.com/repos/go-gitea/gitea/git/refs{/sha}', 'trees_url': 'https://api.github.com/repos/go-gitea/gitea/git/trees{/sha}', 'statuses_url': 'https://api.github.com/repos/go-gitea/gitea/statuses/{sha}', 'languages_url': 'https://api.github.com/repos/go-gitea/gitea/languages', 'stargazers_url': 'https://api.github.com/repos/go-gitea/gitea/stargazers', 'contributors_url': 'https://api.github.com/repos/go-gitea/gitea/contributors', 'subscribers_url': 'https://api.github.com/repos/go-gitea/gitea/subscribers', 'subscription_url': 'https://api.github.com/repos/go-gitea/gitea/subscription', 'commits_url': 'https://api.github.com/repos/go-gitea/gitea/commits{/sha}', 'git_commits_url': 'https://api.github.com/repos/go-gitea/gitea/git/commits{/sha}', 'comments_url': 'https://api.github.com/repos/go-gitea/gitea/comments{/number}', 'issue_comment_url': 'https://api.github.com/repos/go-gitea/gitea/issues/comments{/number}', 'contents_url': 'https://api.github.com/repos/go-gitea/gitea/contents/{+path}', 'compare_url': 'https://api.github.com/repos/go-gitea/gitea/compare/{base}...{head}', 'merges_url': 'https://api.github.com/repos/go-gitea/gitea/merges', 'archive_url': 'https://api.github.com/repos/go-gitea/gitea/{archive_format}{/ref}', 'downloads_url': 'https://api.github.com/repos/go-gitea/gitea/downloads', 'issues_url': 'https://api.github.com/repos/go-gitea/gitea/issues{/number}', 'pulls_url': 'https://api.github.com/repos/go-gitea/gitea/pulls{/number}', 'milestones_url': 'https://api.github.com/repos/go-gitea/gitea/milestones{/number}', 'notifications_url': 'https://api.github.com/repos/go-gitea/gitea/notifications{?since,all,participating}', 'labels_url': 'https://api.github.com/repos/go-gitea/gitea/labels{/name}', 'releases_url': 'https://api.github.com/repos/go-gitea/gitea/releases{/id}', 'deployments_url': 'https://api.github.com/repos/go-gitea/gitea/deployments', 'created_at': '2016-11-01T02:13:26Z', 'updated_at': '2020-12-05T15:13:22Z', 'pushed_at': '2020-12-05T17:07:16Z', 'git_url': 'git://github.com/go-gitea/gitea.git', 'ssh_url': 'git@github.com:go-gitea/gitea.git', 'clone_url': 'https://github.com/go-gitea/gitea.git', 'svn_url': 'https://github.com/go-gitea/gitea', 'homepage': 'https://gitea.io', 'size': 186692, 'stargazers_count': 22622, 'watchers_count': 22622, 'language': 'Go', 'has_issues': True, 'has_projects': False, 'has_downloads': True, 'has_wiki': False, 'has_pages': False, 'forks_count': 2697, 'mirror_url': None, 'archived': False, 'disabled': False, 'open_issues_count': 1525, 'license': {'key': 'mit', 'name': 'MIT License', 'spdx_id': 'MIT', 'url': 'https://api.github.com/licenses/mit', 'node_id': 'MDc6TGljZW5zZTEz'}, 'forks': 2697, 'open_issues': 1525, 'watchers': 22622, 'default_branch': 'master', 'score': 1.0}, {'id': 16607898, 'node_id': 'MDEwOlJlcG9zaXRvcnkxNjYwNzg5OA==', 'name': 'drone', 'full_name': 'drone/drone', 'private': False, 'owner': {'login': 'drone', 'id': 2181346, 'node_id': 'MDEyOk9yZ2FuaXphdGlvbjIxODEzNDY=', 'avatar_url': 'https://avatars1.githubusercontent.com/u/2181346?v=4', 'gravatar_id': '', 'url': 'https://api.github.com/users/drone', 'html_url': 'https://github.com/drone', 'followers_url': 'https://api.github.com/users/drone/followers', 'following_url': 'https://api.github.com/users/drone/following{/other_user}', 'gists_url': 'https://api.github.com/users/drone/gists{/gist_id}', 'starred_url': 'https://api.github.com/users/drone/starred{/owner}{/repo}', 'subscriptions_url': 'https://api.github.com/users/drone/subscriptions', 'organizations_url': 'https://api.github.com/users/drone/orgs', 'repos_url': 'https://api.github.com/users/drone/repos', 'events_url': 'https://api.github.com/users/drone/events{/privacy}', 'received_events_url': 'https://api.github.com/users/drone/received_events', 'type': 'Organization', 'site_admin': False}, 'html_url': 'https://github.com/drone/drone', 'description': 'Drone is a Container-Native, Continuous Delivery Platform', 'fork': False, 'url': 'https://api.github.com/repos/drone/drone', 'forks_url': 'https://api.github.com/repos/drone/drone/forks', 'keys_url': 'https://api.github.com/repos/drone/drone/keys{/key_id}', 'collaborators_url': 'https://api.github.com/repos/drone/drone/collaborators{/collaborator}', 'teams_url': 'https://api.github.com/repos/drone/drone/teams', 'hooks_url': 'https://api.github.com/repos/drone/drone/hooks', 'issue_events_url': 'https://api.github.com/repos/drone/drone/issues/events{/number}', 'events_url': 'https://api.github.com/repos/drone/drone/events', 'assignees_url': 'https://api.github.com/repos/drone/drone/assignees{/user}', 'branches_url': 'https://api.github.com/repos/drone/drone/branches{/branch}', 'tags_url': 'https://api.github.com/repos/drone/drone/tags', 'blobs_url': 'https://api.github.com/repos/drone/drone/git/blobs{/sha}', 'git_tags_url': 'https://api.github.com/repos/drone/drone/git/tags{/sha}', 'git_refs_url': 'https://api.github.com/repos/drone/drone/git/refs{/sha}', 'trees_url': 'https://api.github.com/repos/drone/drone/git/trees{/sha}', 'statuses_url': 'https://api.github.com/repos/drone/drone/statuses/{sha}', 'languages_url': 'https://api.github.com/repos/drone/drone/languages', 'stargazers_url': 'https://api.github.com/repos/drone/drone/stargazers', 'contributors_url': 'https://api.github.com/repos/drone/drone/contributors', 'subscribers_url': 'https://api.github.com/repos/drone/drone/subscribers', 'subscription_url': 'https://api.github.com/repos/drone/drone/subscription', 'commits_url': 'https://api.github.com/repos/drone/drone/commits{/sha}', 'git_commits_url': 'https://api.github.com/repos/drone/drone/git/commits{/sha}', 'comments_url': 'https://api.github.com/repos/drone/drone/comments{/number}', 'issue_comment_url': 'https://api.github.com/repos/drone/drone/issues/comments{/number}', 'contents_url': 'https://api.github.com/repos/drone/drone/contents/{+path}', 'compare_url': 'https://api.github.com/repos/drone/drone/compare/{base}...{head}', 'merges_url': 'https://api.github.com/repos/drone/drone/merges', 'archive_url': 'https://api.github.com/repos/drone/drone/{archive_format}{/ref}', 'downloads_url': 'https://api.github.com/repos/drone/drone/downloads', 'issues_url': 'https://api.github.com/repos/drone/drone/issues{/number}', 'pulls_url': 'https://api.github.com/repos/drone/drone/pulls{/number}', 'milestones_url': 'https://api.github.com/repos/drone/drone/milestones{/number}', 'notifications_url': 'https://api.github.com/repos/drone/drone/notifications{?since,all,participating}', 'labels_url': 'https://api.github.com/repos/drone/drone/labels{/name}', 'releases_url': 'https://api.github.com/repos/drone/drone/releases{/id}', 'deployments_url': 'https://api.github.com/repos/drone/drone/deployments', 'created_at': '2014-02-07T07:54:44Z', 'updated_at': '2020-12-05T15:55:15Z', 'pushed_at': '2020-11-23T10:58:14Z', 'git_url': 'git://github.com/drone/drone.git', 'ssh_url': 'git@github.com:drone/drone.git', 'clone_url': 'https://github.com/drone/drone.git', 'svn_url': 'https://github.com/drone/drone', 'homepage': 'https://drone.io', 'size': 28159, 'stargazers_count': 22186, 'watchers_count': 22186, 'language': 'Go', 'has_issues': True, 'has_projects': True, 'has_downloads': True, 'has_wiki': False, 'has_pages': False, 'forks_count': 2168, 'mirror_url': None, 'archived': False, 'disabled': False, 'open_issues_count': 59, 'license': {'key': 'other', 'name': 'Other', 'spdx_id': 'NOASSERTION', 'url': None, 'node_id': 'MDc6TGljZW5zZTA='}, 'forks': 2168, 'open_issues': 59, 'watchers': 22186, 'default_branch': 'master', 'score': 1.0}, {'id': 13855476, 'node_id': 'MDEwOlJlcG9zaXRvcnkxMzg1NTQ3Ng==', 'name': 'gorm', 'full_name': 'go-gorm/gorm', 'private': False, 'owner': {'login': 'go-gorm', 'id': 15127678, 'node_id': 'MDEyOk9yZ2FuaXphdGlvbjE1MTI3Njc4', 'avatar_url': 'https://avatars3.githubusercontent.com/u/15127678?v=4', 'gravatar_id': '', 'url': 'https://api.github.com/users/go-gorm', 'html_url': 'https://github.com/go-gorm', 'followers_url': 'https://api.github.com/users/go-gorm/followers', 'following_url': 'https://api.github.com/users/go-gorm/following{/other_user}', 'gists_url': 'https://api.github.com/users/go-gorm/gists{/gist_id}', 'starred_url': 'https://api.github.com/users/go-gorm/starred{/owner}{/repo}', 'subscriptions_url': 'https://api.github.com/users/go-gorm/subscriptions', 'organizations_url': 'https://api.github.com/users/go-gorm/orgs', 'repos_url': 'https://api.github.com/users/go-gorm/repos', 'events_url': 'https://api.github.com/users/go-gorm/events{/privacy}', 'received_events_url': 'https://api.github.com/users/go-gorm/received_events', 'type': 'Organization', 'site_admin': False}, 'html_url': 'https://github.com/go-gorm/gorm', 'description': 'The fantastic ORM library for Golang, aims to be developer friendly', 'fork': False, 'url': 'https://api.github.com/repos/go-gorm/gorm', 'forks_url': 'https://api.github.com/repos/go-gorm/gorm/forks', 'keys_url': 'https://api.github.com/repos/go-gorm/gorm/keys{/key_id}', 'collaborators_url': 'https://api.github.com/repos/go-gorm/gorm/collaborators{/collaborator}', 'teams_url': 'https://api.github.com/repos/go-gorm/gorm/teams', 'hooks_url': 'https://api.github.com/repos/go-gorm/gorm/hooks', 'issue_events_url': 'https://api.github.com/repos/go-gorm/gorm/issues/events{/number}', 'events_url': 'https://api.github.com/repos/go-gorm/gorm/events', 'assignees_url': 'https://api.github.com/repos/go-gorm/gorm/assignees{/user}', 'branches_url': 'https://api.github.com/repos/go-gorm/gorm/branches{/branch}', 'tags_url': 'https://api.github.com/repos/go-gorm/gorm/tags', 'blobs_url': 'https://api.github.com/repos/go-gorm/gorm/git/blobs{/sha}', 'git_tags_url': 'https://api.github.com/repos/go-gorm/gorm/git/tags{/sha}', 'git_refs_url': 'https://api.github.com/repos/go-gorm/gorm/git/refs{/sha}', 'trees_url': 'https://api.github.com/repos/go-gorm/gorm/git/trees{/sha}', 'statuses_url': 'https://api.github.com/repos/go-gorm/gorm/statuses/{sha}', 'languages_url': 'https://api.github.com/repos/go-gorm/gorm/languages', 'stargazers_url': 'https://api.github.com/repos/go-gorm/gorm/stargazers', 'contributors_url': 'https://api.github.com/repos/go-gorm/gorm/contributors', 'subscribers_url': 'https://api.github.com/repos/go-gorm/gorm/subscribers', 'subscription_url': 'https://api.github.com/repos/go-gorm/gorm/subscription', 'commits_url': 'https://api.github.com/repos/go-gorm/gorm/commits{/sha}', 'git_commits_url': 'https://api.github.com/repos/go-gorm/gorm/git/commits{/sha}', 'comments_url': 'https://api.github.com/repos/go-gorm/gorm/comments{/number}', 'issue_comment_url': 'https://api.github.com/repos/go-gorm/gorm/issues/comments{/number}', 'contents_url': 'https://api.github.com/repos/go-gorm/gorm/contents/{+path}', 'compare_url': 'https://api.github.com/repos/go-gorm/gorm/compare/{base}...{head}', 'merges_url': 'https://api.github.com/repos/go-gorm/gorm/merges', 'archive_url': 'https://api.github.com/repos/go-gorm/gorm/{archive_format}{/ref}', 'downloads_url': 'https://api.github.com/repos/go-gorm/gorm/downloads', 'issues_url': 'https://api.github.com/repos/go-gorm/gorm/issues{/number}', 'pulls_url': 'https://api.github.com/repos/go-gorm/gorm/pulls{/number}', 'milestones_url': 'https://api.github.com/repos/go-gorm/gorm/milestones{/number}', 'notifications_url': 'https://api.github.com/repos/go-gorm/gorm/notifications{?since,all,participating}', 'labels_url': 'https://api.github.com/repos/go-gorm/gorm/labels{/name}', 'releases_url': 'https://api.github.com/repos/go-gorm/gorm/releases{/id}', 'deployments_url': 'https://api.github.com/repos/go-gorm/gorm/deployments', 'created_at': '2013-10-25T08:31:38Z', 'updated_at': '2020-12-05T14:30:41Z', 'pushed_at': '2020-12-04T03:28:39Z', 'git_url': 'git://github.com/go-gorm/gorm.git', 'ssh_url': 'git@github.com:go-gorm/gorm.git', 'clone_url': 'https://github.com/go-gorm/gorm.git', 'svn_url': 'https://github.com/go-gorm/gorm', 'homepage': 'https://gorm.io', 'size': 3412, 'stargazers_count': 21897, 'watchers_count': 21897, 'language': 'Go', 'has_issues': True, 'has_projects': False, 'has_downloads': True, 'has_wiki': True, 'has_pages': False, 'forks_count': 2498, 'mirror_url': None, 'archived': False, 'disabled': False, 'open_issues_count': 11, 'license': {'key': 'mit', 'name': 'MIT License', 'spdx_id': 'MIT', 'url': 'https://api.github.com/licenses/mit', 'node_id': 'MDc6TGljZW5zZTEz'}, 'forks': 2498, 'open_issues': 11, 'watchers': 21897, 'default_branch': 'master', 'score': 1.0}, {'id': 14125254, 'node_id': 'MDEwOlJlcG9zaXRvcnkxNDEyNTI1NA==', 'name': 'consul', 'full_name': 'hashicorp/consul', 'private': False, 'owner': {'login': 'hashicorp', 'id': 761456, 'node_id': 'MDEyOk9yZ2FuaXphdGlvbjc2MTQ1Ng==', 'avatar_url': 'https://avatars2.githubusercontent.com/u/761456?v=4', 'gravatar_id': '', 'url': 'https://api.github.com/users/hashicorp', 'html_url': 'https://github.com/hashicorp', 'followers_url': 'https://api.github.com/users/hashicorp/followers', 'following_url': 'https://api.github.com/users/hashicorp/following{/other_user}', 'gists_url': 'https://api.github.com/users/hashicorp/gists{/gist_id}', 'starred_url': 'https://api.github.com/users/hashicorp/starred{/owner}{/repo}', 'subscriptions_url': 'https://api.github.com/users/hashicorp/subscriptions', 'organizations_url': 'https://api.github.com/users/hashicorp/orgs', 'repos_url': 'https://api.github.com/users/hashicorp/repos', 'events_url': 'https://api.github.com/users/hashicorp/events{/privacy}', 'received_events_url': 'https://api.github.com/users/hashicorp/received_events', 'type': 'Organization', 'site_admin': False}, 'html_url': 'https://github.com/hashicorp/consul', 'description': 'Consul is a distributed, highly available, and data center aware solution to connect and configure applications across dynamic, distributed infrastructure.', 'fork': False, 'url': 'https://api.github.com/repos/hashicorp/consul', 'forks_url': 'https://api.github.com/repos/hashicorp/consul/forks', 'keys_url': 'https://api.github.com/repos/hashicorp/consul/keys{/key_id}', 'collaborators_url': 'https://api.github.com/repos/hashicorp/consul/collaborators{/collaborator}', 'teams_url': 'https://api.github.com/repos/hashicorp/consul/teams', 'hooks_url': 'https://api.github.com/repos/hashicorp/consul/hooks', 'issue_events_url': 'https://api.github.com/repos/hashicorp/consul/issues/events{/number}', 'events_url': 'https://api.github.com/repos/hashicorp/consul/events', 'assignees_url': 'https://api.github.com/repos/hashicorp/consul/assignees{/user}', 'branches_url': 'https://api.github.com/repos/hashicorp/consul/branches{/branch}', 'tags_url': 'https://api.github.com/repos/hashicorp/consul/tags', 'blobs_url': 'https://api.github.com/repos/hashicorp/consul/git/blobs{/sha}', 'git_tags_url': 'https://api.github.com/repos/hashicorp/consul/git/tags{/sha}', 'git_refs_url': 'https://api.github.com/repos/hashicorp/consul/git/refs{/sha}', 'trees_url': 'https://api.github.com/repos/hashicorp/consul/git/trees{/sha}', 'statuses_url': 'https://api.github.com/repos/hashicorp/consul/statuses/{sha}', 'languages_url': 'https://api.github.com/repos/hashicorp/consul/languages', 'stargazers_url': 'https://api.github.com/repos/hashicorp/consul/stargazers', 'contributors_url': 'https://api.github.com/repos/hashicorp/consul/contributors', 'subscribers_url': 'https://api.github.com/repos/hashicorp/consul/subscribers', 'subscription_url': 'https://api.github.com/repos/hashicorp/consul/subscription', 'commits_url': 'https://api.github.com/repos/hashicorp/consul/commits{/sha}', 'git_commits_url': 'https://api.github.com/repos/hashicorp/consul/git/commits{/sha}', 'comments_url': 'https://api.github.com/repos/hashicorp/consul/comments{/number}', 'issue_comment_url': 'https://api.github.com/repos/hashicorp/consul/issues/comments{/number}', 'contents_url': 'https://api.github.com/repos/hashicorp/consul/contents/{+path}', 'compare_url': 'https://api.github.com/repos/hashicorp/consul/compare/{base}...{head}', 'merges_url': 'https://api.github.com/repos/hashicorp/consul/merges', 'archive_url': 'https://api.github.com/repos/hashicorp/consul/{archive_format}{/ref}', 'downloads_url': 'https://api.github.com/repos/hashicorp/consul/downloads', 'issues_url': 'https://api.github.com/repos/hashicorp/consul/issues{/number}', 'pulls_url': 'https://api.github.com/repos/hashicorp/consul/pulls{/number}', 'milestones_url': 'https://api.github.com/repos/hashicorp/consul/milestones{/number}', 'notifications_url': 'https://api.github.com/repos/hashicorp/consul/notifications{?since,all,participating}', 'labels_url': 'https://api.github.com/repos/hashicorp/consul/labels{/name}', 'releases_url': 'https://api.github.com/repos/hashicorp/consul/releases{/id}', 'deployments_url': 'https://api.github.com/repos/hashicorp/consul/deployments', 'created_at': '2013-11-04T22:15:27Z', 'updated_at': '2020-12-05T16:42:19Z', 'pushed_at': '2020-12-05T00:09:07Z', 'git_url': 'git://github.com/hashicorp/consul.git', 'ssh_url': 'git@github.com:hashicorp/consul.git', 'clone_url': 'https://github.com/hashicorp/consul.git', 'svn_url': 'https://github.com/hashicorp/consul', 'homepage': 'https://www.consul.io', 'size': 215599, 'stargazers_count': 20727, 'watchers_count': 20727, 'language': 'Go', 'has_issues': True, 'has_projects': False, 'has_downloads': True, 'has_wiki': False, 'has_pages': False, 'forks_count': 3553, 'mirror_url': None, 'archived': False, 'disabled': False, 'open_issues_count': 807, 'license': {'key': 'mpl-2.0', 'name': 'Mozilla Public License 2.0', 'spdx_id': 'MPL-2.0', 'url': 'https://api.github.com/licenses/mpl-2.0', 'node_id': 'MDc6TGljZW5zZTE0'}, 'forks': 3553, 'open_issues': 807, 'watchers': 20727, 'default_branch': 'master', 'score': 1.0}]\n"
     ]
    }
   ],
   "source": [
    "import requests\n",
    "r = requests.get(\"https://api.github.com/search/repositories\", params={\"q\": \"language:golang\"})\n",
    "data = r.json()\n",
    "# print(data)\n",
    "for k, v in data.items():\n",
    "    print(\"key: {} \\t\\t\\tvalue: {}\".format(k, v))"
   ]
  },
  {
   "cell_type": "code",
   "execution_count": 11,
   "metadata": {},
   "outputs": [
    {
     "name": "stdout",
     "output_type": "stream",
     "text": [
      "     names  ages\n",
      "0     Jess    25\n",
      "1   Jordan    35\n",
      "2    Sandy    22\n",
      "3      Ted    29\n",
      "4   Barney    33\n",
      "5  Rebecca    20\n"
     ]
    }
   ],
   "source": [
    "import pandas as pd\n",
    "import random\n",
    "\n",
    "random.seed(3)\n",
    "names = [\"Jess\", \"Jordan\", \"Sandy\", \"Ted\", \"Barney\", \"Rebecca\"]\n",
    "ages = [random.randint(18, 35) for x in range(len(names))]\n",
    "\n",
    "people = {\"names\": names, \"ages\": ages}\n",
    "df = pd.DataFrame.from_dict(people)\n",
    "print(df)\n"
   ]
  },
  {
   "cell_type": "code",
   "execution_count": 12,
   "metadata": {},
   "outputs": [
    {
     "name": "stdout",
     "output_type": "stream",
     "text": [
      "0    25\n",
      "1    35\n",
      "2    22\n",
      "3    29\n",
      "4    33\n",
      "5    20\n",
      "Name: ages, dtype: int64\n"
     ]
    }
   ],
   "source": [
    "print(df[\"ages\"])"
   ]
  },
  {
   "cell_type": "code",
   "execution_count": 13,
   "metadata": {},
   "outputs": [
    {
     "name": "stdout",
     "output_type": "stream",
     "text": [
      "29\n"
     ]
    }
   ],
   "source": [
    "print(df[\"ages\"][3])"
   ]
  },
  {
   "cell_type": "code",
   "execution_count": 17,
   "metadata": {},
   "outputs": [
    {
     "name": "stdout",
     "output_type": "stream",
     "text": [
      "names    Jess\n",
      "ages       25\n",
      "Name: 0, dtype: object\n"
     ]
    }
   ],
   "source": [
    "# print(df[1]) KeyError\n",
    "print(df.loc[0])"
   ]
  },
  {
   "cell_type": "code",
   "execution_count": 18,
   "metadata": {},
   "outputs": [
    {
     "name": "stdout",
     "output_type": "stream",
     "text": [
      "Jess\n"
     ]
    }
   ],
   "source": [
    "print(df.loc[0][\"names\"])"
   ]
  },
  {
   "cell_type": "code",
   "execution_count": 19,
   "metadata": {},
   "outputs": [
    {
     "name": "stdout",
     "output_type": "stream",
     "text": [
      "    names  ages\n",
      "2   Sandy    22\n",
      "3     Ted    29\n",
      "4  Barney    33\n"
     ]
    }
   ],
   "source": [
    "print(df[2:5])"
   ]
  },
  {
   "cell_type": "code",
   "execution_count": 20,
   "metadata": {},
   "outputs": [
    {
     "data": {
      "text/html": [
       "<div>\n",
       "<style scoped>\n",
       "    .dataframe tbody tr th:only-of-type {\n",
       "        vertical-align: middle;\n",
       "    }\n",
       "\n",
       "    .dataframe tbody tr th {\n",
       "        vertical-align: top;\n",
       "    }\n",
       "\n",
       "    .dataframe thead th {\n",
       "        text-align: right;\n",
       "    }\n",
       "</style>\n",
       "<table border=\"1\" class=\"dataframe\">\n",
       "  <thead>\n",
       "    <tr style=\"text-align: right;\">\n",
       "      <th></th>\n",
       "      <th>names</th>\n",
       "      <th>ages</th>\n",
       "    </tr>\n",
       "  </thead>\n",
       "  <tbody>\n",
       "    <tr>\n",
       "      <th>0</th>\n",
       "      <td>Jess</td>\n",
       "      <td>25</td>\n",
       "    </tr>\n",
       "    <tr>\n",
       "      <th>1</th>\n",
       "      <td>Jordan</td>\n",
       "      <td>35</td>\n",
       "    </tr>\n",
       "    <tr>\n",
       "      <th>2</th>\n",
       "      <td>Sandy</td>\n",
       "      <td>22</td>\n",
       "    </tr>\n",
       "    <tr>\n",
       "      <th>3</th>\n",
       "      <td>Ted</td>\n",
       "      <td>29</td>\n",
       "    </tr>\n",
       "    <tr>\n",
       "      <th>4</th>\n",
       "      <td>Barney</td>\n",
       "      <td>33</td>\n",
       "    </tr>\n",
       "  </tbody>\n",
       "</table>\n",
       "</div>"
      ],
      "text/plain": [
       "    names  ages\n",
       "0    Jess    25\n",
       "1  Jordan    35\n",
       "2   Sandy    22\n",
       "3     Ted    29\n",
       "4  Barney    33"
      ]
     },
     "execution_count": 20,
     "metadata": {},
     "output_type": "execute_result"
    }
   ],
   "source": [
    "df.head(5)"
   ]
  },
  {
   "cell_type": "code",
   "execution_count": 21,
   "metadata": {},
   "outputs": [
    {
     "data": {
      "text/html": [
       "<div>\n",
       "<style scoped>\n",
       "    .dataframe tbody tr th:only-of-type {\n",
       "        vertical-align: middle;\n",
       "    }\n",
       "\n",
       "    .dataframe tbody tr th {\n",
       "        vertical-align: top;\n",
       "    }\n",
       "\n",
       "    .dataframe thead th {\n",
       "        text-align: right;\n",
       "    }\n",
       "</style>\n",
       "<table border=\"1\" class=\"dataframe\">\n",
       "  <thead>\n",
       "    <tr style=\"text-align: right;\">\n",
       "      <th></th>\n",
       "      <th>names</th>\n",
       "      <th>ages</th>\n",
       "    </tr>\n",
       "  </thead>\n",
       "  <tbody>\n",
       "    <tr>\n",
       "      <th>3</th>\n",
       "      <td>Ted</td>\n",
       "      <td>29</td>\n",
       "    </tr>\n",
       "    <tr>\n",
       "      <th>4</th>\n",
       "      <td>Barney</td>\n",
       "      <td>33</td>\n",
       "    </tr>\n",
       "    <tr>\n",
       "      <th>5</th>\n",
       "      <td>Rebecca</td>\n",
       "      <td>20</td>\n",
       "    </tr>\n",
       "  </tbody>\n",
       "</table>\n",
       "</div>"
      ],
      "text/plain": [
       "     names  ages\n",
       "3      Ted    29\n",
       "4   Barney    33\n",
       "5  Rebecca    20"
      ]
     },
     "execution_count": 21,
     "metadata": {},
     "output_type": "execute_result"
    }
   ],
   "source": [
    "df.tail(3)"
   ]
  },
  {
   "cell_type": "code",
   "execution_count": 22,
   "metadata": {},
   "outputs": [
    {
     "name": "stdout",
     "output_type": "stream",
     "text": [
      "Index(['names', 'ages'], dtype='object')\n"
     ]
    }
   ],
   "source": [
    "headers = df.keys()\n",
    "print(headers)"
   ]
  },
  {
   "cell_type": "code",
   "execution_count": 23,
   "metadata": {},
   "outputs": [
    {
     "name": "stdout",
     "output_type": "stream",
     "text": [
      "(6, 2)\n"
     ]
    }
   ],
   "source": [
    "print(df.shape)"
   ]
  },
  {
   "cell_type": "code",
   "execution_count": 24,
   "metadata": {},
   "outputs": [
    {
     "data": {
      "text/html": [
       "<div>\n",
       "<style scoped>\n",
       "    .dataframe tbody tr th:only-of-type {\n",
       "        vertical-align: middle;\n",
       "    }\n",
       "\n",
       "    .dataframe tbody tr th {\n",
       "        vertical-align: top;\n",
       "    }\n",
       "\n",
       "    .dataframe thead th {\n",
       "        text-align: right;\n",
       "    }\n",
       "</style>\n",
       "<table border=\"1\" class=\"dataframe\">\n",
       "  <thead>\n",
       "    <tr style=\"text-align: right;\">\n",
       "      <th></th>\n",
       "      <th>ages</th>\n",
       "    </tr>\n",
       "  </thead>\n",
       "  <tbody>\n",
       "    <tr>\n",
       "      <th>count</th>\n",
       "      <td>6.000000</td>\n",
       "    </tr>\n",
       "    <tr>\n",
       "      <th>mean</th>\n",
       "      <td>27.333333</td>\n",
       "    </tr>\n",
       "    <tr>\n",
       "      <th>std</th>\n",
       "      <td>6.022181</td>\n",
       "    </tr>\n",
       "    <tr>\n",
       "      <th>min</th>\n",
       "      <td>20.000000</td>\n",
       "    </tr>\n",
       "    <tr>\n",
       "      <th>25%</th>\n",
       "      <td>22.750000</td>\n",
       "    </tr>\n",
       "    <tr>\n",
       "      <th>50%</th>\n",
       "      <td>27.000000</td>\n",
       "    </tr>\n",
       "    <tr>\n",
       "      <th>75%</th>\n",
       "      <td>32.000000</td>\n",
       "    </tr>\n",
       "    <tr>\n",
       "      <th>max</th>\n",
       "      <td>35.000000</td>\n",
       "    </tr>\n",
       "  </tbody>\n",
       "</table>\n",
       "</div>"
      ],
      "text/plain": [
       "            ages\n",
       "count   6.000000\n",
       "mean   27.333333\n",
       "std     6.022181\n",
       "min    20.000000\n",
       "25%    22.750000\n",
       "50%    27.000000\n",
       "75%    32.000000\n",
       "max    35.000000"
      ]
     },
     "execution_count": 24,
     "metadata": {},
     "output_type": "execute_result"
    }
   ],
   "source": [
    "df.describe()"
   ]
  },
  {
   "cell_type": "code",
   "execution_count": 25,
   "metadata": {},
   "outputs": [
    {
     "data": {
      "text/html": [
       "<div>\n",
       "<style scoped>\n",
       "    .dataframe tbody tr th:only-of-type {\n",
       "        vertical-align: middle;\n",
       "    }\n",
       "\n",
       "    .dataframe tbody tr th {\n",
       "        vertical-align: top;\n",
       "    }\n",
       "\n",
       "    .dataframe thead th {\n",
       "        text-align: right;\n",
       "    }\n",
       "</style>\n",
       "<table border=\"1\" class=\"dataframe\">\n",
       "  <thead>\n",
       "    <tr style=\"text-align: right;\">\n",
       "      <th></th>\n",
       "      <th>names</th>\n",
       "      <th>ages</th>\n",
       "    </tr>\n",
       "  </thead>\n",
       "  <tbody>\n",
       "    <tr>\n",
       "      <th>0</th>\n",
       "      <td>Jess</td>\n",
       "      <td>25</td>\n",
       "    </tr>\n",
       "    <tr>\n",
       "      <th>1</th>\n",
       "      <td>Jordan</td>\n",
       "      <td>35</td>\n",
       "    </tr>\n",
       "    <tr>\n",
       "      <th>2</th>\n",
       "      <td>Sandy</td>\n",
       "      <td>22</td>\n",
       "    </tr>\n",
       "    <tr>\n",
       "      <th>3</th>\n",
       "      <td>Ted</td>\n",
       "      <td>29</td>\n",
       "    </tr>\n",
       "    <tr>\n",
       "      <th>4</th>\n",
       "      <td>Barney</td>\n",
       "      <td>33</td>\n",
       "    </tr>\n",
       "  </tbody>\n",
       "</table>\n",
       "</div>"
      ],
      "text/plain": [
       "    names  ages\n",
       "0    Jess    25\n",
       "1  Jordan    35\n",
       "2   Sandy    22\n",
       "3     Ted    29\n",
       "4  Barney    33"
      ]
     },
     "execution_count": 25,
     "metadata": {},
     "output_type": "execute_result"
    }
   ],
   "source": [
    "df.sort_values(\"ages\")\n",
    "df.head(5)"
   ]
  },
  {
   "cell_type": "code",
   "execution_count": 27,
   "metadata": {},
   "outputs": [
    {
     "name": "stdout",
     "output_type": "stream",
     "text": [
      "0     True\n",
      "1     True\n",
      "2     True\n",
      "3     True\n",
      "4     True\n",
      "5    False\n",
      "Name: ages, dtype: bool\n"
     ]
    }
   ],
   "source": [
    "can_drink = df[\"ages\"] > 21\n",
    "print(can_drink)"
   ]
  },
  {
   "cell_type": "code",
   "execution_count": 28,
   "metadata": {},
   "outputs": [
    {
     "data": {
      "text/html": [
       "<div>\n",
       "<style scoped>\n",
       "    .dataframe tbody tr th:only-of-type {\n",
       "        vertical-align: middle;\n",
       "    }\n",
       "\n",
       "    .dataframe tbody tr th {\n",
       "        vertical-align: top;\n",
       "    }\n",
       "\n",
       "    .dataframe thead th {\n",
       "        text-align: right;\n",
       "    }\n",
       "</style>\n",
       "<table border=\"1\" class=\"dataframe\">\n",
       "  <thead>\n",
       "    <tr style=\"text-align: right;\">\n",
       "      <th></th>\n",
       "      <th>names</th>\n",
       "      <th>ages</th>\n",
       "    </tr>\n",
       "  </thead>\n",
       "  <tbody>\n",
       "    <tr>\n",
       "      <th>0</th>\n",
       "      <td>Jess</td>\n",
       "      <td>25</td>\n",
       "    </tr>\n",
       "    <tr>\n",
       "      <th>1</th>\n",
       "      <td>Jordan</td>\n",
       "      <td>35</td>\n",
       "    </tr>\n",
       "    <tr>\n",
       "      <th>2</th>\n",
       "      <td>Sandy</td>\n",
       "      <td>22</td>\n",
       "    </tr>\n",
       "    <tr>\n",
       "      <th>3</th>\n",
       "      <td>Ted</td>\n",
       "      <td>29</td>\n",
       "    </tr>\n",
       "    <tr>\n",
       "      <th>4</th>\n",
       "      <td>Barney</td>\n",
       "      <td>33</td>\n",
       "    </tr>\n",
       "  </tbody>\n",
       "</table>\n",
       "</div>"
      ],
      "text/plain": [
       "    names  ages\n",
       "0    Jess    25\n",
       "1  Jordan    35\n",
       "2   Sandy    22\n",
       "3     Ted    29\n",
       "4  Barney    33"
      ]
     },
     "execution_count": 28,
     "metadata": {},
     "output_type": "execute_result"
    }
   ],
   "source": [
    "df[df[\"ages\"] > 21]"
   ]
  },
  {
   "cell_type": "code",
   "execution_count": 29,
   "metadata": {},
   "outputs": [
    {
     "data": {
      "text/html": [
       "<div>\n",
       "<style scoped>\n",
       "    .dataframe tbody tr th:only-of-type {\n",
       "        vertical-align: middle;\n",
       "    }\n",
       "\n",
       "    .dataframe tbody tr th {\n",
       "        vertical-align: top;\n",
       "    }\n",
       "\n",
       "    .dataframe thead th {\n",
       "        text-align: right;\n",
       "    }\n",
       "</style>\n",
       "<table border=\"1\" class=\"dataframe\">\n",
       "  <thead>\n",
       "    <tr style=\"text-align: right;\">\n",
       "      <th></th>\n",
       "      <th>names</th>\n",
       "      <th>ages</th>\n",
       "      <th>tenure</th>\n",
       "    </tr>\n",
       "  </thead>\n",
       "  <tbody>\n",
       "    <tr>\n",
       "      <th>0</th>\n",
       "      <td>Jess</td>\n",
       "      <td>25</td>\n",
       "      <td>4</td>\n",
       "    </tr>\n",
       "    <tr>\n",
       "      <th>1</th>\n",
       "      <td>Jordan</td>\n",
       "      <td>35</td>\n",
       "      <td>6</td>\n",
       "    </tr>\n",
       "    <tr>\n",
       "      <th>2</th>\n",
       "      <td>Sandy</td>\n",
       "      <td>22</td>\n",
       "      <td>2</td>\n",
       "    </tr>\n",
       "    <tr>\n",
       "      <th>3</th>\n",
       "      <td>Ted</td>\n",
       "      <td>29</td>\n",
       "      <td>5</td>\n",
       "    </tr>\n",
       "    <tr>\n",
       "      <th>4</th>\n",
       "      <td>Barney</td>\n",
       "      <td>33</td>\n",
       "      <td>8</td>\n",
       "    </tr>\n",
       "  </tbody>\n",
       "</table>\n",
       "</div>"
      ],
      "text/plain": [
       "    names  ages  tenure\n",
       "0    Jess    25       4\n",
       "1  Jordan    35       6\n",
       "2   Sandy    22       2\n",
       "3     Ted    29       5\n",
       "4  Barney    33       8"
      ]
     },
     "execution_count": 29,
     "metadata": {},
     "output_type": "execute_result"
    }
   ],
   "source": [
    "random.seed(321)\n",
    "tenure = [random.randint(0, 10) for x in range(len(df))]\n",
    "df[\"tenure\"] = tenure\n",
    "df.head()"
   ]
  },
  {
   "cell_type": "code",
   "execution_count": 30,
   "metadata": {},
   "outputs": [
    {
     "data": {
      "text/html": [
       "<div>\n",
       "<style scoped>\n",
       "    .dataframe tbody tr th:only-of-type {\n",
       "        vertical-align: middle;\n",
       "    }\n",
       "\n",
       "    .dataframe tbody tr th {\n",
       "        vertical-align: top;\n",
       "    }\n",
       "\n",
       "    .dataframe thead th {\n",
       "        text-align: right;\n",
       "    }\n",
       "</style>\n",
       "<table border=\"1\" class=\"dataframe\">\n",
       "  <thead>\n",
       "    <tr style=\"text-align: right;\">\n",
       "      <th></th>\n",
       "      <th>names</th>\n",
       "      <th>ages</th>\n",
       "      <th>tenure</th>\n",
       "      <th>age_group</th>\n",
       "    </tr>\n",
       "  </thead>\n",
       "  <tbody>\n",
       "    <tr>\n",
       "      <th>0</th>\n",
       "      <td>Jess</td>\n",
       "      <td>25</td>\n",
       "      <td>4</td>\n",
       "      <td>Adult</td>\n",
       "    </tr>\n",
       "    <tr>\n",
       "      <th>1</th>\n",
       "      <td>Jordan</td>\n",
       "      <td>35</td>\n",
       "      <td>6</td>\n",
       "      <td>Adult</td>\n",
       "    </tr>\n",
       "    <tr>\n",
       "      <th>2</th>\n",
       "      <td>Sandy</td>\n",
       "      <td>22</td>\n",
       "      <td>2</td>\n",
       "      <td>Adult</td>\n",
       "    </tr>\n",
       "    <tr>\n",
       "      <th>3</th>\n",
       "      <td>Ted</td>\n",
       "      <td>29</td>\n",
       "      <td>5</td>\n",
       "      <td>Adult</td>\n",
       "    </tr>\n",
       "    <tr>\n",
       "      <th>4</th>\n",
       "      <td>Barney</td>\n",
       "      <td>33</td>\n",
       "      <td>8</td>\n",
       "      <td>Adult</td>\n",
       "    </tr>\n",
       "    <tr>\n",
       "      <th>5</th>\n",
       "      <td>Rebecca</td>\n",
       "      <td>20</td>\n",
       "      <td>7</td>\n",
       "      <td>Teenager</td>\n",
       "    </tr>\n",
       "  </tbody>\n",
       "</table>\n",
       "</div>"
      ],
      "text/plain": [
       "     names  ages  tenure age_group\n",
       "0     Jess    25       4     Adult\n",
       "1   Jordan    35       6     Adult\n",
       "2    Sandy    22       2     Adult\n",
       "3      Ted    29       5     Adult\n",
       "4   Barney    33       8     Adult\n",
       "5  Rebecca    20       7  Teenager"
      ]
     },
     "execution_count": 30,
     "metadata": {},
     "output_type": "execute_result"
    }
   ],
   "source": [
    "def ageGroup(age):\n",
    "    return \"Teenager\" if age < 21 else \"Adult\"\n",
    "\n",
    "df[\"age_group\"] = df[\"ages\"].apply(ageGroup)\n",
    "df.head(10)"
   ]
  },
  {
   "cell_type": "code",
   "execution_count": 31,
   "metadata": {},
   "outputs": [
    {
     "data": {
      "text/html": [
       "<div>\n",
       "<style scoped>\n",
       "    .dataframe tbody tr th:only-of-type {\n",
       "        vertical-align: middle;\n",
       "    }\n",
       "\n",
       "    .dataframe tbody tr th {\n",
       "        vertical-align: top;\n",
       "    }\n",
       "\n",
       "    .dataframe thead th {\n",
       "        text-align: right;\n",
       "    }\n",
       "</style>\n",
       "<table border=\"1\" class=\"dataframe\">\n",
       "  <thead>\n",
       "    <tr style=\"text-align: right;\">\n",
       "      <th></th>\n",
       "      <th>age_group</th>\n",
       "      <th>names</th>\n",
       "      <th>ages</th>\n",
       "      <th>tenure</th>\n",
       "    </tr>\n",
       "  </thead>\n",
       "  <tbody>\n",
       "    <tr>\n",
       "      <th>0</th>\n",
       "      <td>Adult</td>\n",
       "      <td>5</td>\n",
       "      <td>5</td>\n",
       "      <td>5</td>\n",
       "    </tr>\n",
       "    <tr>\n",
       "      <th>1</th>\n",
       "      <td>Teenager</td>\n",
       "      <td>1</td>\n",
       "      <td>1</td>\n",
       "      <td>1</td>\n",
       "    </tr>\n",
       "  </tbody>\n",
       "</table>\n",
       "</div>"
      ],
      "text/plain": [
       "  age_group  names  ages  tenure\n",
       "0     Adult      5     5       5\n",
       "1  Teenager      1     1       1"
      ]
     },
     "execution_count": 31,
     "metadata": {},
     "output_type": "execute_result"
    }
   ],
   "source": [
    "df.groupby(\"age_group\", as_index=False).count().head()"
   ]
  },
  {
   "cell_type": "code",
   "execution_count": 32,
   "metadata": {},
   "outputs": [
    {
     "data": {
      "text/html": [
       "<div>\n",
       "<style scoped>\n",
       "    .dataframe tbody tr th:only-of-type {\n",
       "        vertical-align: middle;\n",
       "    }\n",
       "\n",
       "    .dataframe tbody tr th {\n",
       "        vertical-align: top;\n",
       "    }\n",
       "\n",
       "    .dataframe thead th {\n",
       "        text-align: right;\n",
       "    }\n",
       "</style>\n",
       "<table border=\"1\" class=\"dataframe\">\n",
       "  <thead>\n",
       "    <tr style=\"text-align: right;\">\n",
       "      <th></th>\n",
       "      <th>age_group</th>\n",
       "      <th>ages</th>\n",
       "      <th>tenure</th>\n",
       "    </tr>\n",
       "  </thead>\n",
       "  <tbody>\n",
       "    <tr>\n",
       "      <th>0</th>\n",
       "      <td>Adult</td>\n",
       "      <td>28.8</td>\n",
       "      <td>5.0</td>\n",
       "    </tr>\n",
       "    <tr>\n",
       "      <th>1</th>\n",
       "      <td>Teenager</td>\n",
       "      <td>20.0</td>\n",
       "      <td>7.0</td>\n",
       "    </tr>\n",
       "  </tbody>\n",
       "</table>\n",
       "</div>"
      ],
      "text/plain": [
       "  age_group  ages  tenure\n",
       "0     Adult  28.8     5.0\n",
       "1  Teenager  20.0     7.0"
      ]
     },
     "execution_count": 32,
     "metadata": {},
     "output_type": "execute_result"
    }
   ],
   "source": [
    "df.groupby(\"age_group\", as_index=False).mean().head()"
   ]
  },
  {
   "cell_type": "code",
   "execution_count": 33,
   "metadata": {},
   "outputs": [
    {
     "data": {
      "text/html": [
       "<div>\n",
       "<style scoped>\n",
       "    .dataframe tbody tr th:only-of-type {\n",
       "        vertical-align: middle;\n",
       "    }\n",
       "\n",
       "    .dataframe tbody tr th {\n",
       "        vertical-align: top;\n",
       "    }\n",
       "\n",
       "    .dataframe thead th {\n",
       "        text-align: right;\n",
       "    }\n",
       "</style>\n",
       "<table border=\"1\" class=\"dataframe\">\n",
       "  <thead>\n",
       "    <tr style=\"text-align: right;\">\n",
       "      <th></th>\n",
       "      <th>age_group</th>\n",
       "      <th>tenure</th>\n",
       "      <th>names</th>\n",
       "      <th>ages</th>\n",
       "    </tr>\n",
       "  </thead>\n",
       "  <tbody>\n",
       "    <tr>\n",
       "      <th>0</th>\n",
       "      <td>Adult</td>\n",
       "      <td>2</td>\n",
       "      <td>1</td>\n",
       "      <td>1</td>\n",
       "    </tr>\n",
       "    <tr>\n",
       "      <th>1</th>\n",
       "      <td>Adult</td>\n",
       "      <td>4</td>\n",
       "      <td>1</td>\n",
       "      <td>1</td>\n",
       "    </tr>\n",
       "    <tr>\n",
       "      <th>2</th>\n",
       "      <td>Adult</td>\n",
       "      <td>5</td>\n",
       "      <td>1</td>\n",
       "      <td>1</td>\n",
       "    </tr>\n",
       "    <tr>\n",
       "      <th>3</th>\n",
       "      <td>Adult</td>\n",
       "      <td>6</td>\n",
       "      <td>1</td>\n",
       "      <td>1</td>\n",
       "    </tr>\n",
       "    <tr>\n",
       "      <th>4</th>\n",
       "      <td>Adult</td>\n",
       "      <td>8</td>\n",
       "      <td>1</td>\n",
       "      <td>1</td>\n",
       "    </tr>\n",
       "    <tr>\n",
       "      <th>5</th>\n",
       "      <td>Teenager</td>\n",
       "      <td>7</td>\n",
       "      <td>1</td>\n",
       "      <td>1</td>\n",
       "    </tr>\n",
       "  </tbody>\n",
       "</table>\n",
       "</div>"
      ],
      "text/plain": [
       "  age_group  tenure  names  ages\n",
       "0     Adult       2      1     1\n",
       "1     Adult       4      1     1\n",
       "2     Adult       5      1     1\n",
       "3     Adult       6      1     1\n",
       "4     Adult       8      1     1\n",
       "5  Teenager       7      1     1"
      ]
     },
     "execution_count": 33,
     "metadata": {},
     "output_type": "execute_result"
    }
   ],
   "source": [
    "df.groupby([\"age_group\", \"tenure\"], as_index=False).count().head(10)"
   ]
  },
  {
   "cell_type": "code",
   "execution_count": 35,
   "metadata": {},
   "outputs": [
    {
     "data": {
      "text/html": [
       "<div>\n",
       "<style scoped>\n",
       "    .dataframe tbody tr th:only-of-type {\n",
       "        vertical-align: middle;\n",
       "    }\n",
       "\n",
       "    .dataframe tbody tr th {\n",
       "        vertical-align: top;\n",
       "    }\n",
       "\n",
       "    .dataframe thead th {\n",
       "        text-align: right;\n",
       "    }\n",
       "</style>\n",
       "<table border=\"1\" class=\"dataframe\">\n",
       "  <thead>\n",
       "    <tr style=\"text-align: right;\">\n",
       "      <th></th>\n",
       "      <th>names</th>\n",
       "      <th>ages</th>\n",
       "      <th>tenure</th>\n",
       "      <th>age_group</th>\n",
       "    </tr>\n",
       "  </thead>\n",
       "  <tbody>\n",
       "    <tr>\n",
       "      <th>0</th>\n",
       "      <td>Jess</td>\n",
       "      <td>25</td>\n",
       "      <td>4</td>\n",
       "      <td>Adult</td>\n",
       "    </tr>\n",
       "    <tr>\n",
       "      <th>1</th>\n",
       "      <td>Jordan</td>\n",
       "      <td>35</td>\n",
       "      <td>6</td>\n",
       "      <td>Adult</td>\n",
       "    </tr>\n",
       "    <tr>\n",
       "      <th>2</th>\n",
       "      <td>Sandy</td>\n",
       "      <td>22</td>\n",
       "      <td>2</td>\n",
       "      <td>Adult</td>\n",
       "    </tr>\n",
       "    <tr>\n",
       "      <th>3</th>\n",
       "      <td>Ted</td>\n",
       "      <td>29</td>\n",
       "      <td>5</td>\n",
       "      <td>Adult</td>\n",
       "    </tr>\n",
       "    <tr>\n",
       "      <th>4</th>\n",
       "      <td>Barney</td>\n",
       "      <td>33</td>\n",
       "      <td>8</td>\n",
       "      <td>Adult</td>\n",
       "    </tr>\n",
       "    <tr>\n",
       "      <th>5</th>\n",
       "      <td>Rebecca</td>\n",
       "      <td>20</td>\n",
       "      <td>7</td>\n",
       "      <td>Teenager</td>\n",
       "    </tr>\n",
       "    <tr>\n",
       "      <th>7</th>\n",
       "      <td>Jess</td>\n",
       "      <td>25</td>\n",
       "      <td>2</td>\n",
       "      <td>Adult</td>\n",
       "    </tr>\n",
       "  </tbody>\n",
       "</table>\n",
       "</div>"
      ],
      "text/plain": [
       "     names  ages  tenure age_group\n",
       "0     Jess    25       4     Adult\n",
       "1   Jordan    35       6     Adult\n",
       "2    Sandy    22       2     Adult\n",
       "3      Ted    29       5     Adult\n",
       "4   Barney    33       8     Adult\n",
       "5  Rebecca    20       7  Teenager\n",
       "7     Jess    25       2     Adult"
      ]
     },
     "execution_count": 35,
     "metadata": {},
     "output_type": "execute_result"
    }
   ],
   "source": [
    "df.loc[7] = [\"Jess\", 25, 2, \"Adult\"]\n",
    "df.head(10)"
   ]
  },
  {
   "cell_type": "code",
   "execution_count": 37,
   "metadata": {},
   "outputs": [
    {
     "data": {
      "text/html": [
       "<div>\n",
       "<style scoped>\n",
       "    .dataframe tbody tr th:only-of-type {\n",
       "        vertical-align: middle;\n",
       "    }\n",
       "\n",
       "    .dataframe tbody tr th {\n",
       "        vertical-align: top;\n",
       "    }\n",
       "\n",
       "    .dataframe thead th {\n",
       "        text-align: right;\n",
       "    }\n",
       "</style>\n",
       "<table border=\"1\" class=\"dataframe\">\n",
       "  <thead>\n",
       "    <tr style=\"text-align: right;\">\n",
       "      <th></th>\n",
       "      <th>names</th>\n",
       "      <th>ages</th>\n",
       "      <th>tenure</th>\n",
       "      <th>age_group</th>\n",
       "    </tr>\n",
       "  </thead>\n",
       "  <tbody>\n",
       "    <tr>\n",
       "      <th>0</th>\n",
       "      <td>Jess</td>\n",
       "      <td>25</td>\n",
       "      <td>4</td>\n",
       "      <td>Adult</td>\n",
       "    </tr>\n",
       "    <tr>\n",
       "      <th>1</th>\n",
       "      <td>Jordan</td>\n",
       "      <td>35</td>\n",
       "      <td>6</td>\n",
       "      <td>Adult</td>\n",
       "    </tr>\n",
       "    <tr>\n",
       "      <th>2</th>\n",
       "      <td>Sandy</td>\n",
       "      <td>22</td>\n",
       "      <td>2</td>\n",
       "      <td>Adult</td>\n",
       "    </tr>\n",
       "    <tr>\n",
       "      <th>3</th>\n",
       "      <td>Ted</td>\n",
       "      <td>29</td>\n",
       "      <td>5</td>\n",
       "      <td>Adult</td>\n",
       "    </tr>\n",
       "    <tr>\n",
       "      <th>4</th>\n",
       "      <td>Barney</td>\n",
       "      <td>33</td>\n",
       "      <td>8</td>\n",
       "      <td>Adult</td>\n",
       "    </tr>\n",
       "    <tr>\n",
       "      <th>5</th>\n",
       "      <td>Rebecca</td>\n",
       "      <td>20</td>\n",
       "      <td>7</td>\n",
       "      <td>Teenager</td>\n",
       "    </tr>\n",
       "    <tr>\n",
       "      <th>7</th>\n",
       "      <td>Jess</td>\n",
       "      <td>25</td>\n",
       "      <td>2</td>\n",
       "      <td>Adult</td>\n",
       "    </tr>\n",
       "  </tbody>\n",
       "</table>\n",
       "</div>"
      ],
      "text/plain": [
       "     names  ages  tenure age_group\n",
       "0     Jess    25       4     Adult\n",
       "1   Jordan    35       6     Adult\n",
       "2    Sandy    22       2     Adult\n",
       "3      Ted    29       5     Adult\n",
       "4   Barney    33       8     Adult\n",
       "5  Rebecca    20       7  Teenager\n",
       "7     Jess    25       2     Adult"
      ]
     },
     "execution_count": 37,
     "metadata": {},
     "output_type": "execute_result"
    }
   ],
   "source": [
    "df.drop_duplicates(subset=\"names\")\n",
    "df.head(10)"
   ]
  },
  {
   "cell_type": "code",
   "execution_count": 38,
   "metadata": {},
   "outputs": [
    {
     "data": {
      "text/html": [
       "<div>\n",
       "<style scoped>\n",
       "    .dataframe tbody tr th:only-of-type {\n",
       "        vertical-align: middle;\n",
       "    }\n",
       "\n",
       "    .dataframe tbody tr th {\n",
       "        vertical-align: top;\n",
       "    }\n",
       "\n",
       "    .dataframe thead th {\n",
       "        text-align: right;\n",
       "    }\n",
       "</style>\n",
       "<table border=\"1\" class=\"dataframe\">\n",
       "  <thead>\n",
       "    <tr style=\"text-align: right;\">\n",
       "      <th></th>\n",
       "      <th>names</th>\n",
       "      <th>ratings</th>\n",
       "    </tr>\n",
       "  </thead>\n",
       "  <tbody>\n",
       "    <tr>\n",
       "      <th>0</th>\n",
       "      <td>Jess</td>\n",
       "      <td>10</td>\n",
       "    </tr>\n",
       "    <tr>\n",
       "      <th>1</th>\n",
       "      <td>Tyler</td>\n",
       "      <td>9</td>\n",
       "    </tr>\n",
       "    <tr>\n",
       "      <th>2</th>\n",
       "      <td>Ted</td>\n",
       "      <td>6</td>\n",
       "    </tr>\n",
       "  </tbody>\n",
       "</table>\n",
       "</div>"
      ],
      "text/plain": [
       "   names  ratings\n",
       "0   Jess       10\n",
       "1  Tyler        9\n",
       "2    Ted        6"
      ]
     },
     "execution_count": 38,
     "metadata": {},
     "output_type": "execute_result"
    }
   ],
   "source": [
    "ratings = {\n",
    "    \"names\": [\"Jess\", \"Tyler\", \"Ted\"],\n",
    "    \"ratings\": [10, 9, 6]\n",
    "}\n",
    "ratings = df.from_dict(ratings)\n",
    "ratings.head(10)"
   ]
  },
  {
   "cell_type": "code",
   "execution_count": 39,
   "metadata": {},
   "outputs": [
    {
     "data": {
      "text/html": [
       "<div>\n",
       "<style scoped>\n",
       "    .dataframe tbody tr th:only-of-type {\n",
       "        vertical-align: middle;\n",
       "    }\n",
       "\n",
       "    .dataframe tbody tr th {\n",
       "        vertical-align: top;\n",
       "    }\n",
       "\n",
       "    .dataframe thead th {\n",
       "        text-align: right;\n",
       "    }\n",
       "</style>\n",
       "<table border=\"1\" class=\"dataframe\">\n",
       "  <thead>\n",
       "    <tr style=\"text-align: right;\">\n",
       "      <th></th>\n",
       "      <th>names</th>\n",
       "      <th>ages</th>\n",
       "      <th>tenure</th>\n",
       "      <th>age_group</th>\n",
       "      <th>ratings</th>\n",
       "    </tr>\n",
       "  </thead>\n",
       "  <tbody>\n",
       "    <tr>\n",
       "      <th>0</th>\n",
       "      <td>Jess</td>\n",
       "      <td>25</td>\n",
       "      <td>4</td>\n",
       "      <td>Adult</td>\n",
       "      <td>10</td>\n",
       "    </tr>\n",
       "    <tr>\n",
       "      <th>1</th>\n",
       "      <td>Jess</td>\n",
       "      <td>25</td>\n",
       "      <td>2</td>\n",
       "      <td>Adult</td>\n",
       "      <td>10</td>\n",
       "    </tr>\n",
       "    <tr>\n",
       "      <th>2</th>\n",
       "      <td>Ted</td>\n",
       "      <td>29</td>\n",
       "      <td>5</td>\n",
       "      <td>Adult</td>\n",
       "      <td>6</td>\n",
       "    </tr>\n",
       "  </tbody>\n",
       "</table>\n",
       "</div>"
      ],
      "text/plain": [
       "  names  ages  tenure age_group  ratings\n",
       "0  Jess    25       4     Adult       10\n",
       "1  Jess    25       2     Adult       10\n",
       "2   Ted    29       5     Adult        6"
      ]
     },
     "execution_count": 39,
     "metadata": {},
     "output_type": "execute_result"
    }
   ],
   "source": [
    "matched_ratings = df.merge(ratings, on=\"names\", how=\"inner\")\n",
    "matched_ratings.head(10)"
   ]
  },
  {
   "cell_type": "code",
   "execution_count": 40,
   "metadata": {},
   "outputs": [
    {
     "data": {
      "text/html": [
       "<div>\n",
       "<style scoped>\n",
       "    .dataframe tbody tr th:only-of-type {\n",
       "        vertical-align: middle;\n",
       "    }\n",
       "\n",
       "    .dataframe tbody tr th {\n",
       "        vertical-align: top;\n",
       "    }\n",
       "\n",
       "    .dataframe thead th {\n",
       "        text-align: right;\n",
       "    }\n",
       "</style>\n",
       "<table border=\"1\" class=\"dataframe\">\n",
       "  <thead>\n",
       "    <tr style=\"text-align: right;\">\n",
       "      <th></th>\n",
       "      <th>names</th>\n",
       "      <th>ages</th>\n",
       "      <th>tenure</th>\n",
       "      <th>age_group</th>\n",
       "      <th>ratings</th>\n",
       "    </tr>\n",
       "  </thead>\n",
       "  <tbody>\n",
       "    <tr>\n",
       "      <th>0</th>\n",
       "      <td>Jess</td>\n",
       "      <td>25.0</td>\n",
       "      <td>4.0</td>\n",
       "      <td>Adult</td>\n",
       "      <td>10.0</td>\n",
       "    </tr>\n",
       "    <tr>\n",
       "      <th>1</th>\n",
       "      <td>Jess</td>\n",
       "      <td>25.0</td>\n",
       "      <td>2.0</td>\n",
       "      <td>Adult</td>\n",
       "      <td>10.0</td>\n",
       "    </tr>\n",
       "    <tr>\n",
       "      <th>2</th>\n",
       "      <td>Jordan</td>\n",
       "      <td>35.0</td>\n",
       "      <td>6.0</td>\n",
       "      <td>Adult</td>\n",
       "      <td>NaN</td>\n",
       "    </tr>\n",
       "    <tr>\n",
       "      <th>3</th>\n",
       "      <td>Sandy</td>\n",
       "      <td>22.0</td>\n",
       "      <td>2.0</td>\n",
       "      <td>Adult</td>\n",
       "      <td>NaN</td>\n",
       "    </tr>\n",
       "    <tr>\n",
       "      <th>4</th>\n",
       "      <td>Ted</td>\n",
       "      <td>29.0</td>\n",
       "      <td>5.0</td>\n",
       "      <td>Adult</td>\n",
       "      <td>6.0</td>\n",
       "    </tr>\n",
       "    <tr>\n",
       "      <th>5</th>\n",
       "      <td>Barney</td>\n",
       "      <td>33.0</td>\n",
       "      <td>8.0</td>\n",
       "      <td>Adult</td>\n",
       "      <td>NaN</td>\n",
       "    </tr>\n",
       "    <tr>\n",
       "      <th>6</th>\n",
       "      <td>Rebecca</td>\n",
       "      <td>20.0</td>\n",
       "      <td>7.0</td>\n",
       "      <td>Teenager</td>\n",
       "      <td>NaN</td>\n",
       "    </tr>\n",
       "    <tr>\n",
       "      <th>7</th>\n",
       "      <td>Tyler</td>\n",
       "      <td>NaN</td>\n",
       "      <td>NaN</td>\n",
       "      <td>NaN</td>\n",
       "      <td>9.0</td>\n",
       "    </tr>\n",
       "  </tbody>\n",
       "</table>\n",
       "</div>"
      ],
      "text/plain": [
       "     names  ages  tenure age_group  ratings\n",
       "0     Jess  25.0     4.0     Adult     10.0\n",
       "1     Jess  25.0     2.0     Adult     10.0\n",
       "2   Jordan  35.0     6.0     Adult      NaN\n",
       "3    Sandy  22.0     2.0     Adult      NaN\n",
       "4      Ted  29.0     5.0     Adult      6.0\n",
       "5   Barney  33.0     8.0     Adult      NaN\n",
       "6  Rebecca  20.0     7.0  Teenager      NaN\n",
       "7    Tyler   NaN     NaN       NaN      9.0"
      ]
     },
     "execution_count": 40,
     "metadata": {},
     "output_type": "execute_result"
    }
   ],
   "source": [
    "all_ratings = df.merge(ratings, on=\"names\", how=\"outer\")\n",
    "all_ratings.head(10)"
   ]
  },
  {
   "cell_type": "code",
   "execution_count": null,
   "metadata": {},
   "outputs": [],
   "source": [
    "# 282"
   ]
  }
 ],
 "metadata": {
  "kernelspec": {
   "display_name": "Python 3",
   "language": "python",
   "name": "python3"
  },
  "language_info": {
   "codemirror_mode": {
    "name": "ipython",
    "version": 3
   },
   "file_extension": ".py",
   "mimetype": "text/x-python",
   "name": "python",
   "nbconvert_exporter": "python",
   "pygments_lexer": "ipython3",
   "version": "3.8.5"
  }
 },
 "nbformat": 4,
 "nbformat_minor": 4
}
